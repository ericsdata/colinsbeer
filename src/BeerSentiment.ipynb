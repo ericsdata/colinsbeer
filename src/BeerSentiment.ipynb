{
  "nbformat": 4,
  "nbformat_minor": 0,
  "metadata": {
    "colab": {
      "name": "BeerSentiment.ipynb",
      "provenance": [],
      "authorship_tag": "ABX9TyPnlpWoWFeoB+xiHdcFhO4u",
      "include_colab_link": true
    },
    "kernelspec": {
      "name": "python3",
      "display_name": "Python 3"
    },
    "language_info": {
      "name": "python"
    },
    "accelerator": "TPU"
  },
  "cells": [
    {
      "cell_type": "markdown",
      "metadata": {
        "id": "view-in-github",
        "colab_type": "text"
      },
      "source": [
        "<a href=\"https://colab.research.google.com/github/ericsdata/colinsbeer/blob/main/BeerSentiment.ipynb\" target=\"_parent\"><img src=\"https://colab.research.google.com/assets/colab-badge.svg\" alt=\"Open In Colab\"/></a>"
      ]
    },
    {
      "cell_type": "code",
      "metadata": {
        "id": "yCbB5_CjAY1e",
        "colab": {
          "base_uri": "https://localhost:8080/",
          "height": 424
        },
        "outputId": "ee911469-cc01-4432-c7bf-0bba2726225b"
      },
      "source": [
        "import os\n",
        "import pandas as pd\n",
        "\n",
        "dat = pd.read_csv(r'txt_train.csv')\n",
        "dat"
      ],
      "execution_count": 2,
      "outputs": [
        {
          "output_type": "execute_result",
          "data": {
            "text/html": [
              "<div>\n",
              "<style scoped>\n",
              "    .dataframe tbody tr th:only-of-type {\n",
              "        vertical-align: middle;\n",
              "    }\n",
              "\n",
              "    .dataframe tbody tr th {\n",
              "        vertical-align: top;\n",
              "    }\n",
              "\n",
              "    .dataframe thead th {\n",
              "        text-align: right;\n",
              "    }\n",
              "</style>\n",
              "<table border=\"1\" class=\"dataframe\">\n",
              "  <thead>\n",
              "    <tr style=\"text-align: right;\">\n",
              "      <th></th>\n",
              "      <th>review_text</th>\n",
              "      <th>good_score</th>\n",
              "    </tr>\n",
              "  </thead>\n",
              "  <tbody>\n",
              "    <tr>\n",
              "      <th>0</th>\n",
              "      <td>UPDATED: MAR 6, 2004 Amber, with a wonderful o...</td>\n",
              "      <td>0.0</td>\n",
              "    </tr>\n",
              "    <tr>\n",
              "      <th>1</th>\n",
              "      <td>I did not really like this beer.  Grainy, bitt...</td>\n",
              "      <td>0.0</td>\n",
              "    </tr>\n",
              "    <tr>\n",
              "      <th>2</th>\n",
              "      <td>I was quite pleased with this beer. I tried a ...</td>\n",
              "      <td>0.0</td>\n",
              "    </tr>\n",
              "    <tr>\n",
              "      <th>3</th>\n",
              "      <td>Tried UK 3% version in 440ml can.  Light in co...</td>\n",
              "      <td>0.0</td>\n",
              "    </tr>\n",
              "    <tr>\n",
              "      <th>4</th>\n",
              "      <td>Clean on the palate with a musty biscuity malt...</td>\n",
              "      <td>0.0</td>\n",
              "    </tr>\n",
              "    <tr>\n",
              "      <th>...</th>\n",
              "      <td>...</td>\n",
              "      <td>...</td>\n",
              "    </tr>\n",
              "    <tr>\n",
              "      <th>6995</th>\n",
              "      <td>Light Yellow Coloring.  Similiar to the Last.....</td>\n",
              "      <td>0.0</td>\n",
              "    </tr>\n",
              "    <tr>\n",
              "      <th>6996</th>\n",
              "      <td>UPDATED: FEB 3, 2004 Draught at The Rover, Got...</td>\n",
              "      <td>0.0</td>\n",
              "    </tr>\n",
              "    <tr>\n",
              "      <th>6997</th>\n",
              "      <td>Syrupy, molasses nose; caramel-Coke color; foa...</td>\n",
              "      <td>1.0</td>\n",
              "    </tr>\n",
              "    <tr>\n",
              "      <th>6998</th>\n",
              "      <td>Einbecker \"Schwarzbier\" is a ruby brown lager ...</td>\n",
              "      <td>0.0</td>\n",
              "    </tr>\n",
              "    <tr>\n",
              "      <th>6999</th>\n",
              "      <td>Small white rim over metallic copper-golden be...</td>\n",
              "      <td>0.0</td>\n",
              "    </tr>\n",
              "  </tbody>\n",
              "</table>\n",
              "<p>7000 rows × 2 columns</p>\n",
              "</div>"
            ],
            "text/plain": [
              "                                            review_text  good_score\n",
              "0     UPDATED: MAR 6, 2004 Amber, with a wonderful o...         0.0\n",
              "1     I did not really like this beer.  Grainy, bitt...         0.0\n",
              "2     I was quite pleased with this beer. I tried a ...         0.0\n",
              "3     Tried UK 3% version in 440ml can.  Light in co...         0.0\n",
              "4     Clean on the palate with a musty biscuity malt...         0.0\n",
              "...                                                 ...         ...\n",
              "6995  Light Yellow Coloring.  Similiar to the Last.....         0.0\n",
              "6996  UPDATED: FEB 3, 2004 Draught at The Rover, Got...         0.0\n",
              "6997  Syrupy, molasses nose; caramel-Coke color; foa...         1.0\n",
              "6998  Einbecker \"Schwarzbier\" is a ruby brown lager ...         0.0\n",
              "6999  Small white rim over metallic copper-golden be...         0.0\n",
              "\n",
              "[7000 rows x 2 columns]"
            ]
          },
          "metadata": {},
          "execution_count": 2
        }
      ]
    },
    {
      "cell_type": "code",
      "source": [
        "!pip install transformers"
      ],
      "metadata": {
        "colab": {
          "base_uri": "https://localhost:8080/"
        },
        "id": "PEWuRMeoZwZ_",
        "outputId": "99c79dbb-1a85-475a-9465-795f42f59707"
      },
      "execution_count": 3,
      "outputs": [
        {
          "output_type": "stream",
          "name": "stdout",
          "text": [
            "Requirement already satisfied: transformers in /usr/local/lib/python3.7/dist-packages (4.14.1)\n",
            "Requirement already satisfied: requests in /usr/local/lib/python3.7/dist-packages (from transformers) (2.23.0)\n",
            "Requirement already satisfied: tqdm>=4.27 in /usr/local/lib/python3.7/dist-packages (from transformers) (4.62.3)\n",
            "Requirement already satisfied: numpy>=1.17 in /usr/local/lib/python3.7/dist-packages (from transformers) (1.19.5)\n",
            "Requirement already satisfied: regex!=2019.12.17 in /usr/local/lib/python3.7/dist-packages (from transformers) (2019.12.20)\n",
            "Requirement already satisfied: packaging>=20.0 in /usr/local/lib/python3.7/dist-packages (from transformers) (21.3)\n",
            "Requirement already satisfied: tokenizers<0.11,>=0.10.1 in /usr/local/lib/python3.7/dist-packages (from transformers) (0.10.3)\n",
            "Requirement already satisfied: importlib-metadata in /usr/local/lib/python3.7/dist-packages (from transformers) (4.8.2)\n",
            "Requirement already satisfied: filelock in /usr/local/lib/python3.7/dist-packages (from transformers) (3.4.0)\n",
            "Requirement already satisfied: sacremoses in /usr/local/lib/python3.7/dist-packages (from transformers) (0.0.46)\n",
            "Requirement already satisfied: huggingface-hub<1.0,>=0.1.0 in /usr/local/lib/python3.7/dist-packages (from transformers) (0.2.1)\n",
            "Requirement already satisfied: pyyaml>=5.1 in /usr/local/lib/python3.7/dist-packages (from transformers) (6.0)\n",
            "Requirement already satisfied: typing-extensions>=3.7.4.3 in /usr/local/lib/python3.7/dist-packages (from huggingface-hub<1.0,>=0.1.0->transformers) (3.10.0.2)\n",
            "Requirement already satisfied: pyparsing!=3.0.5,>=2.0.2 in /usr/local/lib/python3.7/dist-packages (from packaging>=20.0->transformers) (3.0.6)\n",
            "Requirement already satisfied: zipp>=0.5 in /usr/local/lib/python3.7/dist-packages (from importlib-metadata->transformers) (3.6.0)\n",
            "Requirement already satisfied: idna<3,>=2.5 in /usr/local/lib/python3.7/dist-packages (from requests->transformers) (2.10)\n",
            "Requirement already satisfied: certifi>=2017.4.17 in /usr/local/lib/python3.7/dist-packages (from requests->transformers) (2021.10.8)\n",
            "Requirement already satisfied: chardet<4,>=3.0.2 in /usr/local/lib/python3.7/dist-packages (from requests->transformers) (3.0.4)\n",
            "Requirement already satisfied: urllib3!=1.25.0,!=1.25.1,<1.26,>=1.21.1 in /usr/local/lib/python3.7/dist-packages (from requests->transformers) (1.24.3)\n",
            "Requirement already satisfied: six in /usr/local/lib/python3.7/dist-packages (from sacremoses->transformers) (1.15.0)\n",
            "Requirement already satisfied: joblib in /usr/local/lib/python3.7/dist-packages (from sacremoses->transformers) (1.1.0)\n",
            "Requirement already satisfied: click in /usr/local/lib/python3.7/dist-packages (from sacremoses->transformers) (7.1.2)\n"
          ]
        }
      ]
    },
    {
      "cell_type": "code",
      "metadata": {
        "id": "SXCTEc4b4WAp"
      },
      "source": [
        "import tensorflow_datasets as tfds\n",
        "import tensorflow as tf\n",
        "import torch\n",
        "\n",
        "from transformers import AdamW, AutoTokenizer, AutoModelForSequenceClassification\n"
      ],
      "execution_count": 4,
      "outputs": []
    },
    {
      "cell_type": "code",
      "source": [
        "#batch"
      ],
      "metadata": {
        "colab": {
          "base_uri": "https://localhost:8080/"
        },
        "id": "iXPcm9Jqa6Cm",
        "outputId": "e5313d2c-8663-44bf-8a78-aad29b1bb29a"
      },
      "execution_count": null,
      "outputs": [
        {
          "output_type": "execute_result",
          "data": {
            "text/plain": [
              "['UPDATED: MAR 6, 2004 Amber, with a wonderful offwhite head. Has a sweet aroma from toffee and chocolate. Flavor is sweet, some toffee there as well. Has a mild finish, a nice surprise.',\n",
              " 'I did not really like this beer.  Grainy, bitter, not very fun to drink.  Also a little skunky, and Ive had this more than once so I dont think it was old.',\n",
              " \"I was quite pleased with this beer. I tried a couple a few years back when I was a young lad who didn't appreciate the 'finer things in life' and thought it was pretty bitter, but i'm glad I bought a 6 pack, especially for the cheap price. Your usual European lager really. Poured out nice golden, with a decent head. Decent malty flavour with a bitter hint, but no unbareable. Of course, it's not spectacular, but it was well worth it.\",\n",
              " \"Tried UK 3% version in 440ml can.  Light in colour kind of like piss.  Smells like toilet water, in fact, its worse than that.  Has a nasty weak chemical taste.  A very poor beer the worst I've had for quite some time.  Drain Pour, couldn't drink it all\",\n",
              " 'Clean on the palate with a musty biscuity maltiness, but it still just tastes cheap and overcarbonated.  I would probably not pick this up again.',\n",
              " 'Shenandoah Throwdown, growler, thanks wickedpete.  Small beige head atop hazy amber body.  Aroma is medium sweet, grapefruit/orange, some flower/perfume.  Taste is moderately sweet, grapefruit, some orange, bread.  Medium body, some acidity, light chalk.',\n",
              " 'Short stubby bottle from Morrissons clearance shelf. 4.8% ABV. Grainy aroma. Sweet, soft grainy pale lager with low carbonation. Some fruity character thats unwelcome. Cheap and nasty.',\n",
              " 'Straw color with a tall waxy looking white head. One simple ring of lace. Light pale malt, wort and hint of vinegar in the aroma. Light and mildly effervescent. Watery wort flavor with a light spicy/grassy/hoppy finish. This could be quite satisfying on a really warm day.',\n",
              " 'Notes of caramel sticky buns on the nose but very faint. Also grainy and slightly hoppy. Flavor followed. Not too bad. The pour is the best part - nice, clear, brown color with light brown, fluffy head.',\n",
              " 'A passable lager... meaning, Ill probably pass on it next time.  This pale yellow beer claims to be brewed with water, grains, hops, and yeast, but I suspect theyre counting corn as a grain.  Slightly skunky, sweet malt aroma bereft of hops.  Bready malts in the flavor, corn syrup, and a very modest bitterness. Finishes slightly sweet with a light tinny taste.<font size=-4><a href=http://www.ratebeer.com/Places/ShowPlace.asp? Plainfield, IL<font size=-1>',\n",
              " '***review from June 21, 2008***\\tAnother crap beer from the wonderful Beers Around the World mishap. Poured out a crystal clear medium hued solid gold brew, a small white cap, thin ropy lacing and retention just above a skim. The aromas was very dry and quite interesting somehow. Sort of sweet, a large grain content, plastic? and an odd underlying smell. The taste is less than appealing as it is very harsh and very watery with bad hops and a bit of metal. Comes across empty with a weak flavor similar to a light beer. Gassy and foamy too. Slight malt can be found in the aftertaste, which is unsavory. Why bother even finishing this?',\n",
              " 'Tap @ OTH.\\tPours dark brown with thick beige head.\\tAroma had plenty of roasted malts with some light notes of sweet dark fruits.\\tTaste is the same, leaning on the light watery mouthfeel. Malty with same fruit sweetness.\\tDrinkable and tasy for what it is.',\n",
              " 'tap at bishop arms, copenhagen. Clear yellow, small white head mild macroish hoppy aroma4 flavor is malty, bitter hoppy, sweet hoppy.',\n",
              " 'Black cherry, currant- fruityish, candy sugar taste.Seems more Belgian than German, except for the palate- it is thin and crisp, easily downable. On Tap at Yard House, coral Gables. $6.',\n",
              " 'The bottle poured a clear dark garnet colored beverage with a medium sized frothy off-white head that was mostly diminishing and left good lacing on the glass. The aroma had a predominantly malt presence with notes of dark bread and toasted grains. The body was medium with lively carbonation and a somewhat watery texture. The finish was average in length and was lightly astringent. The initial flavor was lightly sweet and as it matured it became lightly bitter in the finish.',\n",
              " 'I bought this from the LCBO because it was 6 pints for 10 bux. I was VERY surprised at just how good this beer is. Even though it is not on sale anymore, this is my new regular beer of choice.',\n",
              " 'Clear straw yellow with a thin white head.  Aroma of corn and dry pils maltiness.  Taste is cheap corn, grainy pale maltiness.  Lasting light bitterness.',\n",
              " 'Dark straw color with a foamy head. Aromas of light malt, herbal hops and apples. Faint and water flavors that include some graininess and a tart apple quality.',\n",
              " '(Bottle) Yellow colour, slightly hazy, with frothy white head. Fruity, wheaty nose with notes of citrus, honey and white bread. Fruity, wheaty taste with citrus (lemon, mandarin), white bread, floral hints of jasmin and white bread. Thin body, with just a touch of sweetness. Quite refreshing and better than expected.',\n",
              " 'Nothing special going on here. Poured dark brown with red edges. Ok initial head that disappeared before long, leaving only mediocre lacing. Aroma was very light coffee. Flavor was watered down coffee with a slightly grassy finish. Decent but not memorable.',\n",
              " 'Rather clear brownish black color with medium tan head.  This has a very roasted nutty aroma to it with some hoppiness included.  Malty taste with notes of caramelization, coffee, and a carbonated bubbly finish.    I liked this Dukel though it was deceptively labeled as a Schwartzbier.  Next thing you know Ill find a pale lager in a bottle labeled Imperial Stout, because its \"Sexier\".',\n",
              " '(Bottle)  Pours a mahogany body with a moderate off-white head.  Aroma of malt, berries, cherries, and marzipan.  Flavor of caramel, malt, raisins, and mild hops with a bitter finish.',\n",
              " 'Bottle. Nice head with good duration. Color is hazy pale golden. Aroma and tastw are wheat malt, citrus and notes of sugar.',\n",
              " '(Bottle 33 cl) Dark brown with a decent, light-brownish head. Very dry, aromatic hoppiness - not much sweetness from the dark malts. Some roasted notes and only a medium bitter finish. 080100',\n",
              " 'Schwarzbier label at ASS in Chapel Hill. Light brown with small white head.  I smell a drain pour. Taste it too. Maybe this is a bad bottle, but this beer is not very good.  Tastes like an alcoholic drink with no discernable flavor. Blah.',\n",
              " 'A skunky lemon aroma. Pale yellow color with a moderate head. Flavor is crisp but nothing much to it. This is basically a Heineken clone but for half the cost.',\n",
              " 'Bottled at RBESG-06, GTN. Dark brown with a beige head. A bit roasted nose, with caramel, sugar and fruity notes. The flavor is much the same, and finishes off with some bitterness and sweetness. Quite thin. (060826)',\n",
              " 'Typical pale lager. Not too bad but nothing special. On the sweet side. No hop or malt character.',\n",
              " \"Nice darker gold color.  Not a lot of head.  It had a slight malt note, but NO noticable hops.  I'd drink it if it was around.  Nothing great.\",\n",
              " 'The liquid is a dark amber and nearly clear.  There is some fine lace left on the glass after each sip.\\t\\tInterestingly, I think this smells similarly to an American Amber--more malty (with light crystal malt) than bitter.  It doesnt seem like a dunkel to me.  The flavor does revert to style with stronger darker malts coming through on the tongue.  It also has the warming characteristics of a much higher alcohol beer.  The body is light as expected.  The aftertaste is bland but well-balanced.',\n",
              " 'Bottle. Pours gold with soapy white head. The aroma is quite sweet and grainy with a distant light caramel note. The flavor is malty and on the sweet side. Not much going on here. Some hay in the aftertaste. Drinkable, but just barely.',\n",
              " '33cl bottle @ Tankstelle, Gottingen. Pours pale piss yellow with a white foam. Corny & grassy. Very mild of course. Medium bodied. Smooth. Some sweetness & notes of hops. Not that bad - actually or nearly drinkable!',\n",
              " \"Crystal clear, mahogony lager with a large frothy, off-white head. Good lacing\\tBoth the flavor and aroma seem to be lightstruck. Skunky. Better flavors and aromas to note: chocolate, maple syrup and yeast. Well-hopped.\\tLight-bodied with a watery mouthfeel and fizzy carbonation. Short, bitter finish.\\tJust can't get past that skunkiness!\",\n",
              " 'Eh. Very so, so. Smells slightly skunky, but does not taste as malty as that led me to believe. Tastes like fizzy spring water with a bit of honey mixed in. Maybe a hint of flowers. Or maybe thats just me being hopeful! Refreshing, I suppose, and therefore a decent lawnmower beer. But this will be my last one.',\n",
              " 'Bottle.  Dunno, this didnt seem that bad to me at all.  Pretty inoffensive, and tastes somewhat like beer.  Pale yellow, decent head, light watery palate.  Some grainy and grassy hop notes.  Not terrible.',\n",
              " 'Bottled at RBESG-06, GTN. Dark brown with a beige head. A bit roasted nose, with caramel, sugar and fruity notes. The flavor is much the same, and finishes off with some bitterness and sweetness. Quite thin. (060826)',\n",
              " 'Very mild brew here; some malty flavor without being overly strong, roasted earthy dirt flavor, mouthfeel is very flat without any appreciable head after a few minutes.',\n",
              " 'Can 440ml. [ As Co-op Dutch Lager ]. Clear light to medium yellow orange color with a average, frothy to creamy, fair lacing, mostly diminishing, off-white to white head. Aroma is light moderate malty, toasted, fruity, sugar, cardboard. Flavor is moderate sweet with a average duration. Body is light to medium, texture is oily, carbonation is soft. [20090807]',\n",
              " '11.2oz green bottle from The Lighthouse in Manchester.  Pours a dark copper brown with ruby-red highlights and a thin light tan head.  Smells strongly of caramel with coffee and chocolate playing strong supporting roles.  Tastes very roasty with chocolate and coffee at the fore.  Caramel and hints of continental hops are also present.  Flavors are a bit more subtle than expected but mesh rather well.  On the lighter side of medium-bodied with moderate carbonation.  Not the most robust Schwarzbier Ive tried, but theres nothing wrong with this one.  Its tasty and very drinkable.  A solid Schwarzbier.',\n",
              " 'Bottled. Cloudy pale color, short head. Aroma of citrus, some wheat, coriander. Citrussy lemonade flavor, quite sweet, bit thin. Very drinkable NA beer, especially in summertime. I gonna buy this stuff regularly!',\n",
              " 'Dank citrus nose with just a touch of onion/garlic and some light cotton candy notes. The taste is relatively dry, moderately bitter with cotton candy, honey, citrus and light onion. Solid.',\n",
              " 'Clear golden, dishwashing foamy head. Hayish hoppy aroma, little honey. Lightly malty flavor, hayish hops, little honey, somehow a bit stuffy. Light bodied, small bubbled carbonation. Alright hoppiness, but still the factory-made stamp sticks out.',\n",
              " 'Canned, alc. 4.2% (BB 02/2006)\\tGolden lager color, good white head, some lace. Metallic and rubbery aroma, hints of hops. Malty, light and a bit fruity palate. Gives oily and slightly harsh aftertaste. Corn or maize is maybe added.',\n",
              " '330 ml can.\\tPours a clear golden colour with a large foamy head which collapses quickly. Aroma of grainy malts and grassy hops. Flavour has a decent malty backbone with some wheat, grains and mild hops. Light bodied with a bitterish finish. Quite good for such a cheap brew.',\n",
              " '50 cl can  h-west. found in crete\\teur 0.56 for 50cl.\\tclear yellow, small thick white head.\\tfaint cereral and yesaty aroma.\\tsweet corny flavor,slightly fruity, faint malty sweet, sugar,faint bitterhops. ends fruity and bitter.',\n",
              " 'Bottle pours a crystal dark amber with a short lasting head.  The aroma is roasted barley malt.  The flavor is malty, chocolate, and coffee around the edges.  The palate is quenching.  Overall, pretty average.',\n",
              " 'Bottled 330ml \\tHazy, murky yellow color, white head. Coriander-banana wheaty, quite natural witbier aroma. Light to medium bodied. Quite sweet, lots of banana, some spices. Lacks many bad off-flavors of NA beers. But lacks also alcholic kick and backbone. Empty version of quite useless beer style, but not bad as a NA beer.',\n",
              " 'Shaker pint draft at the Flying Saucer in Kansas City, Missouri.  Pour is amber brown with not too much of an off white head.  This is a thin looking beer.  Not much aroma, roasted malt, smoke elements and some sweaty socks. Taste is the roasted smoked malt and caramel sweetness.  The palate is thin, watery and drinkable.',\n",
              " '12oz bottle shared by Dogbrick. Clear yellow pour with a medium white head. Skunky aroma with some malt and a bit of hop. Watery and somewhat malty flavor with a bit of hop at the end. About what I expected out of my first ever taste of a NA beer.',\n",
              " 'Looks pretty average, pale gold, head is poor. A cloying sweetness hits the tongue on the first mouthful, and as that slowly fades there is very little left, no trace of malt or hops and no finish...best avoided if you ask me!',\n",
              " 'UPDATED: JUL 1, 2006 Skunky aroma (undoubtedly a result of the green bottle) is overwhelming. Capped by a slight, quickly receding, white head this brew is light and tightly carbonated with a lingering bitter finish that sits comfortably on the back of the tongue. Average pils. I wish I had a fresh bottle to compare.',\n",
              " 'Bottle 33 cl. Poured very pale yellow in colour with frothy white head. Spices, earth, parfume and wheat in aroma. Flavour is mostly dry wheat. Aroma was promising, but unfortunately the flavour lacks some character.',\n",
              " '(bottle) pale gold with OK white head. Very little aroma. Flavor is mild malt, not much hops.',\n",
              " 'It says \"schwarzbier\" on the green bottle, but its definitely a dunkel inside.  It pours dark, but brown, not black.  Small white head.  Its got a sweet, sweet roasted malt aroma with some nuttiness.  Same with the watery taste.  Clean finish.  Pretty uninteresting.',\n",
              " 'Canned(330ml). -nice and cheap, little to sweet',\n",
              " 'better than a macro like bud or miller but not quite as good as a premium. nough said.',\n",
              " 'Pretty weak cheap nasty shop own brand beer. oh it smelled nasty and tasted much like the garish orange can it was in. horrible',\n",
              " 'Reddish brwon, thin brown head. bready aroma. Fatty, thick mouthfeel. Flavor is, um, beery, I guess. Not very interesting at all.',\n",
              " 'A very good German dark beer. Nice dark brown to black color with a slightly sweet chocolatey flavor. Good stuff.',\n",
              " 'Dark brown in color. Aroma of malt and caramel. Sweet in taste with roasted malt notes',\n",
              " 'Draft.  I have a feeling there might have been something wrong with this keg.  The dunkel showed a bit of sourness and other unpleasantry.  Even putting that aside, the underlying flavor was unremarkable.  Having sampled all the Einbecker brews available in the U.S., I would say this is the only one that falls short of brilliance.',\n",
              " 'The aroma is sweet and lightly grassy but mostly nothing. The appearance is pale gold with an average head. The flavor is like the aroma with an astringent finish. The palate is thin. Overall a really bad beer.',\n",
              " 'bottle - yellow body with a white head - sweet malty nose - mild malty flavour, unusual well tasting low alcohol beer',\n",
              " 'UPDATED: FEB 22, 2009 Yellow gold out of the bottle, decent head. Low aroma of hops and grass, but very disappointing on the palate. Bland and watery compared to the nose.',\n",
              " 'Sampled at the Horecava 2011. Didnt had a glass so I drank it straight out the of the can. Witbier without alcohol.. come on. Its good that there is an alternative for those who still need to drive but... come on. Flavour was grainy, dry with a metallic finish. But I guess that was because I sampled it out of the can. Like I said, great for people who need to drive, but Ill just have a 7-up',\n",
              " 'The aroma is sweet and lightly grassy but mostly nothing. The appearance is pale gold with an average head. The flavor is like the aroma with an astringent finish. The palate is thin. Overall a really bad beer.',\n",
              " 'On tap at the Flying Saucer in KC. Pours a deep brown body with a reddish tint. Dense, two-finger width, light brown head that dissipates slowly and leaves a moderate lacing. Aroma is nutty with a medium roast and grainy. Some sweet malts and a light plum on the nose as well. Flavor is roasty and bready. Some dark fruits, nuts, and a hint of citrus with a light sweetness. Finishes slightly dry with a medium lasting aftertaste. Medium bodied, clean, and smooth. Overall, I was anticipating a little more sweetness, but it actually had a nice, clean roasty taste. Not bad at all.',\n",
              " 'A mid golden lager that has enough traces of malt and hops to keep you interested.  Same brewer as the shite Bavaria Premium/Pilsner.  Marginally better than that, but only just.  If it was 40degress outside and this is all I had to drink, Id put up with it.  My sample was in Australia, and came in a narrow 330ml green bottle.',\n",
              " 'Einbecker \"Schwarzbier\" is a ruby brown lager with a sandy slight head.  The aroma is grainy-- roasted barly.  Its fresh and faint.  Its thin in the mouth.  The flavor is of deep malt.  Its lightly bitter and a little funky.  My drinking party and I all agreed that this was a Dunkel, not a Schwarzbier.  Why did they call this a Schwarzbier?',\n",
              " 'This beer is probably the cheapest European import we have in Oz.  It is a great tasting beer for the money and I can honestly say Ive had quite a few large nights on this brew.',\n",
              " 'Blond color. Strong honey aroma. Common flavor, too much hay character.',\n",
              " 'Bottle (33 cl) from Systembolaget. Grainy, slightly sourish malt aroma with carboard. Light in body, medium carbonation. Dry with medium bitterness.',\n",
              " 'clear pale golden colour, few foam, slightly herbal, fat hoppy nose, sweet and oily, aftertaste of wet carton',\n",
              " 'Its in a green bottle and not skunked, well good start so far. A cloudy yellow appearance. Almost no aroma exists and the flavor is crisp with some corny and grassy flavors coming through. Overall its more boring than anything. Perhaps Cheri would enjoy getting a dutch windmill.',\n",
              " 'Bottle. Frothy white good mostly lasting head. Ugly yeasty aroma. Short ugly finish. Very watery palate. Avoid.',\n",
              " 'Lightly sweet toffee and light raisin nose. The taste is lightly sweet, lightly bitter, toffee and dark fruit malts, herbal hops, some bread dough and a bit of dusty yeast. Just a bit of aspirin on the finish',\n",
              " '12oz Bottle: Pale yellow, lightly fizzy, some lacing. The nose is strong with husk, alcohol and sweet cheap malts and light floor grade hops. The flavor is either a bit more bitter than I expected, or just kinda zesty and acidic from the carbonation. I thinking the latter, but it almost comes across like a snappy pilsener. Finishes thin, watery, no biscuit or toast or any other yummy bavarian lager type goodies. A typical export lager sold as a cheap alternative to the big boys.',\n",
              " 'Notes of caramel sticky buns on the nose but very faint. Also grainy and slightly hoppy. Flavor followed. Not too bad. The pour is the best part - nice, clear, brown color with light brown, fluffy head.',\n",
              " 'This gets an extra point for being in a green bottle and not being skunked. Quite bland and boring but drinkable.',\n",
              " 'Bottle. Dark ruby colour with a tan head. Aroma of caramel & malt. Malty roasted flavour. Also a bit nutty. Average body.',\n",
              " 'Clearly a Heineken rip-off, which shouldnt be too hard to screw up, but this one really isnt too good. Luckily you will drink it fast, without thinking about it too much.',\n",
              " '8/21/11. Goofy shaped 11.2oz bottle. Brown pour, lots of red under light, with a big creamy tan head that cuts in half but lasts. Roasted caramel aroma with toffee and biscuits, unfortunately tainted by skunk. Decent flavor of caramel, medium toast malt, and toffee... but also a touch of skunk. The toasted caramel aspect really comes out. Not bad.',\n",
              " 'Delicious.  Dark, slightly sweet, some fruitiness.  As the description says, it is very mild, but found it very drinkable, with a good aftertaste.  Although it is mild and a bit thin,  overall a good dunkel.  Very tasty.',\n",
              " 'Bottle: Had this one years ago:\\tSmall light off white head on top of a clear darker orange to light brown colored beer.\\tSmell malts, caramel, herbs, hint of hops.\\tTaste is a bit of a watery mix of malts, barleys, light sweet, light bitter, caramel, hops and a hint of herbs.\\tWasnt impressed when I tasted this years ago.',\n",
              " 'UPDATED: MAY 23, 2005 Dark brown beer with a small head.  Sweet malt aroma.  Flavor is not as sweet as expected from the aroma.  Malty, smoky, with a lightly bitter and very dry finish.  Decent but not great...... 05-23-2005....  well, it gets better after the first one.   The first one is rough and metallic, but the rest of the sixpack tastes pretty good.  Add a point for that.   Not bad.',\n",
              " 'Bottle 33 cl. Pours a a clear yellow with a small and disappearing head giving it an unatttractive appearance. The aroma is not really pleasant too, Grain and hops, but some unpleasant notes like cardboard and dish-water too. The taste is pretty good compared to what came before tasting, its pretty sweet, a bit fruity, no spices and some grain. The finish is is a bit hoppy, but not very longlasting. Pretty good for such an ultra-cheap supermarket-bock, but not special or groundbreaking at all.',\n",
              " 'Poured a rich dark brown with a small white head. Aroma of molasses; body, very thin and watery with a nutty molasses flavor, dry finish.',\n",
              " 'Bottled. Cloudy pale color, short head. Aroma of citrus, some wheat, coriander. Citrussy lemonade flavor, quite sweet, bit thin. Very drinkable NA beer, especially in summertime. I gonna buy this stuff regularly!',\n",
              " '(330ml bottle thanks to the best Pale Lager supplier a guy could know, Fratto) very pale yellow, nice lacing, fine white bubbles. Nose of a skunk, corn. Taste of corn and skunk, cracker, grain, GROSS. This is awful.',\n",
              " 'Bottle: Golden, stable creamy white head, grassy hoppy nose, backed by a small amount of pale malt; moderate bitter-sweet flavour, light bodied, sweet pale-malt and citrousy hops in the finish. Quite well balanced Pilsner, way better than the usual german \"Premium\"-fizz.......',\n",
              " 'Bottle. Metallic aroma, watery dry flavor and metallic aftertaste. Thin mouth feel.',\n",
              " 'Syrupy, molasses nose; caramel-Coke color; foamy tan head. Full caramelly malt body, toffee, chocolate tones. Tight quick bitter. Impeccable balance. Mediumn body. Classy, sophisticated, great German dark.',\n",
              " 'Pours a muddy caramel color that is not so appetizing. Flavor is a little too sweet with much of the caramel and nuttiness you expect for the style. Would work well late in a meal with a little vanilla ice cream maybe.',\n",
              " 'Roasty and dry with a nice touch of sweetness in the middle.  Very dry finish.  Body was smooth but thin.',\n",
              " 'Bottle: Bright golden yellow with some fizzyness. Matl and hops in the nose with a medium head. Taste is nicely bitter and reminds me of Heineken but I liked this one a bit more.',\n",
              " 'Good dark color with good head and some lacing.  Smell was more like a grain/bread smell than anything else.  Now after say all the good things, the taste was disappointing.  It tasted like a nothing special light beer.',\n",
              " 'Bubbly white head, golden see through.  Malty, and slightly sweet hoppy aroma.  Crispy, bitter flavor.  Very carbonated.  Mostly I am impressed with the fresh taste.  Different from many of its German counterparts.',\n",
              " \"I was quite pleased with this beer. I tried a couple a few years back when I was a young lad who didn't appreciate the 'finer things in life' and thought it was pretty bitter, but i'm glad I bought a 6 pack, especially for the cheap price. Your usual European lager really. Poured out nice golden, with a decent head. Decent malty flavour with a bitter hint, but no unbareable. Of course, it's not spectacular, but it was well worth it.\",\n",
              " 'Pours golden with a big rocky white head, nice lacing. Aroma is grassy. Flavor is lemon, grass and a hint of caramel. Light-bodied, dry finish.',\n",
              " 'Fizzy yellow water. Faint cooked veggies and dome cheapo grassy hop extract and crap malts. Wet cardboard and old grass. Blech.']"
            ]
          },
          "metadata": {},
          "execution_count": 12
        }
      ]
    },
    {
      "cell_type": "code",
      "metadata": {
        "id": "6wXW1hdSIDKr",
        "colab": {
          "base_uri": "https://localhost:8080/",
          "height": 54
        },
        "outputId": "5d6d61ec-e1e6-4dbf-cc8e-fb7bb59ae7fe"
      },
      "source": [
        "\n",
        "\n",
        "## Sequence is single str of text\n",
        "sequence = dat['review_text'].to_list()\n",
        "labels = dat['good_score'].to_list()\n",
        "\n",
        "\n",
        " ## Import BERT Model\n",
        "tokenizer = AutoTokenizer.from_pretrained(\"distilbert-base-uncased-finetuned-sst-2-english\")\n",
        "model = AutoModelForSequenceClassification.from_pretrained(\"distilbert-base-uncased-finetuned-sst-2-english\")\n",
        "\n",
        "## Moddel inputs holds two arrays\n",
        "    ## input_ids: list of id of word vector\n",
        "    ## attention_mask\n",
        "    \n",
        "n_batch = 10\n",
        "\n",
        "batch = sequence [:n_batch]\n",
        "batch_labs = labels [:n_batch]\n",
        "\n",
        "model_inputs = tokenizer(batch, padding=True, truncation=True, return_tensors=\"pt\")\n",
        "#model_inputs = tokenizer(sequence, padding = True, truncation = True, return_tensors= 'pt')\n",
        "\n",
        "\n",
        "## List of IDs\n",
        "ids = tokenizer.convert_tokens_to_ids(model_inputs)\n",
        "\n",
        "\n",
        "#batch = tokenizer(few_reviews, padding=\"max_length\", truncation=True, return_tensors=\"pt\")\n",
        "\n",
        "## !!! Attaching class to model inputs\n",
        "model_inputs['labels'] = torch.tensor(batch_labs)\n",
        "\n",
        "'''\n",
        "### Choosing tokenizer\n",
        "####    A) Keep reviews by uid\n",
        "####    B) Sentence strings associated with a particular style\n",
        "\n",
        "output = model(**model_inputs)\n",
        "\n",
        "i = 0\n",
        "\n",
        "for out in range(0,len(output)):\n",
        "\n",
        "    print(output[i])\n",
        "    i+=1\n",
        "'''"
      ],
      "execution_count": 5,
      "outputs": [
        {
          "output_type": "execute_result",
          "data": {
            "application/vnd.google.colaboratory.intrinsic+json": {
              "type": "string"
            },
            "text/plain": [
              "'\\n### Choosing tokenizer\\n####    A) Keep reviews by uid\\n####    B) Sentence strings associated with a particular style\\n\\noutput = model(**model_inputs)\\n\\ni = 0\\n\\nfor out in range(0,len(output)):\\n\\n    print(output[i])\\n    i+=1\\n'"
            ]
          },
          "metadata": {},
          "execution_count": 5
        }
      ]
    },
    {
      "cell_type": "code",
      "source": [
        "model_inputs[\"labels\"] = torch.tensor(batch_labs)\n",
        "\n",
        "optimizer = AdamW(model.parameters())\n",
        "loss = model(**model_inputs).loss\n",
        "loss.backward()\n",
        "optimizer.step()"
      ],
      "metadata": {
        "colab": {
          "base_uri": "https://localhost:8080/",
          "height": 398
        },
        "id": "XFIkoydR-ryc",
        "outputId": "60f73ee4-d10b-4c60-a992-c45a88e48334"
      },
      "execution_count": 6,
      "outputs": [
        {
          "output_type": "error",
          "ename": "ValueError",
          "evalue": "ignored",
          "traceback": [
            "\u001b[0;31m---------------------------------------------------------------------------\u001b[0m",
            "\u001b[0;31mValueError\u001b[0m                                Traceback (most recent call last)",
            "\u001b[0;32m<ipython-input-6-7da22dd2897c>\u001b[0m in \u001b[0;36m<module>\u001b[0;34m()\u001b[0m\n\u001b[1;32m      2\u001b[0m \u001b[0;34m\u001b[0m\u001b[0m\n\u001b[1;32m      3\u001b[0m \u001b[0moptimizer\u001b[0m \u001b[0;34m=\u001b[0m \u001b[0mAdamW\u001b[0m\u001b[0;34m(\u001b[0m\u001b[0mmodel\u001b[0m\u001b[0;34m.\u001b[0m\u001b[0mparameters\u001b[0m\u001b[0;34m(\u001b[0m\u001b[0;34m)\u001b[0m\u001b[0;34m)\u001b[0m\u001b[0;34m\u001b[0m\u001b[0;34m\u001b[0m\u001b[0m\n\u001b[0;32m----> 4\u001b[0;31m \u001b[0mloss\u001b[0m \u001b[0;34m=\u001b[0m \u001b[0mmodel\u001b[0m\u001b[0;34m(\u001b[0m\u001b[0;34m**\u001b[0m\u001b[0mmodel_inputs\u001b[0m\u001b[0;34m)\u001b[0m\u001b[0;34m.\u001b[0m\u001b[0mloss\u001b[0m\u001b[0;34m\u001b[0m\u001b[0;34m\u001b[0m\u001b[0m\n\u001b[0m\u001b[1;32m      5\u001b[0m \u001b[0mloss\u001b[0m\u001b[0;34m.\u001b[0m\u001b[0mbackward\u001b[0m\u001b[0;34m(\u001b[0m\u001b[0;34m)\u001b[0m\u001b[0;34m\u001b[0m\u001b[0;34m\u001b[0m\u001b[0m\n\u001b[1;32m      6\u001b[0m \u001b[0moptimizer\u001b[0m\u001b[0;34m.\u001b[0m\u001b[0mstep\u001b[0m\u001b[0;34m(\u001b[0m\u001b[0;34m)\u001b[0m\u001b[0;34m\u001b[0m\u001b[0;34m\u001b[0m\u001b[0m\n",
            "\u001b[0;32m/usr/local/lib/python3.7/dist-packages/torch/nn/modules/module.py\u001b[0m in \u001b[0;36m_call_impl\u001b[0;34m(self, *input, **kwargs)\u001b[0m\n\u001b[1;32m   1100\u001b[0m         if not (self._backward_hooks or self._forward_hooks or self._forward_pre_hooks or _global_backward_hooks\n\u001b[1;32m   1101\u001b[0m                 or _global_forward_hooks or _global_forward_pre_hooks):\n\u001b[0;32m-> 1102\u001b[0;31m             \u001b[0;32mreturn\u001b[0m \u001b[0mforward_call\u001b[0m\u001b[0;34m(\u001b[0m\u001b[0;34m*\u001b[0m\u001b[0minput\u001b[0m\u001b[0;34m,\u001b[0m \u001b[0;34m**\u001b[0m\u001b[0mkwargs\u001b[0m\u001b[0;34m)\u001b[0m\u001b[0;34m\u001b[0m\u001b[0;34m\u001b[0m\u001b[0m\n\u001b[0m\u001b[1;32m   1103\u001b[0m         \u001b[0;31m# Do not call functions when jit is used\u001b[0m\u001b[0;34m\u001b[0m\u001b[0;34m\u001b[0m\u001b[0;34m\u001b[0m\u001b[0m\n\u001b[1;32m   1104\u001b[0m         \u001b[0mfull_backward_hooks\u001b[0m\u001b[0;34m,\u001b[0m \u001b[0mnon_full_backward_hooks\u001b[0m \u001b[0;34m=\u001b[0m \u001b[0;34m[\u001b[0m\u001b[0;34m]\u001b[0m\u001b[0;34m,\u001b[0m \u001b[0;34m[\u001b[0m\u001b[0;34m]\u001b[0m\u001b[0;34m\u001b[0m\u001b[0;34m\u001b[0m\u001b[0m\n",
            "\u001b[0;32m/usr/local/lib/python3.7/dist-packages/transformers/models/distilbert/modeling_distilbert.py\u001b[0m in \u001b[0;36mforward\u001b[0;34m(self, input_ids, attention_mask, head_mask, inputs_embeds, labels, output_attentions, output_hidden_states, return_dict)\u001b[0m\n\u001b[1;32m    767\u001b[0m             \u001b[0;32melif\u001b[0m \u001b[0mself\u001b[0m\u001b[0;34m.\u001b[0m\u001b[0mconfig\u001b[0m\u001b[0;34m.\u001b[0m\u001b[0mproblem_type\u001b[0m \u001b[0;34m==\u001b[0m \u001b[0;34m\"multi_label_classification\"\u001b[0m\u001b[0;34m:\u001b[0m\u001b[0;34m\u001b[0m\u001b[0;34m\u001b[0m\u001b[0m\n\u001b[1;32m    768\u001b[0m                 \u001b[0mloss_fct\u001b[0m \u001b[0;34m=\u001b[0m \u001b[0mBCEWithLogitsLoss\u001b[0m\u001b[0;34m(\u001b[0m\u001b[0;34m)\u001b[0m\u001b[0;34m\u001b[0m\u001b[0;34m\u001b[0m\u001b[0m\n\u001b[0;32m--> 769\u001b[0;31m                 \u001b[0mloss\u001b[0m \u001b[0;34m=\u001b[0m \u001b[0mloss_fct\u001b[0m\u001b[0;34m(\u001b[0m\u001b[0mlogits\u001b[0m\u001b[0;34m,\u001b[0m \u001b[0mlabels\u001b[0m\u001b[0;34m)\u001b[0m\u001b[0;34m\u001b[0m\u001b[0;34m\u001b[0m\u001b[0m\n\u001b[0m\u001b[1;32m    770\u001b[0m \u001b[0;34m\u001b[0m\u001b[0m\n\u001b[1;32m    771\u001b[0m         \u001b[0;32mif\u001b[0m \u001b[0;32mnot\u001b[0m \u001b[0mreturn_dict\u001b[0m\u001b[0;34m:\u001b[0m\u001b[0;34m\u001b[0m\u001b[0;34m\u001b[0m\u001b[0m\n",
            "\u001b[0;32m/usr/local/lib/python3.7/dist-packages/torch/nn/modules/module.py\u001b[0m in \u001b[0;36m_call_impl\u001b[0;34m(self, *input, **kwargs)\u001b[0m\n\u001b[1;32m   1100\u001b[0m         if not (self._backward_hooks or self._forward_hooks or self._forward_pre_hooks or _global_backward_hooks\n\u001b[1;32m   1101\u001b[0m                 or _global_forward_hooks or _global_forward_pre_hooks):\n\u001b[0;32m-> 1102\u001b[0;31m             \u001b[0;32mreturn\u001b[0m \u001b[0mforward_call\u001b[0m\u001b[0;34m(\u001b[0m\u001b[0;34m*\u001b[0m\u001b[0minput\u001b[0m\u001b[0;34m,\u001b[0m \u001b[0;34m**\u001b[0m\u001b[0mkwargs\u001b[0m\u001b[0;34m)\u001b[0m\u001b[0;34m\u001b[0m\u001b[0;34m\u001b[0m\u001b[0m\n\u001b[0m\u001b[1;32m   1103\u001b[0m         \u001b[0;31m# Do not call functions when jit is used\u001b[0m\u001b[0;34m\u001b[0m\u001b[0;34m\u001b[0m\u001b[0;34m\u001b[0m\u001b[0m\n\u001b[1;32m   1104\u001b[0m         \u001b[0mfull_backward_hooks\u001b[0m\u001b[0;34m,\u001b[0m \u001b[0mnon_full_backward_hooks\u001b[0m \u001b[0;34m=\u001b[0m \u001b[0;34m[\u001b[0m\u001b[0;34m]\u001b[0m\u001b[0;34m,\u001b[0m \u001b[0;34m[\u001b[0m\u001b[0;34m]\u001b[0m\u001b[0;34m\u001b[0m\u001b[0;34m\u001b[0m\u001b[0m\n",
            "\u001b[0;32m/usr/local/lib/python3.7/dist-packages/torch/nn/modules/loss.py\u001b[0m in \u001b[0;36mforward\u001b[0;34m(self, input, target)\u001b[0m\n\u001b[1;32m    705\u001b[0m                                                   \u001b[0mself\u001b[0m\u001b[0;34m.\u001b[0m\u001b[0mweight\u001b[0m\u001b[0;34m,\u001b[0m\u001b[0;34m\u001b[0m\u001b[0;34m\u001b[0m\u001b[0m\n\u001b[1;32m    706\u001b[0m                                                   \u001b[0mpos_weight\u001b[0m\u001b[0;34m=\u001b[0m\u001b[0mself\u001b[0m\u001b[0;34m.\u001b[0m\u001b[0mpos_weight\u001b[0m\u001b[0;34m,\u001b[0m\u001b[0;34m\u001b[0m\u001b[0;34m\u001b[0m\u001b[0m\n\u001b[0;32m--> 707\u001b[0;31m                                                   reduction=self.reduction)\n\u001b[0m\u001b[1;32m    708\u001b[0m \u001b[0;34m\u001b[0m\u001b[0m\n\u001b[1;32m    709\u001b[0m \u001b[0;34m\u001b[0m\u001b[0m\n",
            "\u001b[0;32m/usr/local/lib/python3.7/dist-packages/torch/nn/functional.py\u001b[0m in \u001b[0;36mbinary_cross_entropy_with_logits\u001b[0;34m(input, target, weight, size_average, reduce, reduction, pos_weight)\u001b[0m\n\u001b[1;32m   2978\u001b[0m \u001b[0;34m\u001b[0m\u001b[0m\n\u001b[1;32m   2979\u001b[0m     \u001b[0;32mif\u001b[0m \u001b[0;32mnot\u001b[0m \u001b[0;34m(\u001b[0m\u001b[0mtarget\u001b[0m\u001b[0;34m.\u001b[0m\u001b[0msize\u001b[0m\u001b[0;34m(\u001b[0m\u001b[0;34m)\u001b[0m \u001b[0;34m==\u001b[0m \u001b[0minput\u001b[0m\u001b[0;34m.\u001b[0m\u001b[0msize\u001b[0m\u001b[0;34m(\u001b[0m\u001b[0;34m)\u001b[0m\u001b[0;34m)\u001b[0m\u001b[0;34m:\u001b[0m\u001b[0;34m\u001b[0m\u001b[0;34m\u001b[0m\u001b[0m\n\u001b[0;32m-> 2980\u001b[0;31m         \u001b[0;32mraise\u001b[0m \u001b[0mValueError\u001b[0m\u001b[0;34m(\u001b[0m\u001b[0;34m\"Target size ({}) must be the same as input size ({})\"\u001b[0m\u001b[0;34m.\u001b[0m\u001b[0mformat\u001b[0m\u001b[0;34m(\u001b[0m\u001b[0mtarget\u001b[0m\u001b[0;34m.\u001b[0m\u001b[0msize\u001b[0m\u001b[0;34m(\u001b[0m\u001b[0;34m)\u001b[0m\u001b[0;34m,\u001b[0m \u001b[0minput\u001b[0m\u001b[0;34m.\u001b[0m\u001b[0msize\u001b[0m\u001b[0;34m(\u001b[0m\u001b[0;34m)\u001b[0m\u001b[0;34m)\u001b[0m\u001b[0;34m)\u001b[0m\u001b[0;34m\u001b[0m\u001b[0;34m\u001b[0m\u001b[0m\n\u001b[0m\u001b[1;32m   2981\u001b[0m \u001b[0;34m\u001b[0m\u001b[0m\n\u001b[1;32m   2982\u001b[0m     \u001b[0;32mreturn\u001b[0m \u001b[0mtorch\u001b[0m\u001b[0;34m.\u001b[0m\u001b[0mbinary_cross_entropy_with_logits\u001b[0m\u001b[0;34m(\u001b[0m\u001b[0minput\u001b[0m\u001b[0;34m,\u001b[0m \u001b[0mtarget\u001b[0m\u001b[0;34m,\u001b[0m \u001b[0mweight\u001b[0m\u001b[0;34m,\u001b[0m \u001b[0mpos_weight\u001b[0m\u001b[0;34m,\u001b[0m \u001b[0mreduction_enum\u001b[0m\u001b[0;34m)\u001b[0m\u001b[0;34m\u001b[0m\u001b[0;34m\u001b[0m\u001b[0m\n",
            "\u001b[0;31mValueError\u001b[0m: Target size (torch.Size([10])) must be the same as input size (torch.Size([10, 2]))"
          ]
        }
      ]
    }
  ]
}
