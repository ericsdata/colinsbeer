{
  "nbformat": 4,
  "nbformat_minor": 0,
  "metadata": {
    "colab": {
      "name": "WriteReviews.ipynb",
      "provenance": [],
      "authorship_tag": "ABX9TyPhcTku21z8evhucZrbbT9Q",
      "include_colab_link": true
    },
    "kernelspec": {
      "name": "python3",
      "display_name": "Python 3"
    },
    "language_info": {
      "name": "python"
    },
    "accelerator": "GPU",
    "widgets": {
      "application/vnd.jupyter.widget-state+json": {
        "97ae4f38323e486b8865128b3aaf4852": {
          "model_module": "@jupyter-widgets/controls",
          "model_name": "HBoxModel",
          "model_module_version": "1.5.0",
          "state": {
            "_dom_classes": [],
            "_model_module": "@jupyter-widgets/controls",
            "_model_module_version": "1.5.0",
            "_model_name": "HBoxModel",
            "_view_count": null,
            "_view_module": "@jupyter-widgets/controls",
            "_view_module_version": "1.5.0",
            "_view_name": "HBoxView",
            "box_style": "",
            "children": [
              "IPY_MODEL_e06dcaea6b9c4faa980f9a2122ce8359",
              "IPY_MODEL_4d72f5d3f0534c619078e8fca02abc1a",
              "IPY_MODEL_5b0397d5045c4e7fb1eea4cceacf42a8"
            ],
            "layout": "IPY_MODEL_e982e9bd63b14aca9d64979ff8f937eb"
          }
        },
        "e06dcaea6b9c4faa980f9a2122ce8359": {
          "model_module": "@jupyter-widgets/controls",
          "model_name": "HTMLModel",
          "model_module_version": "1.5.0",
          "state": {
            "_dom_classes": [],
            "_model_module": "@jupyter-widgets/controls",
            "_model_module_version": "1.5.0",
            "_model_name": "HTMLModel",
            "_view_count": null,
            "_view_module": "@jupyter-widgets/controls",
            "_view_module_version": "1.5.0",
            "_view_name": "HTMLView",
            "description": "",
            "description_tooltip": null,
            "layout": "IPY_MODEL_fd0c701f95b04f599ce904687598f06d",
            "placeholder": "​",
            "style": "IPY_MODEL_f938a35c57fd4a5fb3292ec41c59992d",
            "value": "Downloading: 100%"
          }
        },
        "4d72f5d3f0534c619078e8fca02abc1a": {
          "model_module": "@jupyter-widgets/controls",
          "model_name": "FloatProgressModel",
          "model_module_version": "1.5.0",
          "state": {
            "_dom_classes": [],
            "_model_module": "@jupyter-widgets/controls",
            "_model_module_version": "1.5.0",
            "_model_name": "FloatProgressModel",
            "_view_count": null,
            "_view_module": "@jupyter-widgets/controls",
            "_view_module_version": "1.5.0",
            "_view_name": "ProgressView",
            "bar_style": "success",
            "description": "",
            "description_tooltip": null,
            "layout": "IPY_MODEL_0ca3a659a7604697955b4252fa9973fd",
            "max": 1042301,
            "min": 0,
            "orientation": "horizontal",
            "style": "IPY_MODEL_706ea48b925f40ee8ebaddc738de19e0",
            "value": 1042301
          }
        },
        "5b0397d5045c4e7fb1eea4cceacf42a8": {
          "model_module": "@jupyter-widgets/controls",
          "model_name": "HTMLModel",
          "model_module_version": "1.5.0",
          "state": {
            "_dom_classes": [],
            "_model_module": "@jupyter-widgets/controls",
            "_model_module_version": "1.5.0",
            "_model_name": "HTMLModel",
            "_view_count": null,
            "_view_module": "@jupyter-widgets/controls",
            "_view_module_version": "1.5.0",
            "_view_name": "HTMLView",
            "description": "",
            "description_tooltip": null,
            "layout": "IPY_MODEL_00878413a3214c8b9e48560cd79ca909",
            "placeholder": "​",
            "style": "IPY_MODEL_92580823f99b4d4bb7d9e6c0d0754bbe",
            "value": " 0.99M/0.99M [00:00&lt;00:00, 5.34MB/s]"
          }
        },
        "e982e9bd63b14aca9d64979ff8f937eb": {
          "model_module": "@jupyter-widgets/base",
          "model_name": "LayoutModel",
          "model_module_version": "1.2.0",
          "state": {
            "_model_module": "@jupyter-widgets/base",
            "_model_module_version": "1.2.0",
            "_model_name": "LayoutModel",
            "_view_count": null,
            "_view_module": "@jupyter-widgets/base",
            "_view_module_version": "1.2.0",
            "_view_name": "LayoutView",
            "align_content": null,
            "align_items": null,
            "align_self": null,
            "border": null,
            "bottom": null,
            "display": null,
            "flex": null,
            "flex_flow": null,
            "grid_area": null,
            "grid_auto_columns": null,
            "grid_auto_flow": null,
            "grid_auto_rows": null,
            "grid_column": null,
            "grid_gap": null,
            "grid_row": null,
            "grid_template_areas": null,
            "grid_template_columns": null,
            "grid_template_rows": null,
            "height": null,
            "justify_content": null,
            "justify_items": null,
            "left": null,
            "margin": null,
            "max_height": null,
            "max_width": null,
            "min_height": null,
            "min_width": null,
            "object_fit": null,
            "object_position": null,
            "order": null,
            "overflow": null,
            "overflow_x": null,
            "overflow_y": null,
            "padding": null,
            "right": null,
            "top": null,
            "visibility": null,
            "width": null
          }
        },
        "fd0c701f95b04f599ce904687598f06d": {
          "model_module": "@jupyter-widgets/base",
          "model_name": "LayoutModel",
          "model_module_version": "1.2.0",
          "state": {
            "_model_module": "@jupyter-widgets/base",
            "_model_module_version": "1.2.0",
            "_model_name": "LayoutModel",
            "_view_count": null,
            "_view_module": "@jupyter-widgets/base",
            "_view_module_version": "1.2.0",
            "_view_name": "LayoutView",
            "align_content": null,
            "align_items": null,
            "align_self": null,
            "border": null,
            "bottom": null,
            "display": null,
            "flex": null,
            "flex_flow": null,
            "grid_area": null,
            "grid_auto_columns": null,
            "grid_auto_flow": null,
            "grid_auto_rows": null,
            "grid_column": null,
            "grid_gap": null,
            "grid_row": null,
            "grid_template_areas": null,
            "grid_template_columns": null,
            "grid_template_rows": null,
            "height": null,
            "justify_content": null,
            "justify_items": null,
            "left": null,
            "margin": null,
            "max_height": null,
            "max_width": null,
            "min_height": null,
            "min_width": null,
            "object_fit": null,
            "object_position": null,
            "order": null,
            "overflow": null,
            "overflow_x": null,
            "overflow_y": null,
            "padding": null,
            "right": null,
            "top": null,
            "visibility": null,
            "width": null
          }
        },
        "f938a35c57fd4a5fb3292ec41c59992d": {
          "model_module": "@jupyter-widgets/controls",
          "model_name": "DescriptionStyleModel",
          "model_module_version": "1.5.0",
          "state": {
            "_model_module": "@jupyter-widgets/controls",
            "_model_module_version": "1.5.0",
            "_model_name": "DescriptionStyleModel",
            "_view_count": null,
            "_view_module": "@jupyter-widgets/base",
            "_view_module_version": "1.2.0",
            "_view_name": "StyleView",
            "description_width": ""
          }
        },
        "0ca3a659a7604697955b4252fa9973fd": {
          "model_module": "@jupyter-widgets/base",
          "model_name": "LayoutModel",
          "model_module_version": "1.2.0",
          "state": {
            "_model_module": "@jupyter-widgets/base",
            "_model_module_version": "1.2.0",
            "_model_name": "LayoutModel",
            "_view_count": null,
            "_view_module": "@jupyter-widgets/base",
            "_view_module_version": "1.2.0",
            "_view_name": "LayoutView",
            "align_content": null,
            "align_items": null,
            "align_self": null,
            "border": null,
            "bottom": null,
            "display": null,
            "flex": null,
            "flex_flow": null,
            "grid_area": null,
            "grid_auto_columns": null,
            "grid_auto_flow": null,
            "grid_auto_rows": null,
            "grid_column": null,
            "grid_gap": null,
            "grid_row": null,
            "grid_template_areas": null,
            "grid_template_columns": null,
            "grid_template_rows": null,
            "height": null,
            "justify_content": null,
            "justify_items": null,
            "left": null,
            "margin": null,
            "max_height": null,
            "max_width": null,
            "min_height": null,
            "min_width": null,
            "object_fit": null,
            "object_position": null,
            "order": null,
            "overflow": null,
            "overflow_x": null,
            "overflow_y": null,
            "padding": null,
            "right": null,
            "top": null,
            "visibility": null,
            "width": null
          }
        },
        "706ea48b925f40ee8ebaddc738de19e0": {
          "model_module": "@jupyter-widgets/controls",
          "model_name": "ProgressStyleModel",
          "model_module_version": "1.5.0",
          "state": {
            "_model_module": "@jupyter-widgets/controls",
            "_model_module_version": "1.5.0",
            "_model_name": "ProgressStyleModel",
            "_view_count": null,
            "_view_module": "@jupyter-widgets/base",
            "_view_module_version": "1.2.0",
            "_view_name": "StyleView",
            "bar_color": null,
            "description_width": ""
          }
        },
        "00878413a3214c8b9e48560cd79ca909": {
          "model_module": "@jupyter-widgets/base",
          "model_name": "LayoutModel",
          "model_module_version": "1.2.0",
          "state": {
            "_model_module": "@jupyter-widgets/base",
            "_model_module_version": "1.2.0",
            "_model_name": "LayoutModel",
            "_view_count": null,
            "_view_module": "@jupyter-widgets/base",
            "_view_module_version": "1.2.0",
            "_view_name": "LayoutView",
            "align_content": null,
            "align_items": null,
            "align_self": null,
            "border": null,
            "bottom": null,
            "display": null,
            "flex": null,
            "flex_flow": null,
            "grid_area": null,
            "grid_auto_columns": null,
            "grid_auto_flow": null,
            "grid_auto_rows": null,
            "grid_column": null,
            "grid_gap": null,
            "grid_row": null,
            "grid_template_areas": null,
            "grid_template_columns": null,
            "grid_template_rows": null,
            "height": null,
            "justify_content": null,
            "justify_items": null,
            "left": null,
            "margin": null,
            "max_height": null,
            "max_width": null,
            "min_height": null,
            "min_width": null,
            "object_fit": null,
            "object_position": null,
            "order": null,
            "overflow": null,
            "overflow_x": null,
            "overflow_y": null,
            "padding": null,
            "right": null,
            "top": null,
            "visibility": null,
            "width": null
          }
        },
        "92580823f99b4d4bb7d9e6c0d0754bbe": {
          "model_module": "@jupyter-widgets/controls",
          "model_name": "DescriptionStyleModel",
          "model_module_version": "1.5.0",
          "state": {
            "_model_module": "@jupyter-widgets/controls",
            "_model_module_version": "1.5.0",
            "_model_name": "DescriptionStyleModel",
            "_view_count": null,
            "_view_module": "@jupyter-widgets/base",
            "_view_module_version": "1.2.0",
            "_view_name": "StyleView",
            "description_width": ""
          }
        },
        "e050aceeae6c425da571e138c967ee63": {
          "model_module": "@jupyter-widgets/controls",
          "model_name": "HBoxModel",
          "model_module_version": "1.5.0",
          "state": {
            "_dom_classes": [],
            "_model_module": "@jupyter-widgets/controls",
            "_model_module_version": "1.5.0",
            "_model_name": "HBoxModel",
            "_view_count": null,
            "_view_module": "@jupyter-widgets/controls",
            "_view_module_version": "1.5.0",
            "_view_name": "HBoxView",
            "box_style": "",
            "children": [
              "IPY_MODEL_62dda7c16d1645cea056dbd213f054ed",
              "IPY_MODEL_d37bd605b77f41969ff2bb7094c1997e",
              "IPY_MODEL_78c0bbb3b8a34847a954bec05ff37348"
            ],
            "layout": "IPY_MODEL_de1aef2efc154091a72ecda5b91d405e"
          }
        },
        "62dda7c16d1645cea056dbd213f054ed": {
          "model_module": "@jupyter-widgets/controls",
          "model_name": "HTMLModel",
          "model_module_version": "1.5.0",
          "state": {
            "_dom_classes": [],
            "_model_module": "@jupyter-widgets/controls",
            "_model_module_version": "1.5.0",
            "_model_name": "HTMLModel",
            "_view_count": null,
            "_view_module": "@jupyter-widgets/controls",
            "_view_module_version": "1.5.0",
            "_view_name": "HTMLView",
            "description": "",
            "description_tooltip": null,
            "layout": "IPY_MODEL_77594756fe8846d99abdb3fabf750b60",
            "placeholder": "​",
            "style": "IPY_MODEL_3ac00a7f4afc42ab840a28a68bb338fd",
            "value": "Downloading: 100%"
          }
        },
        "d37bd605b77f41969ff2bb7094c1997e": {
          "model_module": "@jupyter-widgets/controls",
          "model_name": "FloatProgressModel",
          "model_module_version": "1.5.0",
          "state": {
            "_dom_classes": [],
            "_model_module": "@jupyter-widgets/controls",
            "_model_module_version": "1.5.0",
            "_model_name": "FloatProgressModel",
            "_view_count": null,
            "_view_module": "@jupyter-widgets/controls",
            "_view_module_version": "1.5.0",
            "_view_name": "ProgressView",
            "bar_style": "success",
            "description": "",
            "description_tooltip": null,
            "layout": "IPY_MODEL_2f575c6a61fd48d4932b47e6a743399f",
            "max": 456318,
            "min": 0,
            "orientation": "horizontal",
            "style": "IPY_MODEL_6358c96c847d4e209c97a5e1d0da32b1",
            "value": 456318
          }
        },
        "78c0bbb3b8a34847a954bec05ff37348": {
          "model_module": "@jupyter-widgets/controls",
          "model_name": "HTMLModel",
          "model_module_version": "1.5.0",
          "state": {
            "_dom_classes": [],
            "_model_module": "@jupyter-widgets/controls",
            "_model_module_version": "1.5.0",
            "_model_name": "HTMLModel",
            "_view_count": null,
            "_view_module": "@jupyter-widgets/controls",
            "_view_module_version": "1.5.0",
            "_view_name": "HTMLView",
            "description": "",
            "description_tooltip": null,
            "layout": "IPY_MODEL_ff2acaedc32f4d79b6f750d5cec9446c",
            "placeholder": "​",
            "style": "IPY_MODEL_7af68a94712c41a69b725846823f949c",
            "value": " 446k/446k [00:00&lt;00:00, 1.59MB/s]"
          }
        },
        "de1aef2efc154091a72ecda5b91d405e": {
          "model_module": "@jupyter-widgets/base",
          "model_name": "LayoutModel",
          "model_module_version": "1.2.0",
          "state": {
            "_model_module": "@jupyter-widgets/base",
            "_model_module_version": "1.2.0",
            "_model_name": "LayoutModel",
            "_view_count": null,
            "_view_module": "@jupyter-widgets/base",
            "_view_module_version": "1.2.0",
            "_view_name": "LayoutView",
            "align_content": null,
            "align_items": null,
            "align_self": null,
            "border": null,
            "bottom": null,
            "display": null,
            "flex": null,
            "flex_flow": null,
            "grid_area": null,
            "grid_auto_columns": null,
            "grid_auto_flow": null,
            "grid_auto_rows": null,
            "grid_column": null,
            "grid_gap": null,
            "grid_row": null,
            "grid_template_areas": null,
            "grid_template_columns": null,
            "grid_template_rows": null,
            "height": null,
            "justify_content": null,
            "justify_items": null,
            "left": null,
            "margin": null,
            "max_height": null,
            "max_width": null,
            "min_height": null,
            "min_width": null,
            "object_fit": null,
            "object_position": null,
            "order": null,
            "overflow": null,
            "overflow_x": null,
            "overflow_y": null,
            "padding": null,
            "right": null,
            "top": null,
            "visibility": null,
            "width": null
          }
        },
        "77594756fe8846d99abdb3fabf750b60": {
          "model_module": "@jupyter-widgets/base",
          "model_name": "LayoutModel",
          "model_module_version": "1.2.0",
          "state": {
            "_model_module": "@jupyter-widgets/base",
            "_model_module_version": "1.2.0",
            "_model_name": "LayoutModel",
            "_view_count": null,
            "_view_module": "@jupyter-widgets/base",
            "_view_module_version": "1.2.0",
            "_view_name": "LayoutView",
            "align_content": null,
            "align_items": null,
            "align_self": null,
            "border": null,
            "bottom": null,
            "display": null,
            "flex": null,
            "flex_flow": null,
            "grid_area": null,
            "grid_auto_columns": null,
            "grid_auto_flow": null,
            "grid_auto_rows": null,
            "grid_column": null,
            "grid_gap": null,
            "grid_row": null,
            "grid_template_areas": null,
            "grid_template_columns": null,
            "grid_template_rows": null,
            "height": null,
            "justify_content": null,
            "justify_items": null,
            "left": null,
            "margin": null,
            "max_height": null,
            "max_width": null,
            "min_height": null,
            "min_width": null,
            "object_fit": null,
            "object_position": null,
            "order": null,
            "overflow": null,
            "overflow_x": null,
            "overflow_y": null,
            "padding": null,
            "right": null,
            "top": null,
            "visibility": null,
            "width": null
          }
        },
        "3ac00a7f4afc42ab840a28a68bb338fd": {
          "model_module": "@jupyter-widgets/controls",
          "model_name": "DescriptionStyleModel",
          "model_module_version": "1.5.0",
          "state": {
            "_model_module": "@jupyter-widgets/controls",
            "_model_module_version": "1.5.0",
            "_model_name": "DescriptionStyleModel",
            "_view_count": null,
            "_view_module": "@jupyter-widgets/base",
            "_view_module_version": "1.2.0",
            "_view_name": "StyleView",
            "description_width": ""
          }
        },
        "2f575c6a61fd48d4932b47e6a743399f": {
          "model_module": "@jupyter-widgets/base",
          "model_name": "LayoutModel",
          "model_module_version": "1.2.0",
          "state": {
            "_model_module": "@jupyter-widgets/base",
            "_model_module_version": "1.2.0",
            "_model_name": "LayoutModel",
            "_view_count": null,
            "_view_module": "@jupyter-widgets/base",
            "_view_module_version": "1.2.0",
            "_view_name": "LayoutView",
            "align_content": null,
            "align_items": null,
            "align_self": null,
            "border": null,
            "bottom": null,
            "display": null,
            "flex": null,
            "flex_flow": null,
            "grid_area": null,
            "grid_auto_columns": null,
            "grid_auto_flow": null,
            "grid_auto_rows": null,
            "grid_column": null,
            "grid_gap": null,
            "grid_row": null,
            "grid_template_areas": null,
            "grid_template_columns": null,
            "grid_template_rows": null,
            "height": null,
            "justify_content": null,
            "justify_items": null,
            "left": null,
            "margin": null,
            "max_height": null,
            "max_width": null,
            "min_height": null,
            "min_width": null,
            "object_fit": null,
            "object_position": null,
            "order": null,
            "overflow": null,
            "overflow_x": null,
            "overflow_y": null,
            "padding": null,
            "right": null,
            "top": null,
            "visibility": null,
            "width": null
          }
        },
        "6358c96c847d4e209c97a5e1d0da32b1": {
          "model_module": "@jupyter-widgets/controls",
          "model_name": "ProgressStyleModel",
          "model_module_version": "1.5.0",
          "state": {
            "_model_module": "@jupyter-widgets/controls",
            "_model_module_version": "1.5.0",
            "_model_name": "ProgressStyleModel",
            "_view_count": null,
            "_view_module": "@jupyter-widgets/base",
            "_view_module_version": "1.2.0",
            "_view_name": "StyleView",
            "bar_color": null,
            "description_width": ""
          }
        },
        "ff2acaedc32f4d79b6f750d5cec9446c": {
          "model_module": "@jupyter-widgets/base",
          "model_name": "LayoutModel",
          "model_module_version": "1.2.0",
          "state": {
            "_model_module": "@jupyter-widgets/base",
            "_model_module_version": "1.2.0",
            "_model_name": "LayoutModel",
            "_view_count": null,
            "_view_module": "@jupyter-widgets/base",
            "_view_module_version": "1.2.0",
            "_view_name": "LayoutView",
            "align_content": null,
            "align_items": null,
            "align_self": null,
            "border": null,
            "bottom": null,
            "display": null,
            "flex": null,
            "flex_flow": null,
            "grid_area": null,
            "grid_auto_columns": null,
            "grid_auto_flow": null,
            "grid_auto_rows": null,
            "grid_column": null,
            "grid_gap": null,
            "grid_row": null,
            "grid_template_areas": null,
            "grid_template_columns": null,
            "grid_template_rows": null,
            "height": null,
            "justify_content": null,
            "justify_items": null,
            "left": null,
            "margin": null,
            "max_height": null,
            "max_width": null,
            "min_height": null,
            "min_width": null,
            "object_fit": null,
            "object_position": null,
            "order": null,
            "overflow": null,
            "overflow_x": null,
            "overflow_y": null,
            "padding": null,
            "right": null,
            "top": null,
            "visibility": null,
            "width": null
          }
        },
        "7af68a94712c41a69b725846823f949c": {
          "model_module": "@jupyter-widgets/controls",
          "model_name": "DescriptionStyleModel",
          "model_module_version": "1.5.0",
          "state": {
            "_model_module": "@jupyter-widgets/controls",
            "_model_module_version": "1.5.0",
            "_model_name": "DescriptionStyleModel",
            "_view_count": null,
            "_view_module": "@jupyter-widgets/base",
            "_view_module_version": "1.2.0",
            "_view_name": "StyleView",
            "description_width": ""
          }
        },
        "428b886ab49147c9804868bbb1e3bcf5": {
          "model_module": "@jupyter-widgets/controls",
          "model_name": "HBoxModel",
          "model_module_version": "1.5.0",
          "state": {
            "_dom_classes": [],
            "_model_module": "@jupyter-widgets/controls",
            "_model_module_version": "1.5.0",
            "_model_name": "HBoxModel",
            "_view_count": null,
            "_view_module": "@jupyter-widgets/controls",
            "_view_module_version": "1.5.0",
            "_view_name": "HBoxView",
            "box_style": "",
            "children": [
              "IPY_MODEL_12429abcf321447598ec211ebcf3a499",
              "IPY_MODEL_9330d8ea0f5249df8d01af31ec4e62c4",
              "IPY_MODEL_e2e5876670d14d78a10ee9fbdfc16973"
            ],
            "layout": "IPY_MODEL_d0e4eff26156406db0bb88401159680a"
          }
        },
        "12429abcf321447598ec211ebcf3a499": {
          "model_module": "@jupyter-widgets/controls",
          "model_name": "HTMLModel",
          "model_module_version": "1.5.0",
          "state": {
            "_dom_classes": [],
            "_model_module": "@jupyter-widgets/controls",
            "_model_module_version": "1.5.0",
            "_model_name": "HTMLModel",
            "_view_count": null,
            "_view_module": "@jupyter-widgets/controls",
            "_view_module_version": "1.5.0",
            "_view_name": "HTMLView",
            "description": "",
            "description_tooltip": null,
            "layout": "IPY_MODEL_27f497df43294a0f861ec031c9d40bcd",
            "placeholder": "​",
            "style": "IPY_MODEL_65cef4c8424845cb9571cbd2c7c40571",
            "value": "Downloading: 100%"
          }
        },
        "9330d8ea0f5249df8d01af31ec4e62c4": {
          "model_module": "@jupyter-widgets/controls",
          "model_name": "FloatProgressModel",
          "model_module_version": "1.5.0",
          "state": {
            "_dom_classes": [],
            "_model_module": "@jupyter-widgets/controls",
            "_model_module_version": "1.5.0",
            "_model_name": "FloatProgressModel",
            "_view_count": null,
            "_view_module": "@jupyter-widgets/controls",
            "_view_module_version": "1.5.0",
            "_view_name": "ProgressView",
            "bar_style": "success",
            "description": "",
            "description_tooltip": null,
            "layout": "IPY_MODEL_201b1bf9e8184a889e24ac9e1a3db084",
            "max": 665,
            "min": 0,
            "orientation": "horizontal",
            "style": "IPY_MODEL_2fa6978b9ace4bb2823b7d5cc49b2e16",
            "value": 665
          }
        },
        "e2e5876670d14d78a10ee9fbdfc16973": {
          "model_module": "@jupyter-widgets/controls",
          "model_name": "HTMLModel",
          "model_module_version": "1.5.0",
          "state": {
            "_dom_classes": [],
            "_model_module": "@jupyter-widgets/controls",
            "_model_module_version": "1.5.0",
            "_model_name": "HTMLModel",
            "_view_count": null,
            "_view_module": "@jupyter-widgets/controls",
            "_view_module_version": "1.5.0",
            "_view_name": "HTMLView",
            "description": "",
            "description_tooltip": null,
            "layout": "IPY_MODEL_7bf9f6cc4de149f3a858c36c00033118",
            "placeholder": "​",
            "style": "IPY_MODEL_6a5e0c685e5c45fdb89b6684328ed687",
            "value": " 665/665 [00:00&lt;00:00, 18.0kB/s]"
          }
        },
        "d0e4eff26156406db0bb88401159680a": {
          "model_module": "@jupyter-widgets/base",
          "model_name": "LayoutModel",
          "model_module_version": "1.2.0",
          "state": {
            "_model_module": "@jupyter-widgets/base",
            "_model_module_version": "1.2.0",
            "_model_name": "LayoutModel",
            "_view_count": null,
            "_view_module": "@jupyter-widgets/base",
            "_view_module_version": "1.2.0",
            "_view_name": "LayoutView",
            "align_content": null,
            "align_items": null,
            "align_self": null,
            "border": null,
            "bottom": null,
            "display": null,
            "flex": null,
            "flex_flow": null,
            "grid_area": null,
            "grid_auto_columns": null,
            "grid_auto_flow": null,
            "grid_auto_rows": null,
            "grid_column": null,
            "grid_gap": null,
            "grid_row": null,
            "grid_template_areas": null,
            "grid_template_columns": null,
            "grid_template_rows": null,
            "height": null,
            "justify_content": null,
            "justify_items": null,
            "left": null,
            "margin": null,
            "max_height": null,
            "max_width": null,
            "min_height": null,
            "min_width": null,
            "object_fit": null,
            "object_position": null,
            "order": null,
            "overflow": null,
            "overflow_x": null,
            "overflow_y": null,
            "padding": null,
            "right": null,
            "top": null,
            "visibility": null,
            "width": null
          }
        },
        "27f497df43294a0f861ec031c9d40bcd": {
          "model_module": "@jupyter-widgets/base",
          "model_name": "LayoutModel",
          "model_module_version": "1.2.0",
          "state": {
            "_model_module": "@jupyter-widgets/base",
            "_model_module_version": "1.2.0",
            "_model_name": "LayoutModel",
            "_view_count": null,
            "_view_module": "@jupyter-widgets/base",
            "_view_module_version": "1.2.0",
            "_view_name": "LayoutView",
            "align_content": null,
            "align_items": null,
            "align_self": null,
            "border": null,
            "bottom": null,
            "display": null,
            "flex": null,
            "flex_flow": null,
            "grid_area": null,
            "grid_auto_columns": null,
            "grid_auto_flow": null,
            "grid_auto_rows": null,
            "grid_column": null,
            "grid_gap": null,
            "grid_row": null,
            "grid_template_areas": null,
            "grid_template_columns": null,
            "grid_template_rows": null,
            "height": null,
            "justify_content": null,
            "justify_items": null,
            "left": null,
            "margin": null,
            "max_height": null,
            "max_width": null,
            "min_height": null,
            "min_width": null,
            "object_fit": null,
            "object_position": null,
            "order": null,
            "overflow": null,
            "overflow_x": null,
            "overflow_y": null,
            "padding": null,
            "right": null,
            "top": null,
            "visibility": null,
            "width": null
          }
        },
        "65cef4c8424845cb9571cbd2c7c40571": {
          "model_module": "@jupyter-widgets/controls",
          "model_name": "DescriptionStyleModel",
          "model_module_version": "1.5.0",
          "state": {
            "_model_module": "@jupyter-widgets/controls",
            "_model_module_version": "1.5.0",
            "_model_name": "DescriptionStyleModel",
            "_view_count": null,
            "_view_module": "@jupyter-widgets/base",
            "_view_module_version": "1.2.0",
            "_view_name": "StyleView",
            "description_width": ""
          }
        },
        "201b1bf9e8184a889e24ac9e1a3db084": {
          "model_module": "@jupyter-widgets/base",
          "model_name": "LayoutModel",
          "model_module_version": "1.2.0",
          "state": {
            "_model_module": "@jupyter-widgets/base",
            "_model_module_version": "1.2.0",
            "_model_name": "LayoutModel",
            "_view_count": null,
            "_view_module": "@jupyter-widgets/base",
            "_view_module_version": "1.2.0",
            "_view_name": "LayoutView",
            "align_content": null,
            "align_items": null,
            "align_self": null,
            "border": null,
            "bottom": null,
            "display": null,
            "flex": null,
            "flex_flow": null,
            "grid_area": null,
            "grid_auto_columns": null,
            "grid_auto_flow": null,
            "grid_auto_rows": null,
            "grid_column": null,
            "grid_gap": null,
            "grid_row": null,
            "grid_template_areas": null,
            "grid_template_columns": null,
            "grid_template_rows": null,
            "height": null,
            "justify_content": null,
            "justify_items": null,
            "left": null,
            "margin": null,
            "max_height": null,
            "max_width": null,
            "min_height": null,
            "min_width": null,
            "object_fit": null,
            "object_position": null,
            "order": null,
            "overflow": null,
            "overflow_x": null,
            "overflow_y": null,
            "padding": null,
            "right": null,
            "top": null,
            "visibility": null,
            "width": null
          }
        },
        "2fa6978b9ace4bb2823b7d5cc49b2e16": {
          "model_module": "@jupyter-widgets/controls",
          "model_name": "ProgressStyleModel",
          "model_module_version": "1.5.0",
          "state": {
            "_model_module": "@jupyter-widgets/controls",
            "_model_module_version": "1.5.0",
            "_model_name": "ProgressStyleModel",
            "_view_count": null,
            "_view_module": "@jupyter-widgets/base",
            "_view_module_version": "1.2.0",
            "_view_name": "StyleView",
            "bar_color": null,
            "description_width": ""
          }
        },
        "7bf9f6cc4de149f3a858c36c00033118": {
          "model_module": "@jupyter-widgets/base",
          "model_name": "LayoutModel",
          "model_module_version": "1.2.0",
          "state": {
            "_model_module": "@jupyter-widgets/base",
            "_model_module_version": "1.2.0",
            "_model_name": "LayoutModel",
            "_view_count": null,
            "_view_module": "@jupyter-widgets/base",
            "_view_module_version": "1.2.0",
            "_view_name": "LayoutView",
            "align_content": null,
            "align_items": null,
            "align_self": null,
            "border": null,
            "bottom": null,
            "display": null,
            "flex": null,
            "flex_flow": null,
            "grid_area": null,
            "grid_auto_columns": null,
            "grid_auto_flow": null,
            "grid_auto_rows": null,
            "grid_column": null,
            "grid_gap": null,
            "grid_row": null,
            "grid_template_areas": null,
            "grid_template_columns": null,
            "grid_template_rows": null,
            "height": null,
            "justify_content": null,
            "justify_items": null,
            "left": null,
            "margin": null,
            "max_height": null,
            "max_width": null,
            "min_height": null,
            "min_width": null,
            "object_fit": null,
            "object_position": null,
            "order": null,
            "overflow": null,
            "overflow_x": null,
            "overflow_y": null,
            "padding": null,
            "right": null,
            "top": null,
            "visibility": null,
            "width": null
          }
        },
        "6a5e0c685e5c45fdb89b6684328ed687": {
          "model_module": "@jupyter-widgets/controls",
          "model_name": "DescriptionStyleModel",
          "model_module_version": "1.5.0",
          "state": {
            "_model_module": "@jupyter-widgets/controls",
            "_model_module_version": "1.5.0",
            "_model_name": "DescriptionStyleModel",
            "_view_count": null,
            "_view_module": "@jupyter-widgets/base",
            "_view_module_version": "1.2.0",
            "_view_name": "StyleView",
            "description_width": ""
          }
        },
        "1ff9706bde4a4fcab812ed94f08b571c": {
          "model_module": "@jupyter-widgets/controls",
          "model_name": "HBoxModel",
          "model_module_version": "1.5.0",
          "state": {
            "_dom_classes": [],
            "_model_module": "@jupyter-widgets/controls",
            "_model_module_version": "1.5.0",
            "_model_name": "HBoxModel",
            "_view_count": null,
            "_view_module": "@jupyter-widgets/controls",
            "_view_module_version": "1.5.0",
            "_view_name": "HBoxView",
            "box_style": "",
            "children": [
              "IPY_MODEL_2820ef2d90bc42ccb4645e13df8f9c7a",
              "IPY_MODEL_a369fd9c1c104ecb9bb4fd87e34d9433",
              "IPY_MODEL_e8828e9fe2cb4e4aabd2d59e89ffcc5b"
            ],
            "layout": "IPY_MODEL_8ad6017e055246b4946b0b8437c2531d"
          }
        },
        "2820ef2d90bc42ccb4645e13df8f9c7a": {
          "model_module": "@jupyter-widgets/controls",
          "model_name": "HTMLModel",
          "model_module_version": "1.5.0",
          "state": {
            "_dom_classes": [],
            "_model_module": "@jupyter-widgets/controls",
            "_model_module_version": "1.5.0",
            "_model_name": "HTMLModel",
            "_view_count": null,
            "_view_module": "@jupyter-widgets/controls",
            "_view_module_version": "1.5.0",
            "_view_name": "HTMLView",
            "description": "",
            "description_tooltip": null,
            "layout": "IPY_MODEL_e40570366ea94166ae625a9d286a5e4f",
            "placeholder": "​",
            "style": "IPY_MODEL_cdfeb3a763ce400391958ee28ee5af4b",
            "value": "Downloading: 100%"
          }
        },
        "a369fd9c1c104ecb9bb4fd87e34d9433": {
          "model_module": "@jupyter-widgets/controls",
          "model_name": "FloatProgressModel",
          "model_module_version": "1.5.0",
          "state": {
            "_dom_classes": [],
            "_model_module": "@jupyter-widgets/controls",
            "_model_module_version": "1.5.0",
            "_model_name": "FloatProgressModel",
            "_view_count": null,
            "_view_module": "@jupyter-widgets/controls",
            "_view_module_version": "1.5.0",
            "_view_name": "ProgressView",
            "bar_style": "success",
            "description": "",
            "description_tooltip": null,
            "layout": "IPY_MODEL_0ba9794910bf4f85957d5c9962925e61",
            "max": 548118077,
            "min": 0,
            "orientation": "horizontal",
            "style": "IPY_MODEL_96c8400eebe74cfeaffcf93c08df1d4a",
            "value": 548118077
          }
        },
        "e8828e9fe2cb4e4aabd2d59e89ffcc5b": {
          "model_module": "@jupyter-widgets/controls",
          "model_name": "HTMLModel",
          "model_module_version": "1.5.0",
          "state": {
            "_dom_classes": [],
            "_model_module": "@jupyter-widgets/controls",
            "_model_module_version": "1.5.0",
            "_model_name": "HTMLModel",
            "_view_count": null,
            "_view_module": "@jupyter-widgets/controls",
            "_view_module_version": "1.5.0",
            "_view_name": "HTMLView",
            "description": "",
            "description_tooltip": null,
            "layout": "IPY_MODEL_0e7718f2ddec409fa1eebe52e4691aba",
            "placeholder": "​",
            "style": "IPY_MODEL_38c0f94d48984f0c8e8bdec313464024",
            "value": " 523M/523M [00:16&lt;00:00, 35.8MB/s]"
          }
        },
        "8ad6017e055246b4946b0b8437c2531d": {
          "model_module": "@jupyter-widgets/base",
          "model_name": "LayoutModel",
          "model_module_version": "1.2.0",
          "state": {
            "_model_module": "@jupyter-widgets/base",
            "_model_module_version": "1.2.0",
            "_model_name": "LayoutModel",
            "_view_count": null,
            "_view_module": "@jupyter-widgets/base",
            "_view_module_version": "1.2.0",
            "_view_name": "LayoutView",
            "align_content": null,
            "align_items": null,
            "align_self": null,
            "border": null,
            "bottom": null,
            "display": null,
            "flex": null,
            "flex_flow": null,
            "grid_area": null,
            "grid_auto_columns": null,
            "grid_auto_flow": null,
            "grid_auto_rows": null,
            "grid_column": null,
            "grid_gap": null,
            "grid_row": null,
            "grid_template_areas": null,
            "grid_template_columns": null,
            "grid_template_rows": null,
            "height": null,
            "justify_content": null,
            "justify_items": null,
            "left": null,
            "margin": null,
            "max_height": null,
            "max_width": null,
            "min_height": null,
            "min_width": null,
            "object_fit": null,
            "object_position": null,
            "order": null,
            "overflow": null,
            "overflow_x": null,
            "overflow_y": null,
            "padding": null,
            "right": null,
            "top": null,
            "visibility": null,
            "width": null
          }
        },
        "e40570366ea94166ae625a9d286a5e4f": {
          "model_module": "@jupyter-widgets/base",
          "model_name": "LayoutModel",
          "model_module_version": "1.2.0",
          "state": {
            "_model_module": "@jupyter-widgets/base",
            "_model_module_version": "1.2.0",
            "_model_name": "LayoutModel",
            "_view_count": null,
            "_view_module": "@jupyter-widgets/base",
            "_view_module_version": "1.2.0",
            "_view_name": "LayoutView",
            "align_content": null,
            "align_items": null,
            "align_self": null,
            "border": null,
            "bottom": null,
            "display": null,
            "flex": null,
            "flex_flow": null,
            "grid_area": null,
            "grid_auto_columns": null,
            "grid_auto_flow": null,
            "grid_auto_rows": null,
            "grid_column": null,
            "grid_gap": null,
            "grid_row": null,
            "grid_template_areas": null,
            "grid_template_columns": null,
            "grid_template_rows": null,
            "height": null,
            "justify_content": null,
            "justify_items": null,
            "left": null,
            "margin": null,
            "max_height": null,
            "max_width": null,
            "min_height": null,
            "min_width": null,
            "object_fit": null,
            "object_position": null,
            "order": null,
            "overflow": null,
            "overflow_x": null,
            "overflow_y": null,
            "padding": null,
            "right": null,
            "top": null,
            "visibility": null,
            "width": null
          }
        },
        "cdfeb3a763ce400391958ee28ee5af4b": {
          "model_module": "@jupyter-widgets/controls",
          "model_name": "DescriptionStyleModel",
          "model_module_version": "1.5.0",
          "state": {
            "_model_module": "@jupyter-widgets/controls",
            "_model_module_version": "1.5.0",
            "_model_name": "DescriptionStyleModel",
            "_view_count": null,
            "_view_module": "@jupyter-widgets/base",
            "_view_module_version": "1.2.0",
            "_view_name": "StyleView",
            "description_width": ""
          }
        },
        "0ba9794910bf4f85957d5c9962925e61": {
          "model_module": "@jupyter-widgets/base",
          "model_name": "LayoutModel",
          "model_module_version": "1.2.0",
          "state": {
            "_model_module": "@jupyter-widgets/base",
            "_model_module_version": "1.2.0",
            "_model_name": "LayoutModel",
            "_view_count": null,
            "_view_module": "@jupyter-widgets/base",
            "_view_module_version": "1.2.0",
            "_view_name": "LayoutView",
            "align_content": null,
            "align_items": null,
            "align_self": null,
            "border": null,
            "bottom": null,
            "display": null,
            "flex": null,
            "flex_flow": null,
            "grid_area": null,
            "grid_auto_columns": null,
            "grid_auto_flow": null,
            "grid_auto_rows": null,
            "grid_column": null,
            "grid_gap": null,
            "grid_row": null,
            "grid_template_areas": null,
            "grid_template_columns": null,
            "grid_template_rows": null,
            "height": null,
            "justify_content": null,
            "justify_items": null,
            "left": null,
            "margin": null,
            "max_height": null,
            "max_width": null,
            "min_height": null,
            "min_width": null,
            "object_fit": null,
            "object_position": null,
            "order": null,
            "overflow": null,
            "overflow_x": null,
            "overflow_y": null,
            "padding": null,
            "right": null,
            "top": null,
            "visibility": null,
            "width": null
          }
        },
        "96c8400eebe74cfeaffcf93c08df1d4a": {
          "model_module": "@jupyter-widgets/controls",
          "model_name": "ProgressStyleModel",
          "model_module_version": "1.5.0",
          "state": {
            "_model_module": "@jupyter-widgets/controls",
            "_model_module_version": "1.5.0",
            "_model_name": "ProgressStyleModel",
            "_view_count": null,
            "_view_module": "@jupyter-widgets/base",
            "_view_module_version": "1.2.0",
            "_view_name": "StyleView",
            "bar_color": null,
            "description_width": ""
          }
        },
        "0e7718f2ddec409fa1eebe52e4691aba": {
          "model_module": "@jupyter-widgets/base",
          "model_name": "LayoutModel",
          "model_module_version": "1.2.0",
          "state": {
            "_model_module": "@jupyter-widgets/base",
            "_model_module_version": "1.2.0",
            "_model_name": "LayoutModel",
            "_view_count": null,
            "_view_module": "@jupyter-widgets/base",
            "_view_module_version": "1.2.0",
            "_view_name": "LayoutView",
            "align_content": null,
            "align_items": null,
            "align_self": null,
            "border": null,
            "bottom": null,
            "display": null,
            "flex": null,
            "flex_flow": null,
            "grid_area": null,
            "grid_auto_columns": null,
            "grid_auto_flow": null,
            "grid_auto_rows": null,
            "grid_column": null,
            "grid_gap": null,
            "grid_row": null,
            "grid_template_areas": null,
            "grid_template_columns": null,
            "grid_template_rows": null,
            "height": null,
            "justify_content": null,
            "justify_items": null,
            "left": null,
            "margin": null,
            "max_height": null,
            "max_width": null,
            "min_height": null,
            "min_width": null,
            "object_fit": null,
            "object_position": null,
            "order": null,
            "overflow": null,
            "overflow_x": null,
            "overflow_y": null,
            "padding": null,
            "right": null,
            "top": null,
            "visibility": null,
            "width": null
          }
        },
        "38c0f94d48984f0c8e8bdec313464024": {
          "model_module": "@jupyter-widgets/controls",
          "model_name": "DescriptionStyleModel",
          "model_module_version": "1.5.0",
          "state": {
            "_model_module": "@jupyter-widgets/controls",
            "_model_module_version": "1.5.0",
            "_model_name": "DescriptionStyleModel",
            "_view_count": null,
            "_view_module": "@jupyter-widgets/base",
            "_view_module_version": "1.2.0",
            "_view_name": "StyleView",
            "description_width": ""
          }
        }
      }
    }
  },
  "cells": [
    {
      "cell_type": "markdown",
      "metadata": {
        "id": "view-in-github",
        "colab_type": "text"
      },
      "source": [
        "<a href=\"https://colab.research.google.com/github/ericsdata/colinsbeer/blob/main/src/WriteReviews.ipynb\" target=\"_parent\"><img src=\"https://colab.research.google.com/assets/colab-badge.svg\" alt=\"Open In Colab\"/></a>"
      ]
    },
    {
      "cell_type": "code",
      "execution_count": 2,
      "metadata": {
        "colab": {
          "base_uri": "https://localhost:8080/"
        },
        "id": "j8IL_CjJ9NX3",
        "outputId": "a8cea60c-392a-4388-8de0-71b658abd02e"
      },
      "outputs": [
        {
          "output_type": "stream",
          "name": "stdout",
          "text": [
            "Collecting transformers\n",
            "  Downloading transformers-4.18.0-py3-none-any.whl (4.0 MB)\n",
            "\u001b[K     |████████████████████████████████| 4.0 MB 5.2 MB/s \n",
            "\u001b[?25hCollecting pyyaml>=5.1\n",
            "  Downloading PyYAML-6.0-cp37-cp37m-manylinux_2_5_x86_64.manylinux1_x86_64.manylinux_2_12_x86_64.manylinux2010_x86_64.whl (596 kB)\n",
            "\u001b[K     |████████████████████████████████| 596 kB 47.5 MB/s \n",
            "\u001b[?25hCollecting sacremoses\n",
            "  Downloading sacremoses-0.0.49-py3-none-any.whl (895 kB)\n",
            "\u001b[K     |████████████████████████████████| 895 kB 42.8 MB/s \n",
            "\u001b[?25hCollecting tokenizers!=0.11.3,<0.13,>=0.11.1\n",
            "  Downloading tokenizers-0.11.6-cp37-cp37m-manylinux_2_12_x86_64.manylinux2010_x86_64.whl (6.5 MB)\n",
            "\u001b[K     |████████████████████████████████| 6.5 MB 34.7 MB/s \n",
            "\u001b[?25hRequirement already satisfied: tqdm>=4.27 in /usr/local/lib/python3.7/dist-packages (from transformers) (4.63.0)\n",
            "Requirement already satisfied: numpy>=1.17 in /usr/local/lib/python3.7/dist-packages (from transformers) (1.21.5)\n",
            "Requirement already satisfied: packaging>=20.0 in /usr/local/lib/python3.7/dist-packages (from transformers) (21.3)\n",
            "Requirement already satisfied: importlib-metadata in /usr/local/lib/python3.7/dist-packages (from transformers) (4.11.3)\n",
            "Collecting huggingface-hub<1.0,>=0.1.0\n",
            "  Downloading huggingface_hub-0.5.1-py3-none-any.whl (77 kB)\n",
            "\u001b[K     |████████████████████████████████| 77 kB 6.2 MB/s \n",
            "\u001b[?25hRequirement already satisfied: regex!=2019.12.17 in /usr/local/lib/python3.7/dist-packages (from transformers) (2019.12.20)\n",
            "Requirement already satisfied: filelock in /usr/local/lib/python3.7/dist-packages (from transformers) (3.6.0)\n",
            "Requirement already satisfied: requests in /usr/local/lib/python3.7/dist-packages (from transformers) (2.23.0)\n",
            "Requirement already satisfied: typing-extensions>=3.7.4.3 in /usr/local/lib/python3.7/dist-packages (from huggingface-hub<1.0,>=0.1.0->transformers) (3.10.0.2)\n",
            "Requirement already satisfied: pyparsing!=3.0.5,>=2.0.2 in /usr/local/lib/python3.7/dist-packages (from packaging>=20.0->transformers) (3.0.7)\n",
            "Requirement already satisfied: zipp>=0.5 in /usr/local/lib/python3.7/dist-packages (from importlib-metadata->transformers) (3.7.0)\n",
            "Requirement already satisfied: urllib3!=1.25.0,!=1.25.1,<1.26,>=1.21.1 in /usr/local/lib/python3.7/dist-packages (from requests->transformers) (1.24.3)\n",
            "Requirement already satisfied: idna<3,>=2.5 in /usr/local/lib/python3.7/dist-packages (from requests->transformers) (2.10)\n",
            "Requirement already satisfied: chardet<4,>=3.0.2 in /usr/local/lib/python3.7/dist-packages (from requests->transformers) (3.0.4)\n",
            "Requirement already satisfied: certifi>=2017.4.17 in /usr/local/lib/python3.7/dist-packages (from requests->transformers) (2021.10.8)\n",
            "Requirement already satisfied: six in /usr/local/lib/python3.7/dist-packages (from sacremoses->transformers) (1.15.0)\n",
            "Requirement already satisfied: click in /usr/local/lib/python3.7/dist-packages (from sacremoses->transformers) (7.1.2)\n",
            "Requirement already satisfied: joblib in /usr/local/lib/python3.7/dist-packages (from sacremoses->transformers) (1.1.0)\n",
            "Installing collected packages: pyyaml, tokenizers, sacremoses, huggingface-hub, transformers\n",
            "  Attempting uninstall: pyyaml\n",
            "    Found existing installation: PyYAML 3.13\n",
            "    Uninstalling PyYAML-3.13:\n",
            "      Successfully uninstalled PyYAML-3.13\n",
            "Successfully installed huggingface-hub-0.5.1 pyyaml-6.0 sacremoses-0.0.49 tokenizers-0.11.6 transformers-4.18.0\n"
          ]
        }
      ],
      "source": [
        "!pip install transformers"
      ]
    },
    {
      "cell_type": "code",
      "source": [
        "## Packages\n",
        "import os\n",
        "import pandas as pd\n",
        "import torch\n",
        "import pickle\n",
        "import numpy as np\n",
        "import random\n",
        "import datetime\n",
        "import time\n",
        "\n",
        "\n",
        "from torch.utils.data import random_split, RandomSampler, SequentialSampler\n",
        "from torch.utils.data import Dataset, DataLoader\n",
        "\n",
        "from transformers import GPT2LMHeadModel,  GPT2Tokenizer, GPT2Config,  AdamW, get_linear_schedule_with_warmup\n"
      ],
      "metadata": {
        "id": "f0GgxWQW9Pvr"
      },
      "execution_count": 3,
      "outputs": []
    },
    {
      "cell_type": "code",
      "source": [
        "## Class to hold beer text\n",
        "class generative_BD(torch.utils.data.Dataset):\n",
        "  '''Sequence text tokens\n",
        "      This means it adds tags to start and end of texts\n",
        "\n",
        "      Reads in text dataset, & tokenizes\n",
        "\n",
        "      !!! NEED TO ADD PADDING TOKEN\n",
        "  '''\n",
        "\n",
        "  def __init__(self,text_list, tokenizer, text_tags, gpt2_type=\"gpt2\", max_length=768):\n",
        "    #self.text_list = text_list\n",
        "    self.tokenizer = tokenizer\n",
        "    self.input_ids = []\n",
        "    self.attn_masks = []\n",
        "    self.text_tags = [text_tags]\n",
        "\n",
        "    ## In definitoin\n",
        "    for txt in text_list:\n",
        "\n",
        "        encodings_dict = tokenizer('<%s>'%(text_tags[0])+ txt + '<%s>'%(text_tags[1]), truncation=True, max_length=max_length, padding=\"max_length\")\n",
        "\n",
        "        self.input_ids.append(torch.tensor(encodings_dict['input_ids']))\n",
        "        self.attn_masks.append(torch.tensor(encodings_dict['attention_mask']))\n",
        "\n",
        "  def __getitem__(self, idx):\n",
        "    return self.input_ids[idx], self.attn_masks[idx]\n",
        "\n",
        "  def __len__(self):\n",
        "    return len(self.input_ids)\n",
        "\n",
        "## Func to do some date formatting\n",
        "\n",
        "def format_time(time_elapsed):\n",
        "    return str(datetime.timedelta(seconds = int(round(time_elapsed))))\n"
      ],
      "metadata": {
        "id": "DfkSZMY49a_d"
      },
      "execution_count": 4,
      "outputs": []
    },
    {
      "cell_type": "code",
      "source": [
        "### Data Read\n",
        "\n",
        "with open(\"train_data\", \"rb\") as fp:   # Unpickling\n",
        "   revs = pickle.load(fp)"
      ],
      "metadata": {
        "id": "aJVf8sKc9fv-"
      },
      "execution_count": 5,
      "outputs": []
    },
    {
      "cell_type": "code",
      "source": [
        "# Split into training and validation sets\n",
        "train_size = int(0.8 * len(revs))\n",
        "val_size = len(revs) - train_size\n",
        "\n",
        "revs_train, revs_val = random_split(revs, [train_size, val_size])\n",
        "\n",
        "print('{:>5,} training samples'.format(train_size))\n",
        "print('{:>5,} validation samples'.format(val_size))\n"
      ],
      "metadata": {
        "colab": {
          "base_uri": "https://localhost:8080/"
        },
        "id": "iFUE93uq-Kz9",
        "outputId": "1154eaa5-b876-46d2-90d9-2f65564ab429"
      },
      "execution_count": 6,
      "outputs": [
        {
          "output_type": "stream",
          "name": "stdout",
          "text": [
            "1,907 training samples\n",
            "  477 validation samples\n"
          ]
        }
      ]
    },
    {
      "cell_type": "code",
      "source": [
        "### Init tokenizer\n",
        "tokenizer = GPT2Tokenizer.from_pretrained('gpt2')\n",
        "\n",
        "## Add padding token\n",
        "if tokenizer.pad_token is None:\n",
        "    tokenizer.add_special_tokens({'pad_token': '[PAD]'})\n",
        "\n",
        "### Set up the data in datasets\n",
        "train_dataset = generative_BD(text_list= revs_train, tokenizer = tokenizer, text_tags = ['CLS', 'SEP'])\n",
        "val_dataset = generative_BD(text_list= revs_val, tokenizer = tokenizer, text_tags = ['CLS', 'SEP'])"
      ],
      "metadata": {
        "colab": {
          "base_uri": "https://localhost:8080/",
          "height": 131,
          "referenced_widgets": [
            "97ae4f38323e486b8865128b3aaf4852",
            "e06dcaea6b9c4faa980f9a2122ce8359",
            "4d72f5d3f0534c619078e8fca02abc1a",
            "5b0397d5045c4e7fb1eea4cceacf42a8",
            "e982e9bd63b14aca9d64979ff8f937eb",
            "fd0c701f95b04f599ce904687598f06d",
            "f938a35c57fd4a5fb3292ec41c59992d",
            "0ca3a659a7604697955b4252fa9973fd",
            "706ea48b925f40ee8ebaddc738de19e0",
            "00878413a3214c8b9e48560cd79ca909",
            "92580823f99b4d4bb7d9e6c0d0754bbe",
            "e050aceeae6c425da571e138c967ee63",
            "62dda7c16d1645cea056dbd213f054ed",
            "d37bd605b77f41969ff2bb7094c1997e",
            "78c0bbb3b8a34847a954bec05ff37348",
            "de1aef2efc154091a72ecda5b91d405e",
            "77594756fe8846d99abdb3fabf750b60",
            "3ac00a7f4afc42ab840a28a68bb338fd",
            "2f575c6a61fd48d4932b47e6a743399f",
            "6358c96c847d4e209c97a5e1d0da32b1",
            "ff2acaedc32f4d79b6f750d5cec9446c",
            "7af68a94712c41a69b725846823f949c",
            "428b886ab49147c9804868bbb1e3bcf5",
            "12429abcf321447598ec211ebcf3a499",
            "9330d8ea0f5249df8d01af31ec4e62c4",
            "e2e5876670d14d78a10ee9fbdfc16973",
            "d0e4eff26156406db0bb88401159680a",
            "27f497df43294a0f861ec031c9d40bcd",
            "65cef4c8424845cb9571cbd2c7c40571",
            "201b1bf9e8184a889e24ac9e1a3db084",
            "2fa6978b9ace4bb2823b7d5cc49b2e16",
            "7bf9f6cc4de149f3a858c36c00033118",
            "6a5e0c685e5c45fdb89b6684328ed687"
          ]
        },
        "id": "b102j5AT-MNS",
        "outputId": "4f5255da-ca97-4938-a0d0-c9f23fd692e3"
      },
      "execution_count": 7,
      "outputs": [
        {
          "output_type": "display_data",
          "data": {
            "text/plain": [
              "Downloading:   0%|          | 0.00/0.99M [00:00<?, ?B/s]"
            ],
            "application/vnd.jupyter.widget-view+json": {
              "version_major": 2,
              "version_minor": 0,
              "model_id": "97ae4f38323e486b8865128b3aaf4852"
            }
          },
          "metadata": {}
        },
        {
          "output_type": "display_data",
          "data": {
            "text/plain": [
              "Downloading:   0%|          | 0.00/446k [00:00<?, ?B/s]"
            ],
            "application/vnd.jupyter.widget-view+json": {
              "version_major": 2,
              "version_minor": 0,
              "model_id": "e050aceeae6c425da571e138c967ee63"
            }
          },
          "metadata": {}
        },
        {
          "output_type": "display_data",
          "data": {
            "text/plain": [
              "Downloading:   0%|          | 0.00/665 [00:00<?, ?B/s]"
            ],
            "application/vnd.jupyter.widget-view+json": {
              "version_major": 2,
              "version_minor": 0,
              "model_id": "428b886ab49147c9804868bbb1e3bcf5"
            }
          },
          "metadata": {}
        },
        {
          "output_type": "stream",
          "name": "stderr",
          "text": [
            "Using pad_token, but it is not set yet.\n"
          ]
        }
      ]
    },
    {
      "cell_type": "code",
      "source": [
        "## Init paramters\n",
        "batch_size = 2\n",
        "\n",
        "\n",
        "epochs = 5\n",
        "learning_rate = 5e-4\n",
        "warmup_steps = 1e2\n",
        "epsilon = 1e-8\n",
        "\n",
        "# this produces sample output every 100 steps\n",
        "sample_every = 50"
      ],
      "metadata": {
        "id": "OpLxklL8-2zT"
      },
      "execution_count": 8,
      "outputs": []
    },
    {
      "cell_type": "code",
      "source": [
        "# Create the DataLoaders for our training and validation datasets.\n",
        "# We'll take training samples in random order. \n",
        "train_dataloader = DataLoader(\n",
        "            train_dataset,  # The training samples.\n",
        "            sampler = RandomSampler(train_dataset), # Select batches randomly\n",
        "            batch_size = batch_size # Trains with this batch size.\n",
        "        )\n",
        "\n",
        "# For validation the order doesn't matter, so we'll just read them sequentially.\n",
        "validation_dataloader = DataLoader(\n",
        "            val_dataset, # The validation samples.\n",
        "            sampler = SequentialSampler(val_dataset), # Pull out batches sequentially.\n",
        "            batch_size = batch_size # Evaluate with this batch size.\n",
        "        )"
      ],
      "metadata": {
        "id": "XugiYxtn-kts"
      },
      "execution_count": 9,
      "outputs": []
    },
    {
      "cell_type": "code",
      "source": [
        "## Init Model\n",
        "\n",
        "# I'm not really doing anything with the config \n",
        "configuration = GPT2Config.from_pretrained('gpt2', output_hidden_states=False)\n",
        "\n",
        "model = GPT2LMHeadModel.from_pretrained(\"gpt2\", config=configuration)\n",
        "\n",
        "# this step is necessary because I've added some tokens (bos_token, etc) to the embeddings\n",
        "# otherwise the tokenizer and model tensors won't match up\n",
        "model.resize_token_embeddings(len(tokenizer))"
      ],
      "metadata": {
        "colab": {
          "base_uri": "https://localhost:8080/",
          "height": 67,
          "referenced_widgets": [
            "1ff9706bde4a4fcab812ed94f08b571c",
            "2820ef2d90bc42ccb4645e13df8f9c7a",
            "a369fd9c1c104ecb9bb4fd87e34d9433",
            "e8828e9fe2cb4e4aabd2d59e89ffcc5b",
            "8ad6017e055246b4946b0b8437c2531d",
            "e40570366ea94166ae625a9d286a5e4f",
            "cdfeb3a763ce400391958ee28ee5af4b",
            "0ba9794910bf4f85957d5c9962925e61",
            "96c8400eebe74cfeaffcf93c08df1d4a",
            "0e7718f2ddec409fa1eebe52e4691aba",
            "38c0f94d48984f0c8e8bdec313464024"
          ]
        },
        "id": "8I5B0bIp_ZTK",
        "outputId": "2af07fbb-18d9-4102-9d98-aa87654a4fb3"
      },
      "execution_count": 10,
      "outputs": [
        {
          "output_type": "display_data",
          "data": {
            "text/plain": [
              "Downloading:   0%|          | 0.00/523M [00:00<?, ?B/s]"
            ],
            "application/vnd.jupyter.widget-view+json": {
              "version_major": 2,
              "version_minor": 0,
              "model_id": "1ff9706bde4a4fcab812ed94f08b571c"
            }
          },
          "metadata": {}
        },
        {
          "output_type": "execute_result",
          "data": {
            "text/plain": [
              "Embedding(50258, 768)"
            ]
          },
          "metadata": {},
          "execution_count": 10
        }
      ]
    },
    {
      "cell_type": "code",
      "source": [
        "### SEt model how to run\n",
        "#device = torch.device(\"cuda\" if torch.cuda.is_available() else \"cpu\")\n",
        "\n",
        "\n",
        "# Tell pytorch to run this model on the GPU.\n",
        "device = torch.device(\"cuda\")\n",
        "model.cuda()\n",
        "\n",
        "# Set the seed value all over the place to make this reproducible.\n",
        "seed_val = 42\n",
        "\n",
        "random.seed(seed_val)\n",
        "np.random.seed(seed_val)\n",
        "torch.manual_seed(seed_val)\n",
        "torch.cuda.manual_seed_all(seed_val)"
      ],
      "metadata": {
        "id": "TnLmDUGoAgR4"
      },
      "execution_count": 11,
      "outputs": []
    },
    {
      "cell_type": "code",
      "source": [
        "optimizer = AdamW(model.parameters(),\n",
        "            lr = learning_rate,\n",
        "            eps = epsilon)"
      ],
      "metadata": {
        "colab": {
          "base_uri": "https://localhost:8080/"
        },
        "id": "OmJabTUk_tyF",
        "outputId": "af795d59-18d8-4448-94df-344b044f89f4"
      },
      "execution_count": 12,
      "outputs": [
        {
          "output_type": "stream",
          "name": "stderr",
          "text": [
            "/usr/local/lib/python3.7/dist-packages/transformers/optimization.py:309: FutureWarning: This implementation of AdamW is deprecated and will be removed in a future version. Use the PyTorch implementation torch.optim.AdamW instead, or set `no_deprecation_warning=True` to disable this warning\n",
            "  FutureWarning,\n"
          ]
        }
      ]
    },
    {
      "cell_type": "code",
      "source": [
        "### Figure out how many training steps\n",
        "\n",
        "total_steps = len(revs_train) * epochs\n",
        "\n",
        "## A scheduler adjusts the learning rate as the training loop progresses\n",
        "\n",
        "scheduler = get_linear_schedule_with_warmup(optimizer,\n",
        "                                            num_warmup_steps = warmup_steps,\n",
        "                                            num_training_steps = total_steps)"
      ],
      "metadata": {
        "id": "5ETJjheO_vw3"
      },
      "execution_count": 13,
      "outputs": []
    },
    {
      "cell_type": "code",
      "source": [
        "#start training\n",
        "total_t0 = time.time()\n",
        "## store records of each run\n",
        "training_stats = []\n",
        "\n",
        "### Manual set for each epoch of training\n",
        "for epoch_i in range(0, epochs):\n",
        "    print(\"\")\n",
        "    print('======== Epoch {:} / {:} ========'.format(epoch_i + 1, epochs))\n",
        "    print('Training...')\n",
        "\n",
        "    ## Store process starting time\n",
        "    startT = time.time()\n",
        "    ## Init loss across training\n",
        "    total_train_loss = 0\n",
        "    #begin model training\n",
        "    model.train()\n",
        "\n",
        "    for step, batch in enumerate(train_dataset):\n",
        "        b_input_ids =batch[0].to(device) ## send input ids to model\n",
        "        b_labels = batch[0].to(device) ## send labels to model (labs are smae as input in gen text)\n",
        "        b_masks = batch[1].to(device) ## send attention layer to model\n",
        "\n",
        "        #init gradient at 0\n",
        "        model.zero_grad()        \n",
        "        ## feed labels, inputs, and masks to model\n",
        "        outputs = model(  b_input_ids,\n",
        "                          labels=b_labels, \n",
        "                          attention_mask = b_masks,\n",
        "                          token_type_ids=None\n",
        "                        )\n",
        "        ## Calc loss\n",
        "        loss = outputs[0]  \n",
        "        ### loss on batch\n",
        "        batch_loss = loss.item()\n",
        "        ## Add it to total training loss\n",
        "        total_train_loss += batch_loss\n",
        "        ### Reporting step\n",
        "        if step % sample_every == 0 and not step == 0:\n",
        "          elapsed = format_time(time.time() - startT)\n",
        "          print('  Batch {:>5,}  of  {:>5,}. Loss: {:>5,}.   Elapsed: {:}.'.format(step, len(train_dataset), batch_loss, elapsed))\n",
        "\n",
        "          model.eval()\n",
        "          ### Output some samples so you know its working\n",
        "          sample_outputs = model.generate(\n",
        "                                bos_token_id = random.randint(1,30000)\n",
        "                                ,do_sample = True\n",
        "                                ,top_k = 50\n",
        "                                ,max_lenght = 200\n",
        "                                ,top_p = 0.095\n",
        "                                ,num_return_sequences = 1\n",
        "          )\n",
        "\n",
        "          for i, sample_output in enumerate(sample_outputs):\n",
        "                  print(\"{}: {}\".format(i, tokenizer.decode(sample_output, skip_special_tokens=True)))\n",
        "\n",
        "          model.train()\n",
        "\n",
        "        loss.backward()\n",
        "\n",
        "        optimizer.step()\n",
        "\n",
        "        scheduler.step()\n",
        "    ## Calcu average loss over all epochs\n",
        "    avg_train_loss = total_train_loss / len(train_dataset)\n",
        "\n",
        "    ## Ouput how long epoch took\n",
        "    training_time = format_time(time.time() - startT)\n",
        "\n",
        "    print(\"\")\n",
        "    print(\"  Average training loss: {0:.2f}\".format(avg_train_loss))\n",
        "    print(\"  Training epoch took: {:}\".format(training_time))\n",
        "\n",
        "     # ========================================\n",
        "    #               Validation\n",
        "    # ========================================\n",
        "\n",
        "    print(\"\")\n",
        "    print(\"Running Validation...\")\n",
        "\n",
        "    t0 = time.time()\n",
        "\n",
        "    model.eval()\n",
        "\n",
        "    total_eval_loss = 0\n",
        "    nb_eval_steps = 0\n",
        "\n",
        "    # Evaluate data for one epoch\n",
        "    for batch in validation_dataloader:\n",
        "        \n",
        "        b_input_ids = batch[0].to(device)\n",
        "        b_labels = batch[0].to(device)\n",
        "        b_masks = batch[1].to(device)\n",
        "        \n",
        "        with torch.no_grad():        \n",
        "\n",
        "            outputs  = model(b_input_ids, \n",
        "#                            token_type_ids=None, \n",
        "                             attention_mask = b_masks,\n",
        "                            labels=b_labels)\n",
        "          \n",
        "            loss = outputs[0]  \n",
        "            \n",
        "        batch_loss = loss.item()\n",
        "        total_eval_loss += batch_loss        \n",
        "\n",
        "    avg_val_loss = total_eval_loss / len(validation_dataloader)\n",
        "    \n",
        "    validation_time = format_time(time.time() - t0)    \n",
        "\n",
        "    print(\"  Validation Loss: {0:.2f}\".format(avg_val_loss))\n",
        "    print(\"  Validation took: {:}\".format(validation_time))\n",
        "\n",
        "    # Record all statistics from this epoch.\n",
        "    training_stats.append(\n",
        "        {\n",
        "            'epoch': epoch_i + 1,\n",
        "            'Training Loss': avg_train_loss,\n",
        "            'Valid. Loss': avg_val_loss,\n",
        "            'Training Time': training_time,\n",
        "            'Validation Time': validation_time\n",
        "        }\n",
        "    )\n",
        "\n",
        "print(\"\")\n",
        "print(\"Training complete!\")\n",
        "print(\"Total training took {:} (h:mm:ss)\".format(format_time(time.time()-total_t0)))"
      ],
      "metadata": {
        "colab": {
          "base_uri": "https://localhost:8080/"
        },
        "id": "rWRtnJGI__Hb",
        "outputId": "4eb81a9e-77d4-49ff-efcf-fa45a90210bd"
      },
      "execution_count": 14,
      "outputs": [
        {
          "output_type": "stream",
          "name": "stdout",
          "text": [
            "\n",
            "======== Epoch 1 / 5 ========\n",
            "Training...\n"
          ]
        },
        {
          "output_type": "stream",
          "name": "stderr",
          "text": [
            "Setting `pad_token_id` to `eos_token_id`:50256 for open-end generation.\n"
          ]
        },
        {
          "output_type": "stream",
          "name": "stdout",
          "text": [
            "  Batch    50  of  1,907. Loss: 0.4144846200942993.   Elapsed: 0:00:28.\n",
            "0:  bipartisan and\n"
          ]
        },
        {
          "output_type": "stream",
          "name": "stderr",
          "text": [
            "Setting `pad_token_id` to `eos_token_id`:50256 for open-end generation.\n"
          ]
        },
        {
          "output_type": "stream",
          "name": "stdout",
          "text": [
            "  Batch   100  of  1,907. Loss: 0.763882040977478.   Elapsed: 0:00:56.\n",
            "0:  increasing the, and the amount of\n"
          ]
        },
        {
          "output_type": "stream",
          "name": "stderr",
          "text": [
            "Setting `pad_token_id` to `eos_token_id`:50256 for open-end generation.\n"
          ]
        },
        {
          "output_type": "stream",
          "name": "stdout",
          "text": [
            "  Batch   150  of  1,907. Loss: 0.25168395042419434.   Elapsed: 0:01:23.\n",
            "0: dayCLS>3202 1 Bottle of Bottle of Bottle of Bottle of Bottle of Bottle of Bottle\n"
          ]
        },
        {
          "output_type": "stream",
          "name": "stderr",
          "text": [
            "Setting `pad_token_id` to `eos_token_id`:50256 for open-end generation.\n"
          ]
        },
        {
          "output_type": "stream",
          "name": "stdout",
          "text": [
            "  Batch   200  of  1,907. Loss: 0.1421884447336197.   Elapsed: 0:01:51.\n",
            "0:  HangCLS>46471 1 Bottle of Bottle of Bottle of Bottle of Bottle of Bottle of Bottle\n"
          ]
        },
        {
          "output_type": "stream",
          "name": "stderr",
          "text": [
            "Setting `pad_token_id` to `eos_token_id`:50256 for open-end generation.\n"
          ]
        },
        {
          "output_type": "stream",
          "name": "stdout",
          "text": [
            "  Batch   250  of  1,907. Loss: 0.7142435908317566.   Elapsed: 0:02:19.\n",
            "0:  foodsCLS>46471 1 Bottle of coffee.  Aroma is light and sweet with a\n"
          ]
        },
        {
          "output_type": "stream",
          "name": "stderr",
          "text": [
            "Setting `pad_token_id` to `eos_token_id`:50256 for open-end generation.\n"
          ]
        },
        {
          "output_type": "stream",
          "name": "stdout",
          "text": [
            "  Batch   300  of  1,907. Loss: 0.4597827196121216.   Elapsed: 0:02:46.\n",
            "0:  trailCLS>117319 1 Bottle.  Aroma of caramel, caramel, caramel,\n"
          ]
        },
        {
          "output_type": "stream",
          "name": "stderr",
          "text": [
            "Setting `pad_token_id` to `eos_token_id`:50256 for open-end generation.\n"
          ]
        },
        {
          "output_type": "stream",
          "name": "stdout",
          "text": [
            "  Batch   350  of  1,907. Loss: 0.24330691993236542.   Elapsed: 0:03:14.\n",
            "0: intendCLS>3202 1 Bottle.  Pours a dark brown with a thin head.\n"
          ]
        },
        {
          "output_type": "stream",
          "name": "stderr",
          "text": [
            "Setting `pad_token_id` to `eos_token_id`:50256 for open-end generation.\n"
          ]
        },
        {
          "output_type": "stream",
          "name": "stdout",
          "text": [
            "  Batch   400  of  1,907. Loss: 0.15504448115825653.   Elapsed: 0:03:42.\n",
            "0:  surroundCLS>117319 1 Bottle.  Aroma is of caramel, chocolate, and\n"
          ]
        },
        {
          "output_type": "stream",
          "name": "stderr",
          "text": [
            "Setting `pad_token_id` to `eos_token_id`:50256 for open-end generation.\n"
          ]
        },
        {
          "output_type": "stream",
          "name": "stdout",
          "text": [
            "  Batch   450  of  1,907. Loss: 1.3873591423034668.   Elapsed: 0:04:09.\n",
            "0:  reflexCLS>4302 1 Aroma: \t\t\t\t\t\t\t\t\t\n"
          ]
        },
        {
          "output_type": "stream",
          "name": "stderr",
          "text": [
            "Setting `pad_token_id` to `eos_token_id`:50256 for open-end generation.\n"
          ]
        },
        {
          "output_type": "stream",
          "name": "stdout",
          "text": [
            "  Batch   500  of  1,907. Loss: 0.28531956672668457.   Elapsed: 0:04:37.\n",
            "0:  displayCLS>29028 1 Bottle.  Aroma is of roasted malt, caramel, and\n"
          ]
        },
        {
          "output_type": "stream",
          "name": "stderr",
          "text": [
            "Setting `pad_token_id` to `eos_token_id`:50256 for open-end generation.\n"
          ]
        },
        {
          "output_type": "stream",
          "name": "stdout",
          "text": [
            "  Batch   550  of  1,907. Loss: 0.5123282670974731.   Elapsed: 0:05:05.\n",
            "0:  pastorCLS>117319 1 Bottle.  Aroma is sweet caramel, caramel, caramel\n"
          ]
        },
        {
          "output_type": "stream",
          "name": "stderr",
          "text": [
            "Setting `pad_token_id` to `eos_token_id`:50256 for open-end generation.\n"
          ]
        },
        {
          "output_type": "stream",
          "name": "stdout",
          "text": [
            "  Batch   600  of  1,907. Loss: 0.43285268545150757.   Elapsed: 0:05:32.\n",
            "0:  illicitCLS>4302 1 Bottle.  Aroma of coffee, fig, fig, fig\n"
          ]
        },
        {
          "output_type": "stream",
          "name": "stderr",
          "text": [
            "Setting `pad_token_id` to `eos_token_id`:50256 for open-end generation.\n"
          ]
        },
        {
          "output_type": "stream",
          "name": "stdout",
          "text": [
            "  Batch   650  of  1,907. Loss: 0.2823176980018616.   Elapsed: 0:06:00.\n",
            "0:  LiberationCLS>117319 1 Bottle.  Pours a clear amber color with a small\n"
          ]
        },
        {
          "output_type": "stream",
          "name": "stderr",
          "text": [
            "Setting `pad_token_id` to `eos_token_id`:50256 for open-end generation.\n"
          ]
        },
        {
          "output_type": "stream",
          "name": "stdout",
          "text": [
            "  Batch   700  of  1,907. Loss: 0.34294506907463074.   Elapsed: 0:06:28.\n",
            "0:  NamCLS>117319 1 12 oz bottle.  Aroma of caramel, caramel,\n"
          ]
        },
        {
          "output_type": "stream",
          "name": "stderr",
          "text": [
            "Setting `pad_token_id` to `eos_token_id`:50256 for open-end generation.\n"
          ]
        },
        {
          "output_type": "stream",
          "name": "stdout",
          "text": [
            "  Batch   750  of  1,907. Loss: 0.29556670784950256.   Elapsed: 0:06:55.\n",
            "0: IONCLS>42935 1 Bottle.  Pours a clear dark brown with a small off\n"
          ]
        },
        {
          "output_type": "stream",
          "name": "stderr",
          "text": [
            "Setting `pad_token_id` to `eos_token_id`:50256 for open-end generation.\n"
          ]
        },
        {
          "output_type": "stream",
          "name": "stdout",
          "text": [
            "  Batch   800  of  1,907. Loss: 0.3187301754951477.   Elapsed: 0:07:23.\n",
            "0:  glimpseCLS>42935 1 Bottle.  Aroma of caramel, caramel, caramel, caramel\n"
          ]
        },
        {
          "output_type": "stream",
          "name": "stderr",
          "text": [
            "Setting `pad_token_id` to `eos_token_id`:50256 for open-end generation.\n"
          ]
        },
        {
          "output_type": "stream",
          "name": "stdout",
          "text": [
            "  Batch   850  of  1,907. Loss: 0.9229152202606201.   Elapsed: 0:07:50.\n",
            "0:  LaureCLS>42935 1 Bottle.  Pours a dark brown with a medium sized head\n"
          ]
        },
        {
          "output_type": "stream",
          "name": "stderr",
          "text": [
            "Setting `pad_token_id` to `eos_token_id`:50256 for open-end generation.\n"
          ]
        },
        {
          "output_type": "stream",
          "name": "stdout",
          "text": [
            "  Batch   900  of  1,907. Loss: 0.3078581988811493.   Elapsed: 0:08:18.\n",
            "0: ismCLS>117319 1 12oz bottle.  Pours a dark brown with a\n"
          ]
        },
        {
          "output_type": "stream",
          "name": "stderr",
          "text": [
            "Setting `pad_token_id` to `eos_token_id`:50256 for open-end generation.\n"
          ]
        },
        {
          "output_type": "stream",
          "name": "stdout",
          "text": [
            "  Batch   950  of  1,907. Loss: 0.23028533160686493.   Elapsed: 0:08:46.\n",
            "0: ounCLS>42935 1 Bottle.  Pours a clear golden brown with a small white\n"
          ]
        },
        {
          "output_type": "stream",
          "name": "stderr",
          "text": [
            "Setting `pad_token_id` to `eos_token_id`:50256 for open-end generation.\n"
          ]
        },
        {
          "output_type": "stream",
          "name": "stdout",
          "text": [
            "  Batch 1,000  of  1,907. Loss: 1.284628987312317.   Elapsed: 0:09:13.\n",
            "0:  electionCLS>4302 1 Bottle.  Pours a clear dark brown color with a small\n"
          ]
        },
        {
          "output_type": "stream",
          "name": "stderr",
          "text": [
            "Setting `pad_token_id` to `eos_token_id`:50256 for open-end generation.\n"
          ]
        },
        {
          "output_type": "stream",
          "name": "stdout",
          "text": [
            "  Batch 1,050  of  1,907. Loss: 0.2655346989631653.   Elapsed: 0:09:41.\n",
            "0:  crazyCLS>56242 1 Bottle shared with GregClow.\t\t\t\t\t\t\n"
          ]
        },
        {
          "output_type": "stream",
          "name": "stderr",
          "text": [
            "Setting `pad_token_id` to `eos_token_id`:50256 for open-end generation.\n"
          ]
        },
        {
          "output_type": "stream",
          "name": "stdout",
          "text": [
            "  Batch 1,100  of  1,907. Loss: 0.459739089012146.   Elapsed: 0:10:09.\n",
            "0:  benchCLS>42935 1 Bottle.  Pours a clear golden color with a medium-\n"
          ]
        },
        {
          "output_type": "stream",
          "name": "stderr",
          "text": [
            "Setting `pad_token_id` to `eos_token_id`:50256 for open-end generation.\n"
          ]
        },
        {
          "output_type": "stream",
          "name": "stdout",
          "text": [
            "  Batch 1,150  of  1,907. Loss: 0.14691103994846344.   Elapsed: 0:10:36.\n",
            "0:  incorporatedCLS>46471 1 Bottle.  Pours a dark brown with a thin head.\n"
          ]
        },
        {
          "output_type": "stream",
          "name": "stderr",
          "text": [
            "Setting `pad_token_id` to `eos_token_id`:50256 for open-end generation.\n"
          ]
        },
        {
          "output_type": "stream",
          "name": "stdout",
          "text": [
            "  Batch 1,200  of  1,907. Loss: 0.21402154862880707.   Elapsed: 0:11:04.\n",
            "0: PeterCLS>3202 1 Bottle.  Pours a deep brown with a small white head\n"
          ]
        },
        {
          "output_type": "stream",
          "name": "stderr",
          "text": [
            "Setting `pad_token_id` to `eos_token_id`:50256 for open-end generation.\n"
          ]
        },
        {
          "output_type": "stream",
          "name": "stdout",
          "text": [
            "  Batch 1,250  of  1,907. Loss: 0.511879563331604.   Elapsed: 0:11:31.\n",
            "0: uringCLS>43176 1 Bottle.  Pours a dark brown with a small white head\n"
          ]
        },
        {
          "output_type": "stream",
          "name": "stderr",
          "text": [
            "Setting `pad_token_id` to `eos_token_id`:50256 for open-end generation.\n"
          ]
        },
        {
          "output_type": "stream",
          "name": "stdout",
          "text": [
            "  Batch 1,300  of  1,907. Loss: 0.4843144416809082.   Elapsed: 0:11:59.\n",
            "0:  reproductiveCLS>2519 1 Bottle.  Pours a dark brown color with a medium off\n"
          ]
        },
        {
          "output_type": "stream",
          "name": "stderr",
          "text": [
            "Setting `pad_token_id` to `eos_token_id`:50256 for open-end generation.\n"
          ]
        },
        {
          "output_type": "stream",
          "name": "stdout",
          "text": [
            "  Batch 1,350  of  1,907. Loss: 0.3060160279273987.   Elapsed: 0:12:27.\n",
            "0:  zoneCLS>46471 1 Bottle.  Pours a clear amber with a small off-\n"
          ]
        },
        {
          "output_type": "stream",
          "name": "stderr",
          "text": [
            "Setting `pad_token_id` to `eos_token_id`:50256 for open-end generation.\n"
          ]
        },
        {
          "output_type": "stream",
          "name": "stdout",
          "text": [
            "  Batch 1,400  of  1,907. Loss: 0.6282542943954468.   Elapsed: 0:12:54.\n",
            "0:  commitsCLS>42935 1 Pours a deep copper color with a small white head. \n"
          ]
        },
        {
          "output_type": "stream",
          "name": "stderr",
          "text": [
            "Setting `pad_token_id` to `eos_token_id`:50256 for open-end generation.\n"
          ]
        },
        {
          "output_type": "stream",
          "name": "stdout",
          "text": [
            "  Batch 1,450  of  1,907. Loss: 0.21058666706085205.   Elapsed: 0:13:22.\n",
            "0:  ironyCLS>56242 1 Bottle.  Pours a dark brown with a small white head\n"
          ]
        },
        {
          "output_type": "stream",
          "name": "stderr",
          "text": [
            "Setting `pad_token_id` to `eos_token_id`:50256 for open-end generation.\n"
          ]
        },
        {
          "output_type": "stream",
          "name": "stdout",
          "text": [
            "  Batch 1,500  of  1,907. Loss: 0.17619769275188446.   Elapsed: 0:13:49.\n",
            "0:  SahCLS>42935 1 Bottle.  Pours a dark brown with a thin beige\n"
          ]
        },
        {
          "output_type": "stream",
          "name": "stderr",
          "text": [
            "Setting `pad_token_id` to `eos_token_id`:50256 for open-end generation.\n"
          ]
        },
        {
          "output_type": "stream",
          "name": "stdout",
          "text": [
            "  Batch 1,550  of  1,907. Loss: 0.2596525549888611.   Elapsed: 0:14:17.\n",
            "0:  BryanCLS>117319 1 Bottle.  Pours a dark brown with a small head\n"
          ]
        },
        {
          "output_type": "stream",
          "name": "stderr",
          "text": [
            "Setting `pad_token_id` to `eos_token_id`:50256 for open-end generation.\n"
          ]
        },
        {
          "output_type": "stream",
          "name": "stdout",
          "text": [
            "  Batch 1,600  of  1,907. Loss: 0.2051253765821457.   Elapsed: 0:14:45.\n",
            "0:  spiritsCLS>65888 1 Bottle.  Pours a dark brown color with a medium tan\n"
          ]
        },
        {
          "output_type": "stream",
          "name": "stderr",
          "text": [
            "Setting `pad_token_id` to `eos_token_id`:50256 for open-end generation.\n"
          ]
        },
        {
          "output_type": "stream",
          "name": "stdout",
          "text": [
            "  Batch 1,650  of  1,907. Loss: 0.5159775018692017.   Elapsed: 0:15:12.\n",
            "0:  seesCLS>43176 1 Bottle shared with blankboy. Poured a deep amber color with\n"
          ]
        },
        {
          "output_type": "stream",
          "name": "stderr",
          "text": [
            "Setting `pad_token_id` to `eos_token_id`:50256 for open-end generation.\n"
          ]
        },
        {
          "output_type": "stream",
          "name": "stdout",
          "text": [
            "  Batch 1,700  of  1,907. Loss: 0.2835063636302948.   Elapsed: 0:15:40.\n",
            "0:  hungryCLS>29028 1 Bottle.  Pours a dark brown with a small white head\n"
          ]
        },
        {
          "output_type": "stream",
          "name": "stderr",
          "text": [
            "Setting `pad_token_id` to `eos_token_id`:50256 for open-end generation.\n"
          ]
        },
        {
          "output_type": "stream",
          "name": "stdout",
          "text": [
            "  Batch 1,750  of  1,907. Loss: 0.13938911259174347.   Elapsed: 0:16:08.\n",
            "0:  PTCLS>117319 1 Bottle.  Pours a clear copper color with a small\n"
          ]
        },
        {
          "output_type": "stream",
          "name": "stderr",
          "text": [
            "Setting `pad_token_id` to `eos_token_id`:50256 for open-end generation.\n"
          ]
        },
        {
          "output_type": "stream",
          "name": "stdout",
          "text": [
            "  Batch 1,800  of  1,907. Loss: 0.34989896416664124.   Elapsed: 0:16:35.\n",
            "0: üCLS>42935 1 Bottle.  Pours a deep golden with a small, dense\n"
          ]
        },
        {
          "output_type": "stream",
          "name": "stderr",
          "text": [
            "Setting `pad_token_id` to `eos_token_id`:50256 for open-end generation.\n"
          ]
        },
        {
          "output_type": "stream",
          "name": "stdout",
          "text": [
            "  Batch 1,850  of  1,907. Loss: 0.6099055409431458.   Elapsed: 0:17:03.\n",
            "0: ruceCLS>42935 1 Bottle.  Pours a clear golden color with a small white\n"
          ]
        },
        {
          "output_type": "stream",
          "name": "stderr",
          "text": [
            "Setting `pad_token_id` to `eos_token_id`:50256 for open-end generation.\n"
          ]
        },
        {
          "output_type": "stream",
          "name": "stdout",
          "text": [
            "  Batch 1,900  of  1,907. Loss: 0.10041928291320801.   Elapsed: 0:17:30.\n",
            "0:  derivativesCLS>65888 1 Pours a clear, clear, clear, clear, clear,\n",
            "\n",
            "  Average training loss: 0.45\n",
            "  Training epoch took: 0:17:34\n",
            "\n",
            "Running Validation...\n",
            "  Validation Loss: 0.35\n",
            "  Validation took: 0:01:18\n",
            "\n",
            "======== Epoch 2 / 5 ========\n",
            "Training...\n"
          ]
        },
        {
          "output_type": "stream",
          "name": "stderr",
          "text": [
            "Setting `pad_token_id` to `eos_token_id`:50256 for open-end generation.\n"
          ]
        },
        {
          "output_type": "stream",
          "name": "stdout",
          "text": [
            "  Batch    50  of  1,907. Loss: 0.23271061480045319.   Elapsed: 0:00:27.\n",
            "0: \u0019CLS>56242 1 Bottle. Pours a hazy dark brown with a small off\n"
          ]
        },
        {
          "output_type": "stream",
          "name": "stderr",
          "text": [
            "Setting `pad_token_id` to `eos_token_id`:50256 for open-end generation.\n"
          ]
        },
        {
          "output_type": "stream",
          "name": "stdout",
          "text": [
            "  Batch   100  of  1,907. Loss: 0.5169233679771423.   Elapsed: 0:00:55.\n",
            "0:  rememberingCLS>43176 1 Bottle. Pours a cloudy amber color with a small off-\n"
          ]
        },
        {
          "output_type": "stream",
          "name": "stderr",
          "text": [
            "Setting `pad_token_id` to `eos_token_id`:50256 for open-end generation.\n"
          ]
        },
        {
          "output_type": "stream",
          "name": "stdout",
          "text": [
            "  Batch   150  of  1,907. Loss: 0.20878896117210388.   Elapsed: 0:01:23.\n",
            "0:  SourcesCLS>3202 1 Bottle shared by jerc.  Pours a dark brown color\n"
          ]
        },
        {
          "output_type": "stream",
          "name": "stderr",
          "text": [
            "Setting `pad_token_id` to `eos_token_id`:50256 for open-end generation.\n"
          ]
        },
        {
          "output_type": "stream",
          "name": "stdout",
          "text": [
            "  Batch   200  of  1,907. Loss: 0.11735793203115463.   Elapsed: 0:01:50.\n",
            "0: emsCLS>46471 1 Bottle.  Poured a dark brown color with a small white\n"
          ]
        },
        {
          "output_type": "stream",
          "name": "stderr",
          "text": [
            "Setting `pad_token_id` to `eos_token_id`:50256 for open-end generation.\n"
          ]
        },
        {
          "output_type": "stream",
          "name": "stdout",
          "text": [
            "  Batch   250  of  1,907. Loss: 0.5416931509971619.   Elapsed: 0:02:18.\n",
            "0: tzCLS>3202 1 Bottle.  Pours a deep brown color with a small off\n"
          ]
        },
        {
          "output_type": "stream",
          "name": "stderr",
          "text": [
            "Setting `pad_token_id` to `eos_token_id`:50256 for open-end generation.\n"
          ]
        },
        {
          "output_type": "stream",
          "name": "stdout",
          "text": [
            "  Batch   300  of  1,907. Loss: 0.3441542983055115.   Elapsed: 0:02:46.\n",
            "0: maticCLS>2519 1 Bottle.  Pours a clear amber color with a small,\n"
          ]
        },
        {
          "output_type": "stream",
          "name": "stderr",
          "text": [
            "Setting `pad_token_id` to `eos_token_id`:50256 for open-end generation.\n"
          ]
        },
        {
          "output_type": "stream",
          "name": "stdout",
          "text": [
            "  Batch   350  of  1,907. Loss: 0.19712711870670319.   Elapsed: 0:03:13.\n",
            "0:  syndCLS>56242 1 UPDATED: APR 21, 2011  Pours a dark brown\n"
          ]
        },
        {
          "output_type": "stream",
          "name": "stderr",
          "text": [
            "Setting `pad_token_id` to `eos_token_id`:50256 for open-end generation.\n"
          ]
        },
        {
          "output_type": "stream",
          "name": "stdout",
          "text": [
            "  Batch   400  of  1,907. Loss: 0.14221850037574768.   Elapsed: 0:03:41.\n",
            "0:  gamCLS>56242 1 Bottle.  Pours a dark brown color with a thin white\n"
          ]
        },
        {
          "output_type": "stream",
          "name": "stderr",
          "text": [
            "Setting `pad_token_id` to `eos_token_id`:50256 for open-end generation.\n"
          ]
        },
        {
          "output_type": "stream",
          "name": "stdout",
          "text": [
            "  Batch   450  of  1,907. Loss: 0.5739588141441345.   Elapsed: 0:04:08.\n",
            "0:  injuryCLS>46471 1 Bottle.  Pours a dark brown color with a small white\n"
          ]
        },
        {
          "output_type": "stream",
          "name": "stderr",
          "text": [
            "Setting `pad_token_id` to `eos_token_id`:50256 for open-end generation.\n"
          ]
        },
        {
          "output_type": "stream",
          "name": "stdout",
          "text": [
            "  Batch   500  of  1,907. Loss: 0.2552048861980438.   Elapsed: 0:04:36.\n",
            "0: azaCLS>29028 1 Bottle.  Poured a dark brown with a thin white head\n"
          ]
        },
        {
          "output_type": "stream",
          "name": "stderr",
          "text": [
            "Setting `pad_token_id` to `eos_token_id`:50256 for open-end generation.\n"
          ]
        },
        {
          "output_type": "stream",
          "name": "stdout",
          "text": [
            "  Batch   550  of  1,907. Loss: 0.42489421367645264.   Elapsed: 0:05:04.\n",
            "0:  membraneCLS>43176 1 Bottle.  Pours a deep amber color with a small white\n"
          ]
        },
        {
          "output_type": "stream",
          "name": "stderr",
          "text": [
            "Setting `pad_token_id` to `eos_token_id`:50256 for open-end generation.\n"
          ]
        },
        {
          "output_type": "stream",
          "name": "stdout",
          "text": [
            "  Batch   600  of  1,907. Loss: 0.34759458899497986.   Elapsed: 0:05:31.\n",
            "0: ijingCLS>2519 1 Bottle. Pours a clear amber color with a small off white\n"
          ]
        },
        {
          "output_type": "stream",
          "name": "stderr",
          "text": [
            "Setting `pad_token_id` to `eos_token_id`:50256 for open-end generation.\n"
          ]
        },
        {
          "output_type": "stream",
          "name": "stdout",
          "text": [
            "  Batch   650  of  1,907. Loss: 0.23807725310325623.   Elapsed: 0:05:59.\n",
            "0:  castCLS>46471 1 Pours a clear amber with a small white head.  A\n"
          ]
        },
        {
          "output_type": "stream",
          "name": "stderr",
          "text": [
            "Setting `pad_token_id` to `eos_token_id`:50256 for open-end generation.\n"
          ]
        },
        {
          "output_type": "stream",
          "name": "stdout",
          "text": [
            "  Batch   700  of  1,907. Loss: 0.2941376566886902.   Elapsed: 0:06:26.\n",
            "0:  purchCLS>2519 1 Bottle.  Pours a dark brown color with a small tan\n"
          ]
        },
        {
          "output_type": "stream",
          "name": "stderr",
          "text": [
            "Setting `pad_token_id` to `eos_token_id`:50256 for open-end generation.\n"
          ]
        },
        {
          "output_type": "stream",
          "name": "stdout",
          "text": [
            "  Batch   750  of  1,907. Loss: 0.2571309208869934.   Elapsed: 0:06:54.\n",
            "0:  shouldersCLS>42935 1 Bottle.  Pours a clear amber with a small off-\n"
          ]
        },
        {
          "output_type": "stream",
          "name": "stderr",
          "text": [
            "Setting `pad_token_id` to `eos_token_id`:50256 for open-end generation.\n"
          ]
        },
        {
          "output_type": "stream",
          "name": "stdout",
          "text": [
            "  Batch   800  of  1,907. Loss: 0.283415287733078.   Elapsed: 0:07:22.\n",
            "0:  builtCLS>46471 1 Bottle.  Pours a clear amber with a medium off-\n"
          ]
        },
        {
          "output_type": "stream",
          "name": "stderr",
          "text": [
            "Setting `pad_token_id` to `eos_token_id`:50256 for open-end generation.\n"
          ]
        },
        {
          "output_type": "stream",
          "name": "stdout",
          "text": [
            "  Batch   850  of  1,907. Loss: 0.7712092995643616.   Elapsed: 0:07:49.\n",
            "0:  openlyCLS>2519 1 Bottle.  Pours a dark brown color with a medium sized\n"
          ]
        },
        {
          "output_type": "stream",
          "name": "stderr",
          "text": [
            "Setting `pad_token_id` to `eos_token_id`:50256 for open-end generation.\n"
          ]
        },
        {
          "output_type": "stream",
          "name": "stdout",
          "text": [
            "  Batch   900  of  1,907. Loss: 0.26819807291030884.   Elapsed: 0:08:17.\n",
            "0:  haltedCLS>4302 1 12oz bottle. Pours a dark brown with a medium sized\n"
          ]
        },
        {
          "output_type": "stream",
          "name": "stderr",
          "text": [
            "Setting `pad_token_id` to `eos_token_id`:50256 for open-end generation.\n"
          ]
        },
        {
          "output_type": "stream",
          "name": "stdout",
          "text": [
            "  Batch   950  of  1,907. Loss: 0.2065950334072113.   Elapsed: 0:08:44.\n",
            "0:  NikCLS>42935 1 Bottle shared by tupalev on 04/27/2009\n"
          ]
        },
        {
          "output_type": "stream",
          "name": "stderr",
          "text": [
            "Setting `pad_token_id` to `eos_token_id`:50256 for open-end generation.\n"
          ]
        },
        {
          "output_type": "stream",
          "name": "stdout",
          "text": [
            "  Batch 1,000  of  1,907. Loss: 1.096210241317749.   Elapsed: 0:09:12.\n",
            "0:  tinCLS>2519 1 Bottle.  Pours a clear amber color with a small white\n"
          ]
        },
        {
          "output_type": "stream",
          "name": "stderr",
          "text": [
            "Setting `pad_token_id` to `eos_token_id`:50256 for open-end generation.\n"
          ]
        },
        {
          "output_type": "stream",
          "name": "stdout",
          "text": [
            "  Batch 1,050  of  1,907. Loss: 0.22632178664207458.   Elapsed: 0:09:40.\n",
            "0:  clinicalCLS>42935 1 Bottle.  Pours a clear amber color with a medium off\n"
          ]
        },
        {
          "output_type": "stream",
          "name": "stderr",
          "text": [
            "Setting `pad_token_id` to `eos_token_id`:50256 for open-end generation.\n"
          ]
        },
        {
          "output_type": "stream",
          "name": "stdout",
          "text": [
            "  Batch 1,100  of  1,907. Loss: 0.4021240770816803.   Elapsed: 0:10:07.\n",
            "0: lectionsCLS>42935 1 Bottle.  Pours a clear golden color with a thin white\n"
          ]
        },
        {
          "output_type": "stream",
          "name": "stderr",
          "text": [
            "Setting `pad_token_id` to `eos_token_id`:50256 for open-end generation.\n"
          ]
        },
        {
          "output_type": "stream",
          "name": "stdout",
          "text": [
            "  Batch 1,150  of  1,907. Loss: 0.1289854645729065.   Elapsed: 0:10:35.\n",
            "0: elsCLS>2519 1 Bottle.  Pours a clear amber with a thin, creamy\n"
          ]
        },
        {
          "output_type": "stream",
          "name": "stderr",
          "text": [
            "Setting `pad_token_id` to `eos_token_id`:50256 for open-end generation.\n"
          ]
        },
        {
          "output_type": "stream",
          "name": "stdout",
          "text": [
            "  Batch 1,200  of  1,907. Loss: 0.17752739787101746.   Elapsed: 0:11:02.\n",
            "0: labCLS>3202 1 Bottle.  Pours a deep dark brown with a small white\n"
          ]
        },
        {
          "output_type": "stream",
          "name": "stderr",
          "text": [
            "Setting `pad_token_id` to `eos_token_id`:50256 for open-end generation.\n"
          ]
        },
        {
          "output_type": "stream",
          "name": "stdout",
          "text": [
            "  Batch 1,250  of  1,907. Loss: 0.4375587999820709.   Elapsed: 0:11:30.\n",
            "0:  tripleCLS>2519 1 Bottle.  Pours a clear amber color with a small,\n"
          ]
        },
        {
          "output_type": "stream",
          "name": "stderr",
          "text": [
            "Setting `pad_token_id` to `eos_token_id`:50256 for open-end generation.\n"
          ]
        },
        {
          "output_type": "stream",
          "name": "stdout",
          "text": [
            "  Batch 1,300  of  1,907. Loss: 0.42316508293151855.   Elapsed: 0:11:58.\n",
            "0: 220CLS>2519 1 Bottle.  Pours a clear amber color with a medium off\n"
          ]
        },
        {
          "output_type": "stream",
          "name": "stderr",
          "text": [
            "Setting `pad_token_id` to `eos_token_id`:50256 for open-end generation.\n"
          ]
        },
        {
          "output_type": "stream",
          "name": "stdout",
          "text": [
            "  Batch 1,350  of  1,907. Loss: 0.23868823051452637.   Elapsed: 0:12:25.\n",
            "0:  SeeCLS>46471 1 Bottle.  Pours a clear, clear, amber with a\n"
          ]
        },
        {
          "output_type": "stream",
          "name": "stderr",
          "text": [
            "Setting `pad_token_id` to `eos_token_id`:50256 for open-end generation.\n"
          ]
        },
        {
          "output_type": "stream",
          "name": "stdout",
          "text": [
            "  Batch 1,400  of  1,907. Loss: 0.5238339304924011.   Elapsed: 0:12:53.\n",
            "0: @@CLS>65888 1 Pours a nice copper color with a nice white head. \n"
          ]
        },
        {
          "output_type": "stream",
          "name": "stderr",
          "text": [
            "Setting `pad_token_id` to `eos_token_id`:50256 for open-end generation.\n"
          ]
        },
        {
          "output_type": "stream",
          "name": "stdout",
          "text": [
            "  Batch 1,450  of  1,907. Loss: 0.19236530363559723.   Elapsed: 0:13:20.\n",
            "0:  hostCLS>56242 1 750 ml bottle from Cavie. Pours a cloudy orange with\n"
          ]
        },
        {
          "output_type": "stream",
          "name": "stderr",
          "text": [
            "Setting `pad_token_id` to `eos_token_id`:50256 for open-end generation.\n"
          ]
        },
        {
          "output_type": "stream",
          "name": "stdout",
          "text": [
            "  Batch 1,500  of  1,907. Loss: 0.15120135247707367.   Elapsed: 0:13:48.\n",
            "0: roleCLS>42935 1 Bottle.  Pours a dark amber color with a thin white\n"
          ]
        },
        {
          "output_type": "stream",
          "name": "stderr",
          "text": [
            "Setting `pad_token_id` to `eos_token_id`:50256 for open-end generation.\n"
          ]
        },
        {
          "output_type": "stream",
          "name": "stdout",
          "text": [
            "  Batch 1,550  of  1,907. Loss: 0.20910444855690002.   Elapsed: 0:14:16.\n",
            "0: iacCLS>117319 1 Bottle.  Dark brown with a small head.  Ro\n"
          ]
        },
        {
          "output_type": "stream",
          "name": "stderr",
          "text": [
            "Setting `pad_token_id` to `eos_token_id`:50256 for open-end generation.\n"
          ]
        },
        {
          "output_type": "stream",
          "name": "stdout",
          "text": [
            "  Batch 1,600  of  1,907. Loss: 0.16130878031253815.   Elapsed: 0:14:43.\n",
            "0:  LDCLS>117319 1 Bottle.  Pours a dark brown color with a small\n"
          ]
        },
        {
          "output_type": "stream",
          "name": "stderr",
          "text": [
            "Setting `pad_token_id` to `eos_token_id`:50256 for open-end generation.\n"
          ]
        },
        {
          "output_type": "stream",
          "name": "stdout",
          "text": [
            "  Batch 1,650  of  1,907. Loss: 0.4434838593006134.   Elapsed: 0:15:11.\n",
            "0:  ListenCLS>43176 1 Bottle shared with HogTownHarry, HogTownHarry, HogTown\n"
          ]
        },
        {
          "output_type": "stream",
          "name": "stderr",
          "text": [
            "Setting `pad_token_id` to `eos_token_id`:50256 for open-end generation.\n"
          ]
        },
        {
          "output_type": "stream",
          "name": "stdout",
          "text": [
            "  Batch 1,700  of  1,907. Loss: 0.2560074031352997.   Elapsed: 0:15:38.\n",
            "0:  dyCLS>42935 1 Bottle from Trader Joes.  Pours a clear amber color\n"
          ]
        },
        {
          "output_type": "stream",
          "name": "stderr",
          "text": [
            "Setting `pad_token_id` to `eos_token_id`:50256 for open-end generation.\n"
          ]
        },
        {
          "output_type": "stream",
          "name": "stdout",
          "text": [
            "  Batch 1,750  of  1,907. Loss: 0.13022498786449432.   Elapsed: 0:16:06.\n",
            "0:  DomesticCLS>46471 1 Bottle. Pours a clear golden color with a small white head\n"
          ]
        },
        {
          "output_type": "stream",
          "name": "stderr",
          "text": [
            "Setting `pad_token_id` to `eos_token_id`:50256 for open-end generation.\n"
          ]
        },
        {
          "output_type": "stream",
          "name": "stdout",
          "text": [
            "  Batch 1,800  of  1,907. Loss: 0.3037470877170563.   Elapsed: 0:16:34.\n",
            "0:  beneficiariesCLS>42935 1 Bottle.  Pours a deep golden with a thin, off\n"
          ]
        },
        {
          "output_type": "stream",
          "name": "stderr",
          "text": [
            "Setting `pad_token_id` to `eos_token_id`:50256 for open-end generation.\n"
          ]
        },
        {
          "output_type": "stream",
          "name": "stdout",
          "text": [
            "  Batch 1,850  of  1,907. Loss: 0.4844663143157959.   Elapsed: 0:17:01.\n",
            "0:  TitleCLS>42935 1 Bottle.  Pours a clear golden color with a medium white\n"
          ]
        },
        {
          "output_type": "stream",
          "name": "stderr",
          "text": [
            "Setting `pad_token_id` to `eos_token_id`:50256 for open-end generation.\n"
          ]
        },
        {
          "output_type": "stream",
          "name": "stdout",
          "text": [
            "  Batch 1,900  of  1,907. Loss: 0.10398497432470322.   Elapsed: 0:17:29.\n",
            "0:  μCLS>65888 1 Pours a clear dark brown with a medium tan head. \n",
            "\n",
            "  Average training loss: 0.31\n",
            "  Training epoch took: 0:17:32\n",
            "\n",
            "Running Validation...\n",
            "  Validation Loss: 0.36\n",
            "  Validation took: 0:01:18\n",
            "\n",
            "======== Epoch 3 / 5 ========\n",
            "Training...\n"
          ]
        },
        {
          "output_type": "stream",
          "name": "stderr",
          "text": [
            "Setting `pad_token_id` to `eos_token_id`:50256 for open-end generation.\n"
          ]
        },
        {
          "output_type": "stream",
          "name": "stdout",
          "text": [
            "  Batch    50  of  1,907. Loss: 0.22557483613491058.   Elapsed: 0:00:27.\n",
            "0:  sellingCLS>56242 1 Bottle. Pours a hazy amber color with a small off\n"
          ]
        },
        {
          "output_type": "stream",
          "name": "stderr",
          "text": [
            "Setting `pad_token_id` to `eos_token_id`:50256 for open-end generation.\n"
          ]
        },
        {
          "output_type": "stream",
          "name": "stdout",
          "text": [
            "  Batch   100  of  1,907. Loss: 0.45443427562713623.   Elapsed: 0:00:54.\n",
            "0:  migrantCLS>43176 1 Bottle. Pours a cloudy amber color with a small off-\n"
          ]
        },
        {
          "output_type": "stream",
          "name": "stderr",
          "text": [
            "Setting `pad_token_id` to `eos_token_id`:50256 for open-end generation.\n"
          ]
        },
        {
          "output_type": "stream",
          "name": "stdout",
          "text": [
            "  Batch   150  of  1,907. Loss: 0.3687625527381897.   Elapsed: 0:01:22.\n",
            "0: ivelyCLCL3202 1 Nice amber color with a medium brown, with a small head\n"
          ]
        },
        {
          "output_type": "stream",
          "name": "stderr",
          "text": [
            "Setting `pad_token_id` to `eos_token_id`:50256 for open-end generation.\n"
          ]
        },
        {
          "output_type": "stream",
          "name": "stdout",
          "text": [
            "  Batch   200  of  1,907. Loss: 0.2279045730829239.   Elapsed: 0:01:49.\n",
            "0:  orderCLS>>>>>>>>>>>>>>>>>\n"
          ]
        },
        {
          "output_type": "stream",
          "name": "stderr",
          "text": [
            "Setting `pad_token_id` to `eos_token_id`:50256 for open-end generation.\n"
          ]
        },
        {
          "output_type": "stream",
          "name": "stdout",
          "text": [
            "  Batch   250  of  1,907. Loss: 0.9349898099899292.   Elapsed: 0:02:17.\n",
            "0:  VPNCLSSSSSSSSSSSSSSSSSS\n"
          ]
        },
        {
          "output_type": "stream",
          "name": "stderr",
          "text": [
            "Setting `pad_token_id` to `eos_token_id`:50256 for open-end generation.\n"
          ]
        },
        {
          "output_type": "stream",
          "name": "stdout",
          "text": [
            "  Batch   300  of  1,907. Loss: 0.5760278105735779.   Elapsed: 0:02:44.\n",
            "0:  explanationCLS>429 1 Bottle.            \n"
          ]
        },
        {
          "output_type": "stream",
          "name": "stderr",
          "text": [
            "Setting `pad_token_id` to `eos_token_id`:50256 for open-end generation.\n"
          ]
        },
        {
          "output_type": "stream",
          "name": "stdout",
          "text": [
            "  Batch   350  of  1,907. Loss: 0.283032089471817.   Elapsed: 0:03:12.\n",
            "0:  BachCLS>                \n"
          ]
        },
        {
          "output_type": "stream",
          "name": "stderr",
          "text": [
            "Setting `pad_token_id` to `eos_token_id`:50256 for open-end generation.\n"
          ]
        },
        {
          "output_type": "stream",
          "name": "stdout",
          "text": [
            "  Batch   400  of  1,907. Loss: 0.2022159993648529.   Elapsed: 0:03:39.\n",
            "0:  folderCLS>42935 1 Bottle.  Pours a dark brown with a light brown with\n"
          ]
        },
        {
          "output_type": "stream",
          "name": "stderr",
          "text": [
            "Setting `pad_token_id` to `eos_token_id`:50256 for open-end generation.\n"
          ]
        },
        {
          "output_type": "stream",
          "name": "stdout",
          "text": [
            "  Batch   450  of  1,907. Loss: 0.9536663293838501.   Elapsed: 0:04:07.\n",
            "0:  buildingCLS>117319 1 Bottle.  Pours a dark brown head.  A\n"
          ]
        },
        {
          "output_type": "stream",
          "name": "stderr",
          "text": [
            "Setting `pad_token_id` to `eos_token_id`:50256 for open-end generation.\n"
          ]
        },
        {
          "output_type": "stream",
          "name": "stdout",
          "text": [
            "  Batch   500  of  1,907. Loss: 0.2872278392314911.   Elapsed: 0:04:34.\n",
            "0:  BabylonCLS>117319 1 Bottle.  Poured a dark brown with a light tan\n"
          ]
        },
        {
          "output_type": "stream",
          "name": "stderr",
          "text": [
            "Setting `pad_token_id` to `eos_token_id`:50256 for open-end generation.\n"
          ]
        },
        {
          "output_type": "stream",
          "name": "stdout",
          "text": [
            "  Batch   550  of  1,907. Loss: 0.49991950392723083.   Elapsed: 0:05:02.\n",
            "0: perialCLS>42935 1 Bottle.  Pours a dark brown with a small head.\n"
          ]
        },
        {
          "output_type": "stream",
          "name": "stderr",
          "text": [
            "Setting `pad_token_id` to `eos_token_id`:50256 for open-end generation.\n"
          ]
        },
        {
          "output_type": "stream",
          "name": "stdout",
          "text": [
            "  Batch   600  of  1,907. Loss: 0.3687889873981476.   Elapsed: 0:05:29.\n",
            "0:  rentsCLS>117319 1 Bottle.  Pours a dark brown with a small off\n"
          ]
        },
        {
          "output_type": "stream",
          "name": "stderr",
          "text": [
            "Setting `pad_token_id` to `eos_token_id`:50256 for open-end generation.\n"
          ]
        },
        {
          "output_type": "stream",
          "name": "stdout",
          "text": [
            "  Batch   650  of  1,907. Loss: 0.24251601099967957.   Elapsed: 0:05:57.\n",
            "0:  RegCLS>29028 1 Bottle.  Pours a clear amber color with a small white\n"
          ]
        },
        {
          "output_type": "stream",
          "name": "stderr",
          "text": [
            "Setting `pad_token_id` to `eos_token_id`:50256 for open-end generation.\n"
          ]
        },
        {
          "output_type": "stream",
          "name": "stdout",
          "text": [
            "  Batch   700  of  1,907. Loss: 0.302315354347229.   Elapsed: 0:06:24.\n",
            "0: olasCLS>3202 1 Bottle.  Pours a dark brown with a small tan head\n"
          ]
        },
        {
          "output_type": "stream",
          "name": "stderr",
          "text": [
            "Setting `pad_token_id` to `eos_token_id`:50256 for open-end generation.\n"
          ]
        },
        {
          "output_type": "stream",
          "name": "stdout",
          "text": [
            "  Batch   750  of  1,907. Loss: 0.26365405321121216.   Elapsed: 0:06:52.\n",
            "0:  responsesCLS>117319 1 Bottle. Pours a dark brown with a small off white\n"
          ]
        },
        {
          "output_type": "stream",
          "name": "stderr",
          "text": [
            "Setting `pad_token_id` to `eos_token_id`:50256 for open-end generation.\n"
          ]
        },
        {
          "output_type": "stream",
          "name": "stdout",
          "text": [
            "  Batch   800  of  1,907. Loss: 0.27619343996047974.   Elapsed: 0:07:19.\n",
            "0:  attendanceCLS>117319 1 Bottle. Pours a dark brown with a small tan head\n"
          ]
        },
        {
          "output_type": "stream",
          "name": "stderr",
          "text": [
            "Setting `pad_token_id` to `eos_token_id`:50256 for open-end generation.\n"
          ]
        },
        {
          "output_type": "stream",
          "name": "stdout",
          "text": [
            "  Batch   850  of  1,907. Loss: 0.7499394416809082.   Elapsed: 0:07:47.\n",
            "0:  rigidCLS>42935 1 Bottle.  Pours a clear amber color with a small off\n"
          ]
        },
        {
          "output_type": "stream",
          "name": "stderr",
          "text": [
            "Setting `pad_token_id` to `eos_token_id`:50256 for open-end generation.\n"
          ]
        },
        {
          "output_type": "stream",
          "name": "stdout",
          "text": [
            "  Batch   900  of  1,907. Loss: 0.25463417172431946.   Elapsed: 0:08:15.\n",
            "0: groCLS>42935 1 Bottle. Pours a clear amber with a medium sized off-\n"
          ]
        },
        {
          "output_type": "stream",
          "name": "stderr",
          "text": [
            "Setting `pad_token_id` to `eos_token_id`:50256 for open-end generation.\n"
          ]
        },
        {
          "output_type": "stream",
          "name": "stdout",
          "text": [
            "  Batch   950  of  1,907. Loss: 0.19599904119968414.   Elapsed: 0:08:42.\n",
            "0:  GreCLS>42935 1 Bottle. Golden yellow color with a small white head. Nose is\n"
          ]
        },
        {
          "output_type": "stream",
          "name": "stderr",
          "text": [
            "Setting `pad_token_id` to `eos_token_id`:50256 for open-end generation.\n"
          ]
        },
        {
          "output_type": "stream",
          "name": "stdout",
          "text": [
            "  Batch 1,000  of  1,907. Loss: 1.0763479471206665.   Elapsed: 0:09:10.\n",
            "0: uraCLS>42935 1 Bottle.  Pours a clear amber color with a small white\n"
          ]
        },
        {
          "output_type": "stream",
          "name": "stderr",
          "text": [
            "Setting `pad_token_id` to `eos_token_id`:50256 for open-end generation.\n"
          ]
        },
        {
          "output_type": "stream",
          "name": "stdout",
          "text": [
            "  Batch 1,050  of  1,907. Loss: 0.22038400173187256.   Elapsed: 0:09:37.\n",
            "0:  2020CLS>42935 1 Bottle from Trader Joes. Pours a clear golden color with\n"
          ]
        },
        {
          "output_type": "stream",
          "name": "stderr",
          "text": [
            "Setting `pad_token_id` to `eos_token_id`:50256 for open-end generation.\n"
          ]
        },
        {
          "output_type": "stream",
          "name": "stdout",
          "text": [
            "  Batch 1,100  of  1,907. Loss: 0.3733348548412323.   Elapsed: 0:10:05.\n",
            "0:  chargingCLS>42935 1 Bottle.  Pours a clear golden color with a thin white\n"
          ]
        },
        {
          "output_type": "stream",
          "name": "stderr",
          "text": [
            "Setting `pad_token_id` to `eos_token_id`:50256 for open-end generation.\n"
          ]
        },
        {
          "output_type": "stream",
          "name": "stdout",
          "text": [
            "  Batch 1,150  of  1,907. Loss: 0.12994422018527985.   Elapsed: 0:10:32.\n",
            "0:  SarCLS>46471 1 Bottle.  Pours a clear amber with a thin white head\n"
          ]
        },
        {
          "output_type": "stream",
          "name": "stderr",
          "text": [
            "Setting `pad_token_id` to `eos_token_id`:50256 for open-end generation.\n"
          ]
        },
        {
          "output_type": "stream",
          "name": "stdout",
          "text": [
            "  Batch 1,200  of  1,907. Loss: 0.14039850234985352.   Elapsed: 0:11:00.\n",
            "0:  JasCLS>65888 1 Bottle.  Pours a dark brown with a small white head\n"
          ]
        },
        {
          "output_type": "stream",
          "name": "stderr",
          "text": [
            "Setting `pad_token_id` to `eos_token_id`:50256 for open-end generation.\n"
          ]
        },
        {
          "output_type": "stream",
          "name": "stdout",
          "text": [
            "  Batch 1,250  of  1,907. Loss: 0.4071336090564728.   Elapsed: 0:11:28.\n",
            "0:  permitCLS>65888 1 Bottle.  Pours a dark brown with a thin white head\n"
          ]
        },
        {
          "output_type": "stream",
          "name": "stderr",
          "text": [
            "Setting `pad_token_id` to `eos_token_id`:50256 for open-end generation.\n"
          ]
        },
        {
          "output_type": "stream",
          "name": "stdout",
          "text": [
            "  Batch 1,300  of  1,907. Loss: 0.3948700428009033.   Elapsed: 0:11:55.\n",
            "0:  AdministratorCLS>2519 1 Bottle.  Pours a dark brown with a small, off\n"
          ]
        },
        {
          "output_type": "stream",
          "name": "stderr",
          "text": [
            "Setting `pad_token_id` to `eos_token_id`:50256 for open-end generation.\n"
          ]
        },
        {
          "output_type": "stream",
          "name": "stdout",
          "text": [
            "  Batch 1,350  of  1,907. Loss: 0.1938847154378891.   Elapsed: 0:12:23.\n",
            "0:  EVENTSCLS>42935 1 Bottle.  Pours a clear amber color with a small off\n"
          ]
        },
        {
          "output_type": "stream",
          "name": "stderr",
          "text": [
            "Setting `pad_token_id` to `eos_token_id`:50256 for open-end generation.\n"
          ]
        },
        {
          "output_type": "stream",
          "name": "stdout",
          "text": [
            "  Batch 1,400  of  1,907. Loss: 0.47709107398986816.   Elapsed: 0:12:50.\n",
            "0:  MentalCLS>42935 1 Pours a deep golden color with a small white head. \n"
          ]
        },
        {
          "output_type": "stream",
          "name": "stderr",
          "text": [
            "Setting `pad_token_id` to `eos_token_id`:50256 for open-end generation.\n"
          ]
        },
        {
          "output_type": "stream",
          "name": "stdout",
          "text": [
            "  Batch 1,450  of  1,907. Loss: 0.17250825464725494.   Elapsed: 0:13:18.\n",
            "0: idsCLS>56242 1 Bottle.  Pours a cloudy, amber color with a small\n"
          ]
        },
        {
          "output_type": "stream",
          "name": "stderr",
          "text": [
            "Setting `pad_token_id` to `eos_token_id`:50256 for open-end generation.\n"
          ]
        },
        {
          "output_type": "stream",
          "name": "stdout",
          "text": [
            "  Batch 1,500  of  1,907. Loss: 0.13852518796920776.   Elapsed: 0:13:46.\n",
            "0: ceansCLS>42935 1 Bottle.  Pours a clear amber color with a small white\n"
          ]
        },
        {
          "output_type": "stream",
          "name": "stderr",
          "text": [
            "Setting `pad_token_id` to `eos_token_id`:50256 for open-end generation.\n"
          ]
        },
        {
          "output_type": "stream",
          "name": "stdout",
          "text": [
            "  Batch 1,550  of  1,907. Loss: 0.17843769490718842.   Elapsed: 0:14:13.\n",
            "0:  geneticallyCLS>42935 1 Bottle.  Pours a clear golden with a small white head\n"
          ]
        },
        {
          "output_type": "stream",
          "name": "stderr",
          "text": [
            "Setting `pad_token_id` to `eos_token_id`:50256 for open-end generation.\n"
          ]
        },
        {
          "output_type": "stream",
          "name": "stdout",
          "text": [
            "  Batch 1,600  of  1,907. Loss: 0.16455593705177307.   Elapsed: 0:14:41.\n",
            "0:  adviceCLS>65888 1 Bottle.  Pours a dark brown color with a medium head\n"
          ]
        },
        {
          "output_type": "stream",
          "name": "stderr",
          "text": [
            "Setting `pad_token_id` to `eos_token_id`:50256 for open-end generation.\n"
          ]
        },
        {
          "output_type": "stream",
          "name": "stdout",
          "text": [
            "  Batch 1,650  of  1,907. Loss: 0.38611164689064026.   Elapsed: 0:15:08.\n",
            "0:  incompleteCLS>46471 1 Bottle. Pours a clear golden color with a small white head\n"
          ]
        },
        {
          "output_type": "stream",
          "name": "stderr",
          "text": [
            "Setting `pad_token_id` to `eos_token_id`:50256 for open-end generation.\n"
          ]
        },
        {
          "output_type": "stream",
          "name": "stdout",
          "text": [
            "  Batch 1,700  of  1,907. Loss: 0.23906829953193665.   Elapsed: 0:15:36.\n",
            "0: commentCLS>42935 1 Bottle.  Pours a clear golden color with a small white\n"
          ]
        },
        {
          "output_type": "stream",
          "name": "stderr",
          "text": [
            "Setting `pad_token_id` to `eos_token_id`:50256 for open-end generation.\n"
          ]
        },
        {
          "output_type": "stream",
          "name": "stdout",
          "text": [
            "  Batch 1,750  of  1,907. Loss: 0.1126246526837349.   Elapsed: 0:16:04.\n",
            "0:  pilotCLS>29028 1 Bottle.  Pours a clear copper color with a small off\n"
          ]
        },
        {
          "output_type": "stream",
          "name": "stderr",
          "text": [
            "Setting `pad_token_id` to `eos_token_id`:50256 for open-end generation.\n"
          ]
        },
        {
          "output_type": "stream",
          "name": "stdout",
          "text": [
            "  Batch 1,800  of  1,907. Loss: 0.2680243253707886.   Elapsed: 0:16:31.\n",
            "0: gersCLS>42935 1 Bottle.  Pours a golden color with a small head.\n"
          ]
        },
        {
          "output_type": "stream",
          "name": "stderr",
          "text": [
            "Setting `pad_token_id` to `eos_token_id`:50256 for open-end generation.\n"
          ]
        },
        {
          "output_type": "stream",
          "name": "stdout",
          "text": [
            "  Batch 1,850  of  1,907. Loss: 0.4262903034687042.   Elapsed: 0:16:59.\n",
            "0:  mutationCLS>42935 1 Pours a clear golden color with a thin white head. \n"
          ]
        },
        {
          "output_type": "stream",
          "name": "stderr",
          "text": [
            "Setting `pad_token_id` to `eos_token_id`:50256 for open-end generation.\n"
          ]
        },
        {
          "output_type": "stream",
          "name": "stdout",
          "text": [
            "  Batch 1,900  of  1,907. Loss: 0.08193888515233994.   Elapsed: 0:17:26.\n",
            "0:  DriverCLS>46471 1 Pours a clear golden amber with a small white head. \n",
            "\n",
            "  Average training loss: 0.34\n",
            "  Training epoch took: 0:17:30\n",
            "\n",
            "Running Validation...\n",
            "  Validation Loss: 0.36\n",
            "  Validation took: 0:01:18\n",
            "\n",
            "======== Epoch 4 / 5 ========\n",
            "Training...\n"
          ]
        },
        {
          "output_type": "stream",
          "name": "stderr",
          "text": [
            "Setting `pad_token_id` to `eos_token_id`:50256 for open-end generation.\n"
          ]
        },
        {
          "output_type": "stream",
          "name": "stdout",
          "text": [
            "  Batch    50  of  1,907. Loss: 0.1962110996246338.   Elapsed: 0:00:27.\n",
            "0: itiCLS>65888 1 Pours a dark brown with a small head.  Aroma\n"
          ]
        },
        {
          "output_type": "stream",
          "name": "stderr",
          "text": [
            "Setting `pad_token_id` to `eos_token_id`:50256 for open-end generation.\n"
          ]
        },
        {
          "output_type": "stream",
          "name": "stdout",
          "text": [
            "  Batch   100  of  1,907. Loss: 0.35034167766571045.   Elapsed: 0:00:55.\n",
            "0: fffCLS>29028 1 Bottle.  Pours a hazy amber color with a small\n"
          ]
        },
        {
          "output_type": "stream",
          "name": "stderr",
          "text": [
            "Setting `pad_token_id` to `eos_token_id`:50256 for open-end generation.\n"
          ]
        },
        {
          "output_type": "stream",
          "name": "stdout",
          "text": [
            "  Batch   150  of  1,907. Loss: 0.20034468173980713.   Elapsed: 0:01:23.\n",
            "0: riminationCLS>42935 1 Bottle.  Pours a golden color with a small off-\n"
          ]
        },
        {
          "output_type": "stream",
          "name": "stderr",
          "text": [
            "Setting `pad_token_id` to `eos_token_id`:50256 for open-end generation.\n"
          ]
        },
        {
          "output_type": "stream",
          "name": "stdout",
          "text": [
            "  Batch   200  of  1,907. Loss: 0.10998307168483734.   Elapsed: 0:01:50.\n",
            "0: aqueCLS>46471 1 Bottle.  Pours a golden color with a small white head\n"
          ]
        },
        {
          "output_type": "stream",
          "name": "stderr",
          "text": [
            "Setting `pad_token_id` to `eos_token_id`:50256 for open-end generation.\n"
          ]
        },
        {
          "output_type": "stream",
          "name": "stdout",
          "text": [
            "  Batch   250  of  1,907. Loss: 0.49267348647117615.   Elapsed: 0:02:18.\n",
            "0: leeCLS>46471 1 Bottle. Pours a clear golden color with a small white head\n"
          ]
        },
        {
          "output_type": "stream",
          "name": "stderr",
          "text": [
            "Setting `pad_token_id` to `eos_token_id`:50256 for open-end generation.\n"
          ]
        },
        {
          "output_type": "stream",
          "name": "stdout",
          "text": [
            "  Batch   300  of  1,907. Loss: 0.28901901841163635.   Elapsed: 0:02:45.\n",
            "0:  AlzheimerCLS>42935 1 Bottle.  Pours a clear golden color with a small white\n"
          ]
        },
        {
          "output_type": "stream",
          "name": "stderr",
          "text": [
            "Setting `pad_token_id` to `eos_token_id`:50256 for open-end generation.\n"
          ]
        },
        {
          "output_type": "stream",
          "name": "stdout",
          "text": [
            "  Batch   350  of  1,907. Loss: 0.18756377696990967.   Elapsed: 0:03:13.\n",
            "0:  checkingCLS>46471 1 UPDATED: SEP 11, 2011 Bottle.  Pours\n"
          ]
        },
        {
          "output_type": "stream",
          "name": "stderr",
          "text": [
            "Setting `pad_token_id` to `eos_token_id`:50256 for open-end generation.\n"
          ]
        },
        {
          "output_type": "stream",
          "name": "stdout",
          "text": [
            "  Batch   400  of  1,907. Loss: 0.11528453975915909.   Elapsed: 0:03:41.\n",
            "0: nesiumCLS>42935 1 Bottle.  Pours a clear golden color with a thin white\n"
          ]
        },
        {
          "output_type": "stream",
          "name": "stderr",
          "text": [
            "Setting `pad_token_id` to `eos_token_id`:50256 for open-end generation.\n"
          ]
        },
        {
          "output_type": "stream",
          "name": "stdout",
          "text": [
            "  Batch   450  of  1,907. Loss: 0.3192884027957916.   Elapsed: 0:04:08.\n",
            "0:  1957CLS>46471 1 500 ml bottle.  Pours a golden orange with a small\n"
          ]
        },
        {
          "output_type": "stream",
          "name": "stderr",
          "text": [
            "Setting `pad_token_id` to `eos_token_id`:50256 for open-end generation.\n"
          ]
        },
        {
          "output_type": "stream",
          "name": "stdout",
          "text": [
            "  Batch   500  of  1,907. Loss: 0.22872142493724823.   Elapsed: 0:04:36.\n",
            "0: manshipCLS>29028 1 Bottle.  Poured a hazy amber with a small off\n"
          ]
        },
        {
          "output_type": "stream",
          "name": "stderr",
          "text": [
            "Setting `pad_token_id` to `eos_token_id`:50256 for open-end generation.\n"
          ]
        },
        {
          "output_type": "stream",
          "name": "stdout",
          "text": [
            "  Batch   550  of  1,907. Loss: 0.3748632073402405.   Elapsed: 0:05:03.\n",
            "0:  understandCLS>43176 1 Bottle.  Pours a deep amber color with a small off\n"
          ]
        },
        {
          "output_type": "stream",
          "name": "stderr",
          "text": [
            "Setting `pad_token_id` to `eos_token_id`:50256 for open-end generation.\n"
          ]
        },
        {
          "output_type": "stream",
          "name": "stdout",
          "text": [
            "  Batch   600  of  1,907. Loss: 0.2835221588611603.   Elapsed: 0:05:31.\n",
            "0:  passionCLS>29028 1 Bottle.  Pours a hazy amber color with a small\n"
          ]
        },
        {
          "output_type": "stream",
          "name": "stderr",
          "text": [
            "Setting `pad_token_id` to `eos_token_id`:50256 for open-end generation.\n"
          ]
        },
        {
          "output_type": "stream",
          "name": "stdout",
          "text": [
            "  Batch   650  of  1,907. Loss: 0.20052267611026764.   Elapsed: 0:05:59.\n",
            "0:  curvedCLS>29028 1 Bottle.  Pours a hazy amber color with a small\n"
          ]
        },
        {
          "output_type": "stream",
          "name": "stderr",
          "text": [
            "Setting `pad_token_id` to `eos_token_id`:50256 for open-end generation.\n"
          ]
        },
        {
          "output_type": "stream",
          "name": "stdout",
          "text": [
            "  Batch   700  of  1,907. Loss: 0.2593579590320587.   Elapsed: 0:06:26.\n",
            "0:  AnCLS>42935 1 12oz bottle.  Pours a clear golden color with a\n"
          ]
        },
        {
          "output_type": "stream",
          "name": "stderr",
          "text": [
            "Setting `pad_token_id` to `eos_token_id`:50256 for open-end generation.\n"
          ]
        },
        {
          "output_type": "stream",
          "name": "stdout",
          "text": [
            "  Batch   750  of  1,907. Loss: 0.2034137099981308.   Elapsed: 0:06:54.\n",
            "0: ottiCLS>42935 1 Bottle. Pours a clear golden with a small white head.\n"
          ]
        },
        {
          "output_type": "stream",
          "name": "stderr",
          "text": [
            "Setting `pad_token_id` to `eos_token_id`:50256 for open-end generation.\n"
          ]
        },
        {
          "output_type": "stream",
          "name": "stdout",
          "text": [
            "  Batch   800  of  1,907. Loss: 0.2595638930797577.   Elapsed: 0:07:21.\n",
            "0:  intakeCLS>42935 1 Bottle. Pours a clear golden amber with a small off-\n"
          ]
        },
        {
          "output_type": "stream",
          "name": "stderr",
          "text": [
            "Setting `pad_token_id` to `eos_token_id`:50256 for open-end generation.\n"
          ]
        },
        {
          "output_type": "stream",
          "name": "stdout",
          "text": [
            "  Batch   850  of  1,907. Loss: 0.5348326563835144.   Elapsed: 0:07:49.\n",
            "0:  TsCLS>42935 1 Bottle.  Pours a clear golden color with a medium sized\n"
          ]
        },
        {
          "output_type": "stream",
          "name": "stderr",
          "text": [
            "Setting `pad_token_id` to `eos_token_id`:50256 for open-end generation.\n"
          ]
        },
        {
          "output_type": "stream",
          "name": "stdout",
          "text": [
            "  Batch   900  of  1,907. Loss: 0.20581254363059998.   Elapsed: 0:08:17.\n",
            "0:  MainCLS>29028 1 2005 bottle.  Pours a clear amber with a small off\n"
          ]
        },
        {
          "output_type": "stream",
          "name": "stderr",
          "text": [
            "Setting `pad_token_id` to `eos_token_id`:50256 for open-end generation.\n"
          ]
        },
        {
          "output_type": "stream",
          "name": "stdout",
          "text": [
            "  Batch   950  of  1,907. Loss: 0.16942903399467468.   Elapsed: 0:08:44.\n",
            "0:  temCLS>42935 1 Bottle.  Pours a clear golden with a small white head\n"
          ]
        },
        {
          "output_type": "stream",
          "name": "stderr",
          "text": [
            "Setting `pad_token_id` to `eos_token_id`:50256 for open-end generation.\n"
          ]
        },
        {
          "output_type": "stream",
          "name": "stdout",
          "text": [
            "  Batch 1,000  of  1,907. Loss: 0.8714894652366638.   Elapsed: 0:09:12.\n",
            "0:  ClickCLS>29028 1 Bottle.  Pours a clear amber color with a small white\n"
          ]
        },
        {
          "output_type": "stream",
          "name": "stderr",
          "text": [
            "Setting `pad_token_id` to `eos_token_id`:50256 for open-end generation.\n"
          ]
        },
        {
          "output_type": "stream",
          "name": "stdout",
          "text": [
            "  Batch 1,050  of  1,907. Loss: 0.19690576195716858.   Elapsed: 0:09:40.\n",
            "0:  XVCLS>42935 1 Bottle. Pours a clear golden color with a thin white head\n"
          ]
        },
        {
          "output_type": "stream",
          "name": "stderr",
          "text": [
            "Setting `pad_token_id` to `eos_token_id`:50256 for open-end generation.\n"
          ]
        },
        {
          "output_type": "stream",
          "name": "stdout",
          "text": [
            "  Batch 1,100  of  1,907. Loss: 0.2924382984638214.   Elapsed: 0:10:07.\n",
            "0:  dormCLS>42935 1 Bottle.  Pours a clear golden color with a medium sized\n"
          ]
        },
        {
          "output_type": "stream",
          "name": "stderr",
          "text": [
            "Setting `pad_token_id` to `eos_token_id`:50256 for open-end generation.\n"
          ]
        },
        {
          "output_type": "stream",
          "name": "stdout",
          "text": [
            "  Batch 1,150  of  1,907. Loss: 0.12471206486225128.   Elapsed: 0:10:35.\n",
            "0:  upstreamCLS>2519 1 Bottle.  Pours a dark brown with a thin head.\n"
          ]
        },
        {
          "output_type": "stream",
          "name": "stderr",
          "text": [
            "Setting `pad_token_id` to `eos_token_id`:50256 for open-end generation.\n"
          ]
        },
        {
          "output_type": "stream",
          "name": "stdout",
          "text": [
            "  Batch 1,200  of  1,907. Loss: 0.10107682645320892.   Elapsed: 0:11:02.\n",
            "0: الCLS>65888 1 Bottle.  Pours a dark brown with a small head.\n"
          ]
        },
        {
          "output_type": "stream",
          "name": "stderr",
          "text": [
            "Setting `pad_token_id` to `eos_token_id`:50256 for open-end generation.\n"
          ]
        },
        {
          "output_type": "stream",
          "name": "stdout",
          "text": [
            "  Batch 1,250  of  1,907. Loss: 0.3371446430683136.   Elapsed: 0:11:30.\n",
            "0: ariaCLS>2519 1 Bottle.  Pours a clear amber color with a small,\n"
          ]
        },
        {
          "output_type": "stream",
          "name": "stderr",
          "text": [
            "Setting `pad_token_id` to `eos_token_id`:50256 for open-end generation.\n"
          ]
        },
        {
          "output_type": "stream",
          "name": "stdout",
          "text": [
            "  Batch 1,300  of  1,907. Loss: 0.33357977867126465.   Elapsed: 0:11:58.\n",
            "0: PGCLS>2519 1 Pours a dark amber color with a medium off white head.\n"
          ]
        },
        {
          "output_type": "stream",
          "name": "stderr",
          "text": [
            "Setting `pad_token_id` to `eos_token_id`:50256 for open-end generation.\n"
          ]
        },
        {
          "output_type": "stream",
          "name": "stdout",
          "text": [
            "  Batch 1,350  of  1,907. Loss: 0.15873660147190094.   Elapsed: 0:12:25.\n",
            "0: IllCLS>117319 1 Bottle.  Pours a dark brown with a medium sized\n"
          ]
        },
        {
          "output_type": "stream",
          "name": "stderr",
          "text": [
            "Setting `pad_token_id` to `eos_token_id`:50256 for open-end generation.\n"
          ]
        },
        {
          "output_type": "stream",
          "name": "stdout",
          "text": [
            "  Batch 1,400  of  1,907. Loss: 0.38324305415153503.   Elapsed: 0:12:53.\n",
            "0:  automatedCLS>42935 1 Pours a deep golden color with a small white head. \n"
          ]
        },
        {
          "output_type": "stream",
          "name": "stderr",
          "text": [
            "Setting `pad_token_id` to `eos_token_id`:50256 for open-end generation.\n"
          ]
        },
        {
          "output_type": "stream",
          "name": "stdout",
          "text": [
            "  Batch 1,450  of  1,907. Loss: 0.15153636038303375.   Elapsed: 0:13:20.\n",
            "0:  hiringCLS>46471 1 500 ml bottle.  Pours a clear golden with a small\n"
          ]
        },
        {
          "output_type": "stream",
          "name": "stderr",
          "text": [
            "Setting `pad_token_id` to `eos_token_id`:50256 for open-end generation.\n"
          ]
        },
        {
          "output_type": "stream",
          "name": "stdout",
          "text": [
            "  Batch 1,500  of  1,907. Loss: 0.11748252063989639.   Elapsed: 0:13:48.\n",
            "0:  tweetingCLS>42935 1 Bottle.  Pours a clear amber color with a small white\n"
          ]
        },
        {
          "output_type": "stream",
          "name": "stderr",
          "text": [
            "Setting `pad_token_id` to `eos_token_id`:50256 for open-end generation.\n"
          ]
        },
        {
          "output_type": "stream",
          "name": "stdout",
          "text": [
            "  Batch 1,550  of  1,907. Loss: 0.12340964376926422.   Elapsed: 0:14:16.\n",
            "0: abitCLS>42935 1 Bottle.  Pours a clear golden amber with a small white\n"
          ]
        },
        {
          "output_type": "stream",
          "name": "stderr",
          "text": [
            "Setting `pad_token_id` to `eos_token_id`:50256 for open-end generation.\n"
          ]
        },
        {
          "output_type": "stream",
          "name": "stdout",
          "text": [
            "  Batch 1,600  of  1,907. Loss: 0.14326415956020355.   Elapsed: 0:14:43.\n",
            "0:  iiCLS>42935 1 Bottle.  Pours a clear golden amber with a small white\n"
          ]
        },
        {
          "output_type": "stream",
          "name": "stderr",
          "text": [
            "Setting `pad_token_id` to `eos_token_id`:50256 for open-end generation.\n"
          ]
        },
        {
          "output_type": "stream",
          "name": "stdout",
          "text": [
            "  Batch 1,650  of  1,907. Loss: 0.28718385100364685.   Elapsed: 0:15:11.\n",
            "0: clipCLS>117319 1 Bottle.  Pours a deep dark brown color with a\n"
          ]
        },
        {
          "output_type": "stream",
          "name": "stderr",
          "text": [
            "Setting `pad_token_id` to `eos_token_id`:50256 for open-end generation.\n"
          ]
        },
        {
          "output_type": "stream",
          "name": "stdout",
          "text": [
            "  Batch 1,700  of  1,907. Loss: 0.21150924265384674.   Elapsed: 0:15:38.\n",
            "0:  FrancCLS>42935 1 Bottle from Trader Joes. Pours a clear golden amber color\n"
          ]
        },
        {
          "output_type": "stream",
          "name": "stderr",
          "text": [
            "Setting `pad_token_id` to `eos_token_id`:50256 for open-end generation.\n"
          ]
        },
        {
          "output_type": "stream",
          "name": "stdout",
          "text": [
            "  Batch 1,750  of  1,907. Loss: 0.1004801094532013.   Elapsed: 0:16:06.\n",
            "0:  listeningCLS>46471 1 Bottle. Pours a clear golden color with a small white head\n"
          ]
        },
        {
          "output_type": "stream",
          "name": "stderr",
          "text": [
            "Setting `pad_token_id` to `eos_token_id`:50256 for open-end generation.\n"
          ]
        },
        {
          "output_type": "stream",
          "name": "stdout",
          "text": [
            "  Batch 1,800  of  1,907. Loss: 0.22806894779205322.   Elapsed: 0:16:34.\n",
            "0:  EUCLS>42935 1 Bottle.  Pours a clear golden with a small white head\n"
          ]
        },
        {
          "output_type": "stream",
          "name": "stderr",
          "text": [
            "Setting `pad_token_id` to `eos_token_id`:50256 for open-end generation.\n"
          ]
        },
        {
          "output_type": "stream",
          "name": "stdout",
          "text": [
            "  Batch 1,850  of  1,907. Loss: 0.3169475197792053.   Elapsed: 0:17:01.\n",
            "0:  incredibleCLS>42935 1 Bottle.  Pours a clear golden with a thin white head\n"
          ]
        },
        {
          "output_type": "stream",
          "name": "stderr",
          "text": [
            "Setting `pad_token_id` to `eos_token_id`:50256 for open-end generation.\n"
          ]
        },
        {
          "output_type": "stream",
          "name": "stdout",
          "text": [
            "  Batch 1,900  of  1,907. Loss: 0.08072289079427719.   Elapsed: 0:17:29.\n",
            "0:  TYCLS>46471 1 Bottle. Pours a clear golden with a medium white head.\n",
            "\n",
            "  Average training loss: 0.24\n",
            "  Training epoch took: 0:17:33\n",
            "\n",
            "Running Validation...\n",
            "  Validation Loss: 0.38\n",
            "  Validation took: 0:01:18\n",
            "\n",
            "======== Epoch 5 / 5 ========\n",
            "Training...\n"
          ]
        },
        {
          "output_type": "stream",
          "name": "stderr",
          "text": [
            "Setting `pad_token_id` to `eos_token_id`:50256 for open-end generation.\n"
          ]
        },
        {
          "output_type": "stream",
          "name": "stdout",
          "text": [
            "  Batch    50  of  1,907. Loss: 0.18412181735038757.   Elapsed: 0:00:27.\n",
            "0:  230CLS>65888 1 Pours a clear brown color with a medium tan head. \n"
          ]
        },
        {
          "output_type": "stream",
          "name": "stderr",
          "text": [
            "Setting `pad_token_id` to `eos_token_id`:50256 for open-end generation.\n"
          ]
        },
        {
          "output_type": "stream",
          "name": "stdout",
          "text": [
            "  Batch   100  of  1,907. Loss: 0.3097003102302551.   Elapsed: 0:00:55.\n",
            "0:  TigersCLS>29028 1 Bottle.  Pours a hazy amber color with a small\n"
          ]
        },
        {
          "output_type": "stream",
          "name": "stderr",
          "text": [
            "Setting `pad_token_id` to `eos_token_id`:50256 for open-end generation.\n"
          ]
        },
        {
          "output_type": "stream",
          "name": "stdout",
          "text": [
            "  Batch   150  of  1,907. Loss: 0.17839258909225464.   Elapsed: 0:01:23.\n",
            "0: CDCLS>42935 1 Bottle. Pours a golden color with a small white head.\n"
          ]
        },
        {
          "output_type": "stream",
          "name": "stderr",
          "text": [
            "Setting `pad_token_id` to `eos_token_id`:50256 for open-end generation.\n"
          ]
        },
        {
          "output_type": "stream",
          "name": "stdout",
          "text": [
            "  Batch   200  of  1,907. Loss: 0.10700725018978119.   Elapsed: 0:01:50.\n",
            "0:  unbelievableCLS>29028 1 Bottle.  Pours a hazy amber color with a small\n"
          ]
        },
        {
          "output_type": "stream",
          "name": "stderr",
          "text": [
            "Setting `pad_token_id` to `eos_token_id`:50256 for open-end generation.\n"
          ]
        },
        {
          "output_type": "stream",
          "name": "stdout",
          "text": [
            "  Batch   250  of  1,907. Loss: 0.43990814685821533.   Elapsed: 0:02:18.\n",
            "0: RobertCLS>42935 1 Bottle. Pours a clear golden color with a small white head\n"
          ]
        },
        {
          "output_type": "stream",
          "name": "stderr",
          "text": [
            "Setting `pad_token_id` to `eos_token_id`:50256 for open-end generation.\n"
          ]
        },
        {
          "output_type": "stream",
          "name": "stdout",
          "text": [
            "  Batch   300  of  1,907. Loss: 0.2237934172153473.   Elapsed: 0:02:46.\n",
            "0:  ContactCLS>42935 1 Bottle. Pours clear golden with a small white head. A\n"
          ]
        },
        {
          "output_type": "stream",
          "name": "stderr",
          "text": [
            "Setting `pad_token_id` to `eos_token_id`:50256 for open-end generation.\n"
          ]
        },
        {
          "output_type": "stream",
          "name": "stdout",
          "text": [
            "  Batch   350  of  1,907. Loss: 0.17605900764465332.   Elapsed: 0:03:13.\n",
            "0:  fountainCLS>46471 1 Bottle.  Pours a clear golden with a small white head\n"
          ]
        },
        {
          "output_type": "stream",
          "name": "stderr",
          "text": [
            "Setting `pad_token_id` to `eos_token_id`:50256 for open-end generation.\n"
          ]
        },
        {
          "output_type": "stream",
          "name": "stdout",
          "text": [
            "  Batch   400  of  1,907. Loss: 0.08265814185142517.   Elapsed: 0:03:41.\n",
            "0:  clashCLS>42935 1 Bottle.  Pours a clear golden amber with a thin white\n"
          ]
        },
        {
          "output_type": "stream",
          "name": "stderr",
          "text": [
            "Setting `pad_token_id` to `eos_token_id`:50256 for open-end generation.\n"
          ]
        },
        {
          "output_type": "stream",
          "name": "stdout",
          "text": [
            "  Batch   450  of  1,907. Loss: 0.20255248248577118.   Elapsed: 0:04:08.\n",
            "0:  commodCLS>42935 1 Bottle.  Pours a clear golden amber with a small white\n"
          ]
        },
        {
          "output_type": "stream",
          "name": "stderr",
          "text": [
            "Setting `pad_token_id` to `eos_token_id`:50256 for open-end generation.\n"
          ]
        },
        {
          "output_type": "stream",
          "name": "stdout",
          "text": [
            "  Batch   500  of  1,907. Loss: 0.20235826075077057.   Elapsed: 0:04:36.\n",
            "0:  algorithmCLS>29028 1 Bottle.  Poured a hazy amber with a small off\n"
          ]
        },
        {
          "output_type": "stream",
          "name": "stderr",
          "text": [
            "Setting `pad_token_id` to `eos_token_id`:50256 for open-end generation.\n"
          ]
        },
        {
          "output_type": "stream",
          "name": "stdout",
          "text": [
            "  Batch   550  of  1,907. Loss: 0.3162059485912323.   Elapsed: 0:05:04.\n",
            "0:  accurateCLS>29028 1 Bottle.  Pours a hazy amber color with a small\n"
          ]
        },
        {
          "output_type": "stream",
          "name": "stderr",
          "text": [
            "Setting `pad_token_id` to `eos_token_id`:50256 for open-end generation.\n"
          ]
        },
        {
          "output_type": "stream",
          "name": "stdout",
          "text": [
            "  Batch   600  of  1,907. Loss: 0.23076437413692474.   Elapsed: 0:05:31.\n",
            "0: adoCLS>29028 1 Bottle.  Pours a hazy amber color with a small\n"
          ]
        },
        {
          "output_type": "stream",
          "name": "stderr",
          "text": [
            "Setting `pad_token_id` to `eos_token_id`:50256 for open-end generation.\n"
          ]
        },
        {
          "output_type": "stream",
          "name": "stdout",
          "text": [
            "  Batch   650  of  1,907. Loss: 0.192273810505867.   Elapsed: 0:05:59.\n",
            "0:  regulateCLS>29028 1 Bottle.  Pours a hazy amber color with a small\n"
          ]
        },
        {
          "output_type": "stream",
          "name": "stderr",
          "text": [
            "Setting `pad_token_id` to `eos_token_id`:50256 for open-end generation.\n"
          ]
        },
        {
          "output_type": "stream",
          "name": "stdout",
          "text": [
            "  Batch   700  of  1,907. Loss: 0.22442875802516937.   Elapsed: 0:06:26.\n",
            "0: ewayCLS>29028 1 Bottle.  Pours a hazy amber color with a small\n"
          ]
        },
        {
          "output_type": "stream",
          "name": "stderr",
          "text": [
            "Setting `pad_token_id` to `eos_token_id`:50256 for open-end generation.\n"
          ]
        },
        {
          "output_type": "stream",
          "name": "stdout",
          "text": [
            "  Batch   750  of  1,907. Loss: 0.1615660935640335.   Elapsed: 0:06:54.\n",
            "0: itteeCLS>42935 1 Pours a clear golden with a small white head.  A\n"
          ]
        },
        {
          "output_type": "stream",
          "name": "stderr",
          "text": [
            "Setting `pad_token_id` to `eos_token_id`:50256 for open-end generation.\n"
          ]
        },
        {
          "output_type": "stream",
          "name": "stdout",
          "text": [
            "  Batch   800  of  1,907. Loss: 0.22879692912101746.   Elapsed: 0:07:22.\n",
            "0:  JackieCLS>46471 1 Bottle. Golden color with a small white head. Aroma of\n"
          ]
        },
        {
          "output_type": "stream",
          "name": "stderr",
          "text": [
            "Setting `pad_token_id` to `eos_token_id`:50256 for open-end generation.\n"
          ]
        },
        {
          "output_type": "stream",
          "name": "stdout",
          "text": [
            "  Batch   850  of  1,907. Loss: 0.39991453289985657.   Elapsed: 0:07:49.\n",
            "0: HeCLS>42935 1 Bottle.  Pours a clear golden color with a medium sized\n"
          ]
        },
        {
          "output_type": "stream",
          "name": "stderr",
          "text": [
            "Setting `pad_token_id` to `eos_token_id`:50256 for open-end generation.\n"
          ]
        },
        {
          "output_type": "stream",
          "name": "stdout",
          "text": [
            "  Batch   900  of  1,907. Loss: 0.17474110424518585.   Elapsed: 0:08:17.\n",
            "0:  wiredCLS>29028 1 2005 bottle.  Pours a dark amber color with a small\n"
          ]
        },
        {
          "output_type": "stream",
          "name": "stderr",
          "text": [
            "Setting `pad_token_id` to `eos_token_id`:50256 for open-end generation.\n"
          ]
        },
        {
          "output_type": "stream",
          "name": "stdout",
          "text": [
            "  Batch   950  of  1,907. Loss: 0.15489700436592102.   Elapsed: 0:08:44.\n",
            "0:  frequCLS>42935 1 Bottle.  Pours a clear golden with a medium white head\n"
          ]
        },
        {
          "output_type": "stream",
          "name": "stderr",
          "text": [
            "Setting `pad_token_id` to `eos_token_id`:50256 for open-end generation.\n"
          ]
        },
        {
          "output_type": "stream",
          "name": "stdout",
          "text": [
            "  Batch 1,000  of  1,907. Loss: 0.6737091541290283.   Elapsed: 0:09:12.\n",
            "0:  viewsCLS>42935 1 Bottle.  Pours a clear golden color with a medium white\n"
          ]
        },
        {
          "output_type": "stream",
          "name": "stderr",
          "text": [
            "Setting `pad_token_id` to `eos_token_id`:50256 for open-end generation.\n"
          ]
        },
        {
          "output_type": "stream",
          "name": "stdout",
          "text": [
            "  Batch 1,050  of  1,907. Loss: 0.17113052308559418.   Elapsed: 0:09:40.\n",
            "0:  StrategyCLS>42935 1 Bottle. Pours a clear golden color with a medium white head\n"
          ]
        },
        {
          "output_type": "stream",
          "name": "stderr",
          "text": [
            "Setting `pad_token_id` to `eos_token_id`:50256 for open-end generation.\n"
          ]
        },
        {
          "output_type": "stream",
          "name": "stdout",
          "text": [
            "  Batch 1,100  of  1,907. Loss: 0.22294841706752777.   Elapsed: 0:10:07.\n",
            "0:  radioCLS>42935 1 Bottle. Pours a clear golden color with a medium white head\n"
          ]
        },
        {
          "output_type": "stream",
          "name": "stderr",
          "text": [
            "Setting `pad_token_id` to `eos_token_id`:50256 for open-end generation.\n"
          ]
        },
        {
          "output_type": "stream",
          "name": "stdout",
          "text": [
            "  Batch 1,150  of  1,907. Loss: 0.10802827775478363.   Elapsed: 0:10:35.\n",
            "0: oultCLS>42935 0 Bottle.  Pours a clear golden color with a thin white\n"
          ]
        },
        {
          "output_type": "stream",
          "name": "stderr",
          "text": [
            "Setting `pad_token_id` to `eos_token_id`:50256 for open-end generation.\n"
          ]
        },
        {
          "output_type": "stream",
          "name": "stdout",
          "text": [
            "  Batch 1,200  of  1,907. Loss: 0.09155299514532089.   Elapsed: 0:11:03.\n",
            "0:  ReinCLS>42935 1 Bottle.  Pours a clear golden color with a small white\n"
          ]
        },
        {
          "output_type": "stream",
          "name": "stderr",
          "text": [
            "Setting `pad_token_id` to `eos_token_id`:50256 for open-end generation.\n"
          ]
        },
        {
          "output_type": "stream",
          "name": "stdout",
          "text": [
            "  Batch 1,250  of  1,907. Loss: 0.2810986340045929.   Elapsed: 0:11:30.\n",
            "0:  procCLS>46471 1 Bottle.  Pours a clear golden color with a small white\n"
          ]
        },
        {
          "output_type": "stream",
          "name": "stderr",
          "text": [
            "Setting `pad_token_id` to `eos_token_id`:50256 for open-end generation.\n"
          ]
        },
        {
          "output_type": "stream",
          "name": "stdout",
          "text": [
            "  Batch 1,300  of  1,907. Loss: 0.2895773649215698.   Elapsed: 0:11:58.\n",
            "0:  abusesCLS>46471 1 Bottle.  Pours a clear golden orange with a white head\n"
          ]
        },
        {
          "output_type": "stream",
          "name": "stderr",
          "text": [
            "Setting `pad_token_id` to `eos_token_id`:50256 for open-end generation.\n"
          ]
        },
        {
          "output_type": "stream",
          "name": "stdout",
          "text": [
            "  Batch 1,350  of  1,907. Loss: 0.13035225868225098.   Elapsed: 0:12:25.\n",
            "0:  waCLS>46471 1 Bottle. Golden colour, small white head. Aroma is ho\n"
          ]
        },
        {
          "output_type": "stream",
          "name": "stderr",
          "text": [
            "Setting `pad_token_id` to `eos_token_id`:50256 for open-end generation.\n"
          ]
        },
        {
          "output_type": "stream",
          "name": "stdout",
          "text": [
            "  Batch 1,400  of  1,907. Loss: 0.29609814286231995.   Elapsed: 0:12:53.\n",
            "0: lectedCLS>46471 1 Bottle. Golden colour with a small white head. Aroma is\n"
          ]
        },
        {
          "output_type": "stream",
          "name": "stderr",
          "text": [
            "Setting `pad_token_id` to `eos_token_id`:50256 for open-end generation.\n"
          ]
        },
        {
          "output_type": "stream",
          "name": "stdout",
          "text": [
            "  Batch 1,450  of  1,907. Loss: 0.1185527816414833.   Elapsed: 0:13:21.\n",
            "0:  templeCLS>46471 1 Bottle.  Pours a clear golden orange with a white head\n"
          ]
        },
        {
          "output_type": "stream",
          "name": "stderr",
          "text": [
            "Setting `pad_token_id` to `eos_token_id`:50256 for open-end generation.\n"
          ]
        },
        {
          "output_type": "stream",
          "name": "stdout",
          "text": [
            "  Batch 1,500  of  1,907. Loss: 0.10077902674674988.   Elapsed: 0:13:48.\n",
            "0:  lodCLS>42935 1 Bottle.  Pours a clear golden color with a small white\n"
          ]
        },
        {
          "output_type": "stream",
          "name": "stderr",
          "text": [
            "Setting `pad_token_id` to `eos_token_id`:50256 for open-end generation.\n"
          ]
        },
        {
          "output_type": "stream",
          "name": "stdout",
          "text": [
            "  Batch 1,550  of  1,907. Loss: 0.09208613634109497.   Elapsed: 0:14:16.\n",
            "0:  RioCLS>42935 1 Bottle.  Pours a clear golden amber with a small white\n"
          ]
        },
        {
          "output_type": "stream",
          "name": "stderr",
          "text": [
            "Setting `pad_token_id` to `eos_token_id`:50256 for open-end generation.\n"
          ]
        },
        {
          "output_type": "stream",
          "name": "stdout",
          "text": [
            "  Batch 1,600  of  1,907. Loss: 0.1038927510380745.   Elapsed: 0:14:43.\n",
            "0:  PenceCLS>42935 1 Bottle.  Pours a clear golden amber with a small white\n"
          ]
        },
        {
          "output_type": "stream",
          "name": "stderr",
          "text": [
            "Setting `pad_token_id` to `eos_token_id`:50256 for open-end generation.\n"
          ]
        },
        {
          "output_type": "stream",
          "name": "stdout",
          "text": [
            "  Batch 1,650  of  1,907. Loss: 0.22477704286575317.   Elapsed: 0:15:11.\n",
            "0:  StevenCLS>42935 1 Bottle.  Pours a clear golden color with a small white\n"
          ]
        },
        {
          "output_type": "stream",
          "name": "stderr",
          "text": [
            "Setting `pad_token_id` to `eos_token_id`:50256 for open-end generation.\n"
          ]
        },
        {
          "output_type": "stream",
          "name": "stdout",
          "text": [
            "  Batch 1,700  of  1,907. Loss: 0.16425752639770508.   Elapsed: 0:15:39.\n",
            "0:  discourseCLS>42935 1 Bottle.  Pours a clear golden color with a small white\n"
          ]
        },
        {
          "output_type": "stream",
          "name": "stderr",
          "text": [
            "Setting `pad_token_id` to `eos_token_id`:50256 for open-end generation.\n"
          ]
        },
        {
          "output_type": "stream",
          "name": "stdout",
          "text": [
            "  Batch 1,750  of  1,907. Loss: 0.06811099499464035.   Elapsed: 0:16:06.\n",
            "0:  accessoryCLS>42935 1 Bottle.  Pours a clear golden color with a small white\n"
          ]
        },
        {
          "output_type": "stream",
          "name": "stderr",
          "text": [
            "Setting `pad_token_id` to `eos_token_id`:50256 for open-end generation.\n"
          ]
        },
        {
          "output_type": "stream",
          "name": "stdout",
          "text": [
            "  Batch 1,800  of  1,907. Loss: 0.1861092448234558.   Elapsed: 0:16:34.\n",
            "0: ulCLS>42935 1 Bottle.  Pours a clear golden color with a small white\n"
          ]
        },
        {
          "output_type": "stream",
          "name": "stderr",
          "text": [
            "Setting `pad_token_id` to `eos_token_id`:50256 for open-end generation.\n"
          ]
        },
        {
          "output_type": "stream",
          "name": "stdout",
          "text": [
            "  Batch 1,850  of  1,907. Loss: 0.20013566315174103.   Elapsed: 0:17:01.\n",
            "0:  slidingCLS>42935 1 Bottle.  Pours a clear golden color with a small white\n"
          ]
        },
        {
          "output_type": "stream",
          "name": "stderr",
          "text": [
            "Setting `pad_token_id` to `eos_token_id`:50256 for open-end generation.\n"
          ]
        },
        {
          "output_type": "stream",
          "name": "stdout",
          "text": [
            "  Batch 1,900  of  1,907. Loss: 0.06851405650377274.   Elapsed: 0:17:29.\n",
            "0:  DellCLS>46471 1 Bottle. Golden with a small white head. Aroma is ho\n",
            "\n",
            "  Average training loss: 0.20\n",
            "  Training epoch took: 0:17:33\n",
            "\n",
            "Running Validation...\n",
            "  Validation Loss: 0.41\n",
            "  Validation took: 0:01:18\n",
            "\n",
            "Training complete!\n",
            "Total training took 1:34:11 (h:mm:ss)\n"
          ]
        }
      ]
    },
    {
      "cell_type": "code",
      "source": [
        "### Prompty Tokens\n",
        "'''\n",
        "beerID  name                     \n",
        "42935\t   Trader Joes Hofbrau Bock\t\n",
        "43176\t  Trader Joes Vienna Style Lager\t\n",
        "46471\t  Ridgeway IPA\t\n",
        "65888\t  Saranac Brown Ale\t\n",
        "117319\tHarpoon 100 Barrel Series #30 - Island Creek Oyster Stout\t\n",
        "2519\t  Shipyard Chamberlain Pale Ale\t\n",
        "29028\t  De Hemel Nieuw Ligt Grand Cru\t\n",
        "3202\t  Penn Dark Lager Beer\t\n",
        "4302\t  Gearys London Porter\t\n",
        "56242\t  East End Gratitude\t\n",
        "\n",
        "Then 1 for good or 0 for bad\n",
        "'''\n",
        "\n",
        "beer = input('Enter a beer ID: ')\n",
        "rating = input('Review Good or Bad [1/0] ? ')\n",
        "\n"
      ],
      "metadata": {
        "colab": {
          "base_uri": "https://localhost:8080/"
        },
        "id": "bxJC13PIAvR6",
        "outputId": "5e47db5c-12fe-4808-bcd6-8e8c0593784d"
      },
      "execution_count": 15,
      "outputs": [
        {
          "name": "stdout",
          "output_type": "stream",
          "text": [
            "Enter a beer ID: 42935\n",
            "Review Good or Bad [1/0] ? 1\n"
          ]
        }
      ]
    },
    {
      "cell_type": "code",
      "source": [
        "model.eval()\n",
        "\n",
        "prompt_good = beer + \" 1\" + rating\n",
        "prompt_bad = beer + \" 1\" + rating\n",
        "\n",
        "generated = torch.tensor(tokenizer.encode(prompt_good)).unsqueeze(0)\n",
        "generated = generated.to(device)\n",
        "\n",
        "#print(generated)\n",
        "\n",
        "sample_outputs = model.generate(\n",
        "                                generated, \n",
        "                                #bos_token_id=random.randint(1,30000),\n",
        "                                do_sample=True,   \n",
        "                                top_k=50, \n",
        "                                max_length = 300,\n",
        "                                top_p=0.95, \n",
        "                                num_return_sequences=3\n",
        "                                )\n",
        "print('\\nGood reviews for the beer are:\\n')\n",
        "for i, sample_output in enumerate(sample_outputs):\n",
        "  print(\"{}: {}\\n\\n\".format(i, tokenizer.decode(sample_output, skip_special_tokens=True)))\n",
        "\n",
        "generated = torch.tensor(tokenizer.encode(prompt_bad)).unsqueeze(0)\n",
        "generated = generated.to(device)\n",
        "\n",
        "#print(generated)\n",
        "\n",
        "sample_outputs = model.generate(\n",
        "                                generated, \n",
        "                                #bos_token_id=random.randint(1,30000),\n",
        "                                do_sample=True,   \n",
        "                                top_k=50, \n",
        "                                max_length = 300,\n",
        "                                top_p=0.95, \n",
        "                                num_return_sequences=3\n",
        "                                )\n",
        "print('Bad reviews for the beer are:\\n')\n",
        "for i, sample_output in enumerate(sample_outputs):\n",
        "  print(\"{}: {}\\n\\n\".format(i, tokenizer.decode(sample_output, skip_special_tokens=True)))\n"
      ],
      "metadata": {
        "colab": {
          "base_uri": "https://localhost:8080/"
        },
        "id": "_PqASncvBjCz",
        "outputId": "41eebd17-6928-4702-a27e-c831092db799"
      },
      "execution_count": 21,
      "outputs": [
        {
          "output_type": "stream",
          "name": "stderr",
          "text": [
            "Setting `pad_token_id` to `eos_token_id`:50256 for open-end generation.\n",
            "Setting `pad_token_id` to `eos_token_id`:50256 for open-end generation.\n"
          ]
        },
        {
          "output_type": "stream",
          "name": "stdout",
          "text": [
            "Good reviews for the beer are:\n",
            "\n",
            "0: 42935 11.2 oz bottle. Aroma is sweet. Taste is sweet. A little sticky in the end. Well made stuff.<SEP>,.<SEPours3.42902904345610S 0290S>11S>43SS>43S>1129010S>3 (4S3. 34. Wow290290 (1SEPours290S2901143SEPours2903290 -311S>56S>3290S>56S-4S>10S>56S> 4PoursS>11290 (SEPoursS>25343S\tSells\t6511\n",
            "\n",
            "\n",
            "1: 42935 11.5 fl oz bottle.  Aroma is sweet, and slightly alcoholic.  Flavor is sweet, slightly alcoholic, a little bit chalky, and slightly bitter.<SEP>8a.\tS=S -3431143 -44293SEP\t4 a.290811:464 rottenSEPoursS11S.4645S>3SEP\t. SE\t464S>4SEPoursS<SEPours29046411. 10311290113290 (4430SEPoursSEP\tSEP\t3023\tSEPou3SEP>3.11\n",
            "\n",
            "\n",
            "2: 42935 11.2 fl oz bottle, courtesy of my friend Olga. Pours a rich, lightly hazy, dark-brown color with a white head. The aroma is sweet and floral. The taste is sweet and floral. Medium mouthfeel and finish. Pretty standard mouthfeel. Just ok.<SEP>6571 1  04329065290 rotten rotten29010S>464S>464 (S44242 (71.10SEPours2903<SEP\t290 (46429011SEP>11290S>429S>29043290,290,\t43242.88810429443: (SEPoursS>71464SEPours\n",
            "\n",
            "\n",
            "Bad reviews for the beer are:\n",
            "\n",
            "0: 42935 11.2 fl oz bottle, obtained in trade with boboski, at abv. most its a pretty decent brew with decent freshness and a sweet finish.<SEP>3888S>653242 -028e aromaS,3 (-S>114.53888888-464 (434644464A. 1290 brownSEP but4 1S.\t290S (SEP 7S  (471S>31154SEP<SEP>4644S>4SEP\t44SEP\tSEPours653\t3SEPours290302SEPours3\t\n",
            "\n",
            "\n",
            "1: 42935 11.2 oz bottle, courtesy of Bierkoning. 2005 bottle. Pours a transparent amber with a beige head. Nice malty aroma with caramel and biscuit with some dough. Lightish caramel and bready taste with bready and spicy. Light to medium body with lively carbonation and a high. Overall a nice malt profile without too much complexity. Good beer, but I need to rerate to get another one.<SEP>4. a3. S56 (8 Appearance as 0290SEP\tS>43290Pours43e and4-05 copper43;10 (SEP>3P>310434/1725 but I think I not but lightSEP>1165SEP>388833 a -igeSEP\n",
            "\n",
            "\n",
            "2: 42935 11/22/07  Pours a very clear amber color with small head.   Sweet fruity aroma with light roast and caramel notes.  Flavor is sweet fruity with light notes of caramel and fruit.  Light to medium body with light to medium-to- water.  Average duration with long bitter aftertaste.<SEP>, 3>433. 11.4344310.29028SEP>44/<SEP<SEP le25.S.2529020S> 146410.4 in,.a,302SEPoursS.290SEP>11SEPoursS>4SEPoursSEP\n",
            "\n",
            "\n"
          ]
        }
      ]
    },
    {
      "cell_type": "code",
      "source": [
        "# Saving best-practices: if you use defaults names for the model, you can reload it using from_pretrained()\n",
        "\n",
        "output_dir = './model_save/'\n",
        "\n",
        "# Create output directory if needed\n",
        "if not os.path.exists(output_dir):\n",
        "    os.makedirs(output_dir)\n",
        "\n",
        "print(\"Saving model to %s\" % output_dir)\n",
        "\n",
        "# Save a trained model, configuration and tokenizer using `save_pretrained()`.\n",
        "# They can then be reloaded using `from_pretrained()`\n",
        "model_to_save = model.module if hasattr(model, 'module') else model  # Take care of distributed/parallel training\n",
        "model_to_save.save_pretrained(output_dir)\n",
        "tokenizer.save_pretrained(output_dir)\n",
        "\n"
      ],
      "metadata": {
        "colab": {
          "base_uri": "https://localhost:8080/"
        },
        "id": "4Hr1C34uCT6o",
        "outputId": "b96711b3-ce96-4759-8b41-6cd08855c7fa"
      },
      "execution_count": 17,
      "outputs": [
        {
          "output_type": "stream",
          "name": "stdout",
          "text": [
            "Saving model to ./model_save/\n"
          ]
        },
        {
          "output_type": "execute_result",
          "data": {
            "text/plain": [
              "('./model_save/tokenizer_config.json',\n",
              " './model_save/special_tokens_map.json',\n",
              " './model_save/vocab.json',\n",
              " './model_save/merges.txt',\n",
              " './model_save/added_tokens.json')"
            ]
          },
          "metadata": {},
          "execution_count": 17
        }
      ]
    },
    {
      "cell_type": "code",
      "source": [
        "!zip -r /content/model_save.zip /content/model_save"
      ],
      "metadata": {
        "colab": {
          "base_uri": "https://localhost:8080/"
        },
        "id": "FtE_OeV6XkhU",
        "outputId": "1281fd41-e53a-4cc9-87d6-f0cef4337ba9"
      },
      "execution_count": 19,
      "outputs": [
        {
          "output_type": "stream",
          "name": "stdout",
          "text": [
            "  adding: content/model_save/ (stored 0%)\n",
            "  adding: content/model_save/tokenizer_config.json (deflated 65%)\n",
            "  adding: content/model_save/pytorch_model.bin (deflated 9%)\n",
            "  adding: content/model_save/merges.txt (deflated 53%)\n",
            "  adding: content/model_save/config.json (deflated 51%)\n",
            "  adding: content/model_save/vocab.json (deflated 63%)\n",
            "  adding: content/model_save/special_tokens_map.json (deflated 69%)\n",
            "  adding: content/model_save/added_tokens.json (stored 0%)\n"
          ]
        }
      ]
    },
    {
      "cell_type": "code",
      "source": [
        "from google.colab import files\n",
        "files.download(\"/content/model_save.zip\")"
      ],
      "metadata": {
        "colab": {
          "base_uri": "https://localhost:8080/",
          "height": 17
        },
        "id": "gwAUjL-YXyAh",
        "outputId": "b71ff7ca-2cea-4bd8-d177-5203888de14a"
      },
      "execution_count": 20,
      "outputs": [
        {
          "output_type": "display_data",
          "data": {
            "text/plain": [
              "<IPython.core.display.Javascript object>"
            ],
            "application/javascript": [
              "\n",
              "    async function download(id, filename, size) {\n",
              "      if (!google.colab.kernel.accessAllowed) {\n",
              "        return;\n",
              "      }\n",
              "      const div = document.createElement('div');\n",
              "      const label = document.createElement('label');\n",
              "      label.textContent = `Downloading \"${filename}\": `;\n",
              "      div.appendChild(label);\n",
              "      const progress = document.createElement('progress');\n",
              "      progress.max = size;\n",
              "      div.appendChild(progress);\n",
              "      document.body.appendChild(div);\n",
              "\n",
              "      const buffers = [];\n",
              "      let downloaded = 0;\n",
              "\n",
              "      const channel = await google.colab.kernel.comms.open(id);\n",
              "      // Send a message to notify the kernel that we're ready.\n",
              "      channel.send({})\n",
              "\n",
              "      for await (const message of channel.messages) {\n",
              "        // Send a message to notify the kernel that we're ready.\n",
              "        channel.send({})\n",
              "        if (message.buffers) {\n",
              "          for (const buffer of message.buffers) {\n",
              "            buffers.push(buffer);\n",
              "            downloaded += buffer.byteLength;\n",
              "            progress.value = downloaded;\n",
              "          }\n",
              "        }\n",
              "      }\n",
              "      const blob = new Blob(buffers, {type: 'application/binary'});\n",
              "      const a = document.createElement('a');\n",
              "      a.href = window.URL.createObjectURL(blob);\n",
              "      a.download = filename;\n",
              "      div.appendChild(a);\n",
              "      a.click();\n",
              "      div.remove();\n",
              "    }\n",
              "  "
            ]
          },
          "metadata": {}
        },
        {
          "output_type": "display_data",
          "data": {
            "text/plain": [
              "<IPython.core.display.Javascript object>"
            ],
            "application/javascript": [
              "download(\"download_24b5e64a-e81e-4cce-941d-d6b78154f144\", \"model_save.zip\", 463090192)"
            ]
          },
          "metadata": {}
        }
      ]
    }
  ]
}